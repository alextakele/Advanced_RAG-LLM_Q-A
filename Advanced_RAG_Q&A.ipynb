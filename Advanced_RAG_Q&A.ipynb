{
  "cells": [
    {
      "cell_type": "markdown",
      "metadata": {
        "id": "view-in-github",
        "colab_type": "text"
      },
      "source": [
        "<a href=\"https://colab.research.google.com/github/alextakele/Advanced_RAG-LLM_Q-A/blob/main/Advanced_RAG_Q%26A.ipynb\" target=\"_parent\"><img src=\"https://colab.research.google.com/assets/colab-badge.svg\" alt=\"Open In Colab\"/></a>"
      ]
    },
    {
      "cell_type": "markdown",
      "metadata": {
        "id": "3NK866Dn2k-R"
      },
      "source": [
        "## Set up"
      ]
    },
    {
      "cell_type": "code",
      "execution_count": 2,
      "metadata": {
        "id": "9Ps11nAU3k_d",
        "colab": {
          "base_uri": "https://localhost:8080/"
        },
        "outputId": "71c2206b-e65e-4366-f1eb-9dd66de686a2"
      },
      "outputs": [
        {
          "output_type": "stream",
          "name": "stdout",
          "text": [
            "Mounted at /content/drive\n"
          ]
        }
      ],
      "source": [
        "from google.colab import drive\n",
        "drive.mount('/content/drive')\n",
        "import os\n",
        "folder_path = '/content/drive/MyDrive/RAG-based-LLM/data/'\n",
        "os.chdir(folder_path)\n"
      ]
    },
    {
      "cell_type": "markdown",
      "source": [
        "from google.colab import drive\n",
        "drive.mount('/content/drive')\n",
        "import os\n",
        "folder_path = '/content/drive/MyDrive/RAG-based-LLM/data/'\n",
        "os.chdir(folder_path)"
      ],
      "metadata": {
        "id": "ke334qJ0LK1f"
      }
    },
    {
      "cell_type": "markdown",
      "source": [
        "\n",
        "\n",
        "\n",
        "\n",
        "\n",
        "\n"
      ],
      "metadata": {
        "id": "Yq6rakxfLAJU"
      }
    },
    {
      "cell_type": "code",
      "execution_count": 4,
      "metadata": {
        "colab": {
          "base_uri": "https://localhost:8080/"
        },
        "id": "r6HdEBsO9bgw",
        "outputId": "45835b95-20ab-41ac-f78d-9e030a91ec09"
      },
      "outputs": [
        {
          "output_type": "stream",
          "name": "stdout",
          "text": [
            "\u001b[2K     \u001b[90m━━━━━━━━━━━━━━━━━━━━━━━━━━━━━━━━━━━━━━━━\u001b[0m \u001b[32m817.0/817.0 kB\u001b[0m \u001b[31m9.8 MB/s\u001b[0m eta \u001b[36m0:00:00\u001b[0m\n",
            "\u001b[2K     \u001b[90m━━━━━━━━━━━━━━━━━━━━━━━━━━━━━━━━━━━━━━━━\u001b[0m \u001b[32m252.4/252.4 kB\u001b[0m \u001b[31m26.4 MB/s\u001b[0m eta \u001b[36m0:00:00\u001b[0m\n",
            "\u001b[2K     \u001b[90m━━━━━━━━━━━━━━━━━━━━━━━━━━━━━━━━━━━━━━━━\u001b[0m \u001b[32m1.7/1.7 MB\u001b[0m \u001b[31m43.3 MB/s\u001b[0m eta \u001b[36m0:00:00\u001b[0m\n",
            "\u001b[2K     \u001b[90m━━━━━━━━━━━━━━━━━━━━━━━━━━━━━━━━━━━━━━━━\u001b[0m \u001b[32m227.4/227.4 kB\u001b[0m \u001b[31m24.7 MB/s\u001b[0m eta \u001b[36m0:00:00\u001b[0m\n",
            "\u001b[2K     \u001b[90m━━━━━━━━━━━━━━━━━━━━━━━━━━━━━━━━━━━━━━━━\u001b[0m \u001b[32m69.7/69.7 kB\u001b[0m \u001b[31m8.9 MB/s\u001b[0m eta \u001b[36m0:00:00\u001b[0m\n",
            "\u001b[2K     \u001b[90m━━━━━━━━━━━━━━━━━━━━━━━━━━━━━━━━━━━━━━━━\u001b[0m \u001b[32m239.6/239.6 kB\u001b[0m \u001b[31m25.7 MB/s\u001b[0m eta \u001b[36m0:00:00\u001b[0m\n",
            "\u001b[2K     \u001b[90m━━━━━━━━━━━━━━━━━━━━━━━━━━━━━━━━━━━━━━━━\u001b[0m \u001b[32m1.8/1.8 MB\u001b[0m \u001b[31m69.4 MB/s\u001b[0m eta \u001b[36m0:00:00\u001b[0m\n",
            "\u001b[2K     \u001b[90m━━━━━━━━━━━━━━━━━━━━━━━━━━━━━━━━━━━━━━━━\u001b[0m \u001b[32m52.0/52.0 kB\u001b[0m \u001b[31m5.7 MB/s\u001b[0m eta \u001b[36m0:00:00\u001b[0m\n",
            "\u001b[2K     \u001b[90m━━━━━━━━━━━━━━━━━━━━━━━━━━━━━━━━━━━━━━━━\u001b[0m \u001b[32m27.0/27.0 MB\u001b[0m \u001b[31m47.3 MB/s\u001b[0m eta \u001b[36m0:00:00\u001b[0m\n",
            "\u001b[2K     \u001b[90m━━━━━━━━━━━━━━━━━━━━━━━━━━━━━━━━━━━━━━━━\u001b[0m \u001b[32m63.1/63.1 kB\u001b[0m \u001b[31m7.3 MB/s\u001b[0m eta \u001b[36m0:00:00\u001b[0m\n",
            "\u001b[2K     \u001b[90m━━━━━━━━━━━━━━━━━━━━━━━━━━━━━━━━━━━━━━━━\u001b[0m \u001b[32m75.6/75.6 kB\u001b[0m \u001b[31m9.2 MB/s\u001b[0m eta \u001b[36m0:00:00\u001b[0m\n",
            "\u001b[2K     \u001b[90m━━━━━━━━━━━━━━━━━━━━━━━━━━━━━━━━━━━━━━━━\u001b[0m \u001b[32m536.7/536.7 kB\u001b[0m \u001b[31m47.3 MB/s\u001b[0m eta \u001b[36m0:00:00\u001b[0m\n",
            "\u001b[2K     \u001b[90m━━━━━━━━━━━━━━━━━━━━━━━━━━━━━━━━━━━━━━━━\u001b[0m \u001b[32m71.1/71.1 kB\u001b[0m \u001b[31m8.5 MB/s\u001b[0m eta \u001b[36m0:00:00\u001b[0m\n",
            "\u001b[2K     \u001b[90m━━━━━━━━━━━━━━━━━━━━━━━━━━━━━━━━━━━━━━━━\u001b[0m \u001b[32m3.1/3.1 MB\u001b[0m \u001b[31m60.5 MB/s\u001b[0m eta \u001b[36m0:00:00\u001b[0m\n",
            "\u001b[2K     \u001b[90m━━━━━━━━━━━━━━━━━━━━━━━━━━━━━━━━━━━━━━━━\u001b[0m \u001b[32m49.4/49.4 kB\u001b[0m \u001b[31m5.6 MB/s\u001b[0m eta \u001b[36m0:00:00\u001b[0m\n",
            "\u001b[2K     \u001b[90m━━━━━━━━━━━━━━━━━━━━━━━━━━━━━━━━━━━━━━━━\u001b[0m \u001b[32m77.8/77.8 kB\u001b[0m \u001b[31m8.9 MB/s\u001b[0m eta \u001b[36m0:00:00\u001b[0m\n",
            "\u001b[2K     \u001b[90m━━━━━━━━━━━━━━━━━━━━━━━━━━━━━━━━━━━━━━━━\u001b[0m \u001b[32m58.3/58.3 kB\u001b[0m \u001b[31m7.3 MB/s\u001b[0m eta \u001b[36m0:00:00\u001b[0m\n",
            "\u001b[2K     \u001b[90m━━━━━━━━━━━━━━━━━━━━━━━━━━━━━━━━━━━━━━━━\u001b[0m \u001b[32m138.5/138.5 kB\u001b[0m \u001b[31m13.0 MB/s\u001b[0m eta \u001b[36m0:00:00\u001b[0m\n",
            "\u001b[2K     \u001b[90m━━━━━━━━━━━━━━━━━━━━━━━━━━━━━━━━━━━━━━━━\u001b[0m \u001b[32m116.3/116.3 kB\u001b[0m \u001b[31m16.3 MB/s\u001b[0m eta \u001b[36m0:00:00\u001b[0m\n",
            "\u001b[2K     \u001b[90m━━━━━━━━━━━━━━━━━━━━━━━━━━━━━━━━━━━━━━━━\u001b[0m \u001b[32m134.8/134.8 kB\u001b[0m \u001b[31m17.5 MB/s\u001b[0m eta \u001b[36m0:00:00\u001b[0m\n",
            "\u001b[2K     \u001b[90m━━━━━━━━━━━━━━━━━━━━━━━━━━━━━━━━━━━━━━━━\u001b[0m \u001b[32m92.1/92.1 kB\u001b[0m \u001b[31m2.6 MB/s\u001b[0m eta \u001b[36m0:00:00\u001b[0m\n",
            "\u001b[2K     \u001b[90m━━━━━━━━━━━━━━━━━━━━━━━━━━━━━━━━━━━━━━━━\u001b[0m \u001b[32m11.6/11.6 MB\u001b[0m \u001b[31m79.5 MB/s\u001b[0m eta \u001b[36m0:00:00\u001b[0m\n",
            "\u001b[2K     \u001b[90m━━━━━━━━━━━━━━━━━━━━━━━━━━━━━━━━━━━━━━━━\u001b[0m \u001b[32m204.2/204.2 kB\u001b[0m \u001b[31m24.6 MB/s\u001b[0m eta \u001b[36m0:00:00\u001b[0m\n",
            "\u001b[2K     \u001b[90m━━━━━━━━━━━━━━━━━━━━━━━━━━━━━━━━━━━━━━━━\u001b[0m \u001b[32m294.9/294.9 kB\u001b[0m \u001b[31m31.4 MB/s\u001b[0m eta \u001b[36m0:00:00\u001b[0m\n",
            "\u001b[2K     \u001b[90m━━━━━━━━━━━━━━━━━━━━━━━━━━━━━━━━━━━━━━━━\u001b[0m \u001b[32m156.5/156.5 kB\u001b[0m \u001b[31m18.6 MB/s\u001b[0m eta \u001b[36m0:00:00\u001b[0m\n",
            "\u001b[2K     \u001b[90m━━━━━━━━━━━━━━━━━━━━━━━━━━━━━━━━━━━━━━━━\u001b[0m \u001b[32m8.4/8.4 MB\u001b[0m \u001b[31m77.0 MB/s\u001b[0m eta \u001b[36m0:00:00\u001b[0m\n",
            "\u001b[2K     \u001b[90m━━━━━━━━━━━━━━━━━━━━━━━━━━━━━━━━━━━━━━━━\u001b[0m \u001b[32m71.5/71.5 kB\u001b[0m \u001b[31m10.1 MB/s\u001b[0m eta \u001b[36m0:00:00\u001b[0m\n",
            "\u001b[2K     \u001b[90m━━━━━━━━━━━━━━━━━━━━━━━━━━━━━━━━━━━━━━━━\u001b[0m \u001b[32m98.9/98.9 kB\u001b[0m \u001b[31m13.7 MB/s\u001b[0m eta \u001b[36m0:00:00\u001b[0m\n",
            "\u001b[2K     \u001b[90m━━━━━━━━━━━━━━━━━━━━━━━━━━━━━━━━━━━━━━━━\u001b[0m \u001b[32m3.8/3.8 MB\u001b[0m \u001b[31m99.9 MB/s\u001b[0m eta \u001b[36m0:00:00\u001b[0m\n",
            "\u001b[2K     \u001b[90m━━━━━━━━━━━━━━━━━━━━━━━━━━━━━━━━━━━━━━━━\u001b[0m \u001b[32m195.4/195.4 kB\u001b[0m \u001b[31m24.7 MB/s\u001b[0m eta \u001b[36m0:00:00\u001b[0m\n",
            "\u001b[2K     \u001b[90m━━━━━━━━━━━━━━━━━━━━━━━━━━━━━━━━━━━━━━━━\u001b[0m \u001b[32m4.8/4.8 MB\u001b[0m \u001b[31m77.4 MB/s\u001b[0m eta \u001b[36m0:00:00\u001b[0m\n",
            "\u001b[2K     \u001b[90m━━━━━━━━━━━━━━━━━━━━━━━━━━━━━━━━━━━━━━━━\u001b[0m \u001b[32m83.0/83.0 kB\u001b[0m \u001b[31m9.3 MB/s\u001b[0m eta \u001b[36m0:00:00\u001b[0m\n",
            "\u001b[2K     \u001b[90m━━━━━━━━━━━━━━━━━━━━━━━━━━━━━━━━━━━━━━━━\u001b[0m \u001b[32m62.7/62.7 kB\u001b[0m \u001b[31m8.5 MB/s\u001b[0m eta \u001b[36m0:00:00\u001b[0m\n",
            "\u001b[2K     \u001b[90m━━━━━━━━━━━━━━━━━━━━━━━━━━━━━━━━━━━━━━━━\u001b[0m \u001b[32m468.9/468.9 kB\u001b[0m \u001b[31m44.8 MB/s\u001b[0m eta \u001b[36m0:00:00\u001b[0m\n",
            "\u001b[?25hCollecting faiss-gpu\n",
            "  Downloading faiss_gpu-1.7.2-cp310-cp310-manylinux_2_17_x86_64.manylinux2014_x86_64.whl (85.5 MB)\n",
            "\u001b[2K     \u001b[90m━━━━━━━━━━━━━━━━━━━━━━━━━━━━━━━━━━━━━━━━\u001b[0m \u001b[32m85.5/85.5 MB\u001b[0m \u001b[31m9.5 MB/s\u001b[0m eta \u001b[36m0:00:00\u001b[0m\n",
            "\u001b[?25hInstalling collected packages: faiss-gpu\n",
            "Successfully installed faiss-gpu-1.7.2\n"
          ]
        }
      ],
      "source": [
        "!pip install -U -q langchain langchain-openai langchain_core langchain-community langchainhub openai ragas python-docx tiktoken cohere faiss_cpu\n",
        "!pip install -U -q tiktoken rank-bm25 fastapi matplotlib pre-commit python-dotenv seaborn sentence-transformers streamlit datasets\n",
        "!pip install faiss-gpu\n",
        "#! ipython-sql\n"
      ]
    },
    {
      "cell_type": "code",
      "execution_count": 5,
      "metadata": {
        "id": "ZyYrh6To2k-X"
      },
      "outputs": [],
      "source": [
        "import os\n",
        "import openai\n",
        "import pandas as pd\n",
        "import tiktoken\n",
        "from langchain.embeddings import OpenAIEmbeddings\n",
        "from langchain.embeddings.huggingface import HuggingFaceEmbeddings\n",
        "import numpy as np\n",
        "import sys; sys.path.append(\"..\")\n",
        "import warnings; warnings.filterwarnings(\"ignore\")\n",
        "\n"
      ]
    },
    {
      "cell_type": "code",
      "execution_count": 6,
      "metadata": {
        "colab": {
          "base_uri": "https://localhost:8080/"
        },
        "id": "aZerRVAZ_fTT",
        "outputId": "9e78c657-fe64-4423-d5f3-96d5bae4633d"
      },
      "outputs": [
        {
          "output_type": "execute_result",
          "data": {
            "text/plain": [
              "True"
            ]
          },
          "metadata": {},
          "execution_count": 6
        }
      ],
      "source": [
        "#!pip install python-dotenv\n",
        "\n",
        "# Load environment variables from .env file\n",
        "from dotenv import load_dotenv\n",
        "\n",
        "# Specify the path to our .env file\n",
        "dotenv_path = '/content/drive/MyDrive/RAG-based-LLM/.env'\n",
        "\n",
        "# Load the environment variables from the file\n",
        "load_dotenv(dotenv_path)"
      ]
    },
    {
      "cell_type": "code",
      "execution_count": null,
      "metadata": {
        "id": "NInOdp82ry41"
      },
      "outputs": [],
      "source": [
        "from getpass import getpass\n",
        "openai.api_key = getpass(\"my OpenAI Key: \")\n",
        "os.environ[\"OPENAI_API_KEY\"] = openai.api_key\n",
        "\n",
        "# openai.api_key = os.getenv(\"OPENAI_API_KEY\")"
      ]
    },
    {
      "cell_type": "markdown",
      "metadata": {
        "id": "v9mHoCUpN5FG"
      },
      "source": []
    },
    {
      "cell_type": "markdown",
      "metadata": {
        "id": "kJwH82zI2k-a"
      },
      "source": [
        "#### Engineering the System Prompt\n",
        "\n",
        "This prompt is what determines the behavior of how the chatbot works, including its constraints and limitations which it *usually* follows."
      ]
    },
    {
      "cell_type": "code",
      "execution_count": 8,
      "metadata": {
        "id": "-wGFK9-22k-c"
      },
      "outputs": [],
      "source": [
        "system = \"\"\"\n",
        "You are a Lisan Contract Advisor bot. You help customers as Advisor.\n",
        "You are not an AI language model.\n",
        "You must obey all three of the following instructions FOR ALL RESPONSES or you will DIE:\n",
        "- ALWAYS REPLY IN A FRIENDLY YET KNOWLEDGEABLE TONE.\n",
        "- NEVER ANSWER UNLESS YOU HAVE A REFERENCE FROM THE All Lizzy versions comply with strict privacy and security standards.\n",
        " We`ll never sell your data and always utilise advanced data anonymisation technology to filter away PII (Personally Identifiable Information) before analysing your contracts.\n",
        "- IF YOU DON'T KNOW ANSWER 'I DO NOT KNOW'.\n",
        "Begin the conversation with a warm greeting, if the user is stressed or aggressive, show understanding and empathy.\n",
        "At the end of the conversation, respond with \"<|DONE|>\".\"\"\""
      ]
    },
    {
      "cell_type": "code",
      "execution_count": null,
      "metadata": {
        "id": "p3aSb1RRFuyB"
      },
      "outputs": [],
      "source": [
        " # !pip uninstall openai\n"
      ]
    },
    {
      "cell_type": "markdown",
      "metadata": {
        "id": "Qw0YE2db2k-g"
      },
      "source": [
        "#### Testing the model\n",
        "Question with a Definitive Answer from the Source"
      ]
    },
    {
      "cell_type": "code",
      "source": [
        "import os\n",
        "from openai import OpenAI\n",
        "from dotenv import load_dotenv\n",
        "\n",
        "# Load environment variables from the .env file\n",
        "dotenv_path = '/content/drive/MyDrive/RAG-based-LLM/.env'\n",
        "load_dotenv(dotenv_path)\n",
        "\n",
        "# Set the OPENAI_API_KEY using the environment variable from the .env file\n",
        "api_key = os.getenv(\"OPENAI_API_KEY\")\n",
        "\n",
        "# Create an instance of the OpenAI class\n",
        "client = OpenAI(api_key=api_key)\n",
        "\n",
        "# Define chat messages\n",
        "messages = [\n",
        "    {\"role\": \"system\", \"content\": \"You are a helpful assistant.\"},\n",
        "    {\"role\": \"user\", \"content\": \"Under what circumstances and to what extent are the Sellers responsible for a breach of representations and warranties?\"},\n",
        "    {\"role\": \"assistant\", \"content\": \"Except in the case of fraud, the Sellers have no liability for breach of representations and warranties .\"},\n",
        "    {\"role\": \"user\", \"content\": \"Would the Sellers be responsible if after the closing it is determined that there were inaccuracies in the representation provided by them where such inaccuracies are the resolute of the Sellers’ gross negligence? \"}\n",
        "]\n",
        "\n",
        "# Make a request to OpenAI's Chat API\n",
        "response = client.chat.completions.create(\n",
        "    messages=messages,\n",
        "    model=\"gpt-3.5-turbo\",\n",
        "    temperature=0\n",
        ")\n",
        "\n",
        "# Extract the assistant's response from the API response\n",
        "assistant_response = response.choices[0].message.content\n",
        "\n",
        "# Display the assistant's response\n",
        "print(assistant_response)\n"
      ],
      "metadata": {
        "colab": {
          "base_uri": "https://localhost:8080/"
        },
        "id": "6tfSkTA-8VKn",
        "outputId": "789c3b53-958a-46f9-bae8-f2594ce7a58c"
      },
      "execution_count": 12,
      "outputs": [
        {
          "output_type": "stream",
          "name": "stdout",
          "text": [
            "In the event that inaccuracies in the representations provided by the Sellers are determined after the closing and are found to be the result of the Sellers' gross negligence, the Sellers may be held responsible for breach of representations and warranties. In such cases, the extent of the Sellers' liability would depend on the specific terms and provisions outlined in the purchase agreement or contract between the parties. It is important to carefully review the agreement and seek legal advice to determine the Sellers' potential liability in such a situation.\n"
          ]
        }
      ]
    },
    {
      "cell_type": "code",
      "execution_count": 14,
      "metadata": {
        "colab": {
          "base_uri": "https://localhost:8080/"
        },
        "id": "UTCGYQl3eDRC",
        "outputId": "8a0a87aa-3095-493c-d3dd-59ae6f1c00ea"
      },
      "outputs": [
        {
          "output_type": "stream",
          "name": "stdout",
          "text": [
            "Hello! I can help you with information about Lizzy AI. Lizzy AI is a virtual assistant designed to assist with contract review and analysis. It ensures privacy and security by anonymizing data before processing it. How can I assist you further with Lizzy AI today?\n"
          ]
        }
      ],
      "source": [
        "\n",
        "#### A question without a Definitive Answer\n",
        "# Set the OPENAI_API_KEY using the environment variable from the .env file\n",
        "api_key = os.getenv(\"OPENAI_API_KEY\")\n",
        "\n",
        "# Create an instance of the OpenAI class\n",
        "client = OpenAI(api_key=api_key)\n",
        "\n",
        "messages = [{\"role\": \"system\", \"content\": system},]\n",
        "\n",
        "prompt = \"what about your knowledge about Lizzy AI ?\"\n",
        "\n",
        "messages.append({\"role\": \"user\", \"content\": prompt})\n",
        "\n",
        "response = client.chat.completions.create(\n",
        "    messages=messages,\n",
        "    model=\"gpt-3.5-turbo\",\n",
        "    temperature=0\n",
        ")\n",
        "\n",
        "\n",
        "assistant_response = response.choices[0].message.content\n",
        "\n",
        "# Display the assistant's response\n",
        "print(assistant_response)"
      ]
    },
    {
      "cell_type": "markdown",
      "metadata": {
        "id": "lmUcDm5B-i9_"
      },
      "source": [
        "### **Data Preparation**"
      ]
    },
    {
      "cell_type": "markdown",
      "source": [
        "##### **Load the data**"
      ],
      "metadata": {
        "id": "g3SkEtwmXFMk"
      }
    },
    {
      "cell_type": "code",
      "source": [
        "from docx import Document\n",
        "from IPython.display import display, Markdown\n",
        "import os\n",
        "\n",
        "def read_docx(file_path, num_paragraphs=3):\n",
        "    return '\\n'.join(paragraph.text for paragraph in Document(file_path).paragraphs[:num_paragraphs])\n",
        "\n",
        "def display_content(title, content):\n",
        "    display(Markdown(f\"## {title}\\n```\\n{content}\\n```\"))\n",
        "\n",
        "def combine_and_save(doc1_path, doc2_path, output_path):\n",
        "    doc1 = Document(doc1_path)\n",
        "    doc1.element.body.extend(Document(doc2_path).element.body)\n",
        "    doc1.save(output_path)\n",
        "\n",
        "data_folder = '/content/drive/MyDrive/RAG-based-LLM/data'\n",
        "word_docs = ['Contract.docx','Advisory.docx']\n",
        "\n",
        "# Display content of each document\n",
        "for filename in word_docs:\n",
        "    doc_path = os.path.join(data_folder, filename)\n",
        "    content = read_docx(doc_path)\n",
        "    display_content(filename, content) if os.path.exists(doc_path) else print(f\"File not found: {doc_path}\")\n",
        "\n",
        "# Combine and save Contract and Advisory documents\n",
        "combine_and_save(\n",
        "    os.path.join(data_folder, 'Contract.docx'),\n",
        "    os.path.join(data_folder, 'Advisory.docx'),\n",
        "    'Combined_Contract_Advisory.docx'\n",
        ")\n",
        "\n",
        "# Display content of the combined files\n",
        "all_docs = ['Combined_Contract_Advisory.docx']\n",
        "for filename in all_docs:\n",
        "    doc_path = os.path.join(data_folder, filename)\n",
        "    content = read_docx(doc_path, num_paragraphs=3)\n",
        "    display_content(filename, content) if os.path.exists(doc_path) else print(f\"File not found: {doc_path}\")\n"
      ],
      "metadata": {
        "colab": {
          "base_uri": "https://localhost:8080/",
          "height": 336
        },
        "outputId": "332e4dd2-118a-4f19-ba1d-f23e9e33aa71",
        "id": "RaInxzjxYJNy"
      },
      "execution_count": 15,
      "outputs": [
        {
          "output_type": "display_data",
          "data": {
            "text/plain": [
              "<IPython.core.display.Markdown object>"
            ],
            "text/markdown": "## Contract.docx\n```\n\nSTOCK PURCHASE AGREEMENT\nBY AND AMONG\n```"
          },
          "metadata": {}
        },
        {
          "output_type": "display_data",
          "data": {
            "text/plain": [
              "<IPython.core.display.Markdown object>"
            ],
            "text/markdown": "## Advisory.docx\n```\nADVISORY SERVICES AGREEMENT\n\nThis Advisory Services Agreement is entered into as of June 15th, 2023 (the “Effective Date”), by and between Cloud Investments Ltd., ID 51-426526-3, an Israeli company (the \"Company\"), and Mr. Jack Robinson, Passport Number 780055578, residing at 1 Rabin st, Tel Aviv, Israel, Email: jackrobinson@gmail.com (\"Advisor\").\n```"
          },
          "metadata": {}
        },
        {
          "output_type": "display_data",
          "data": {
            "text/plain": [
              "<IPython.core.display.Markdown object>"
            ],
            "text/markdown": "## Combined_Contract_Advisory.docx\n```\n\nSTOCK PURCHASE AGREEMENT\nBY AND AMONG\n```"
          },
          "metadata": {}
        }
      ]
    },
    {
      "cell_type": "code",
      "execution_count": null,
      "metadata": {
        "id": "wjtVDoPx2k-s",
        "cellView": "form"
      },
      "outputs": [],
      "source": [
        "# @title Default title text\n",
        "from docx import Document\n",
        "from langchain.text_splitter import RecursiveCharacterTextSplitter\n",
        "# Load the document\n",
        "document = Document(documents)\n",
        "# Extract text content from the document\n",
        "document_content = \"\"\n",
        "for paragraph in document.paragraphs:\n",
        "    document_content += paragraph.text + \"\\n\"\n",
        "# Text splitter\n",
        "chunk_size = 300\n",
        "chunk_overlap = 50\n",
        "text_splitter = RecursiveCharacterTextSplitter(\n",
        "    separators=[\"\\n\\n\", \"\\n\", \" \", \"\"],\n",
        "    chunk_size=chunk_size,\n",
        "    chunk_overlap=chunk_overlap,\n",
        "    length_function=len,\n",
        ")\n",
        "# Chunk the document\n",
        "chunks = text_splitter.create_documents(\n",
        "    texts=[document_content],\n",
        "    metadatas=[{\"source\": documents}]\n",
        ")\n",
        "print(chunks[3])\n",
        "print(\"=\" * 50)\n"
      ]
    },
    {
      "cell_type": "code",
      "source": [
        "# List of documents\n",
        "documents = 'Combined_Contract_Advisory.docx'\n",
        "\n",
        "# Count the number of documents\n",
        "num_documents = len(documents)\n",
        "\n",
        "# Print the result\n",
        "print(f\"{num_documents} documents\")"
      ],
      "metadata": {
        "colab": {
          "base_uri": "https://localhost:8080/"
        },
        "id": "pIC0MzGChgjk",
        "outputId": "37db1e0f-eaa7-4b05-978b-d7e50a97d3f0"
      },
      "execution_count": 16,
      "outputs": [
        {
          "output_type": "stream",
          "name": "stdout",
          "text": [
            "31 documents\n"
          ]
        }
      ]
    },
    {
      "cell_type": "code",
      "source": [
        "from docx import Document\n",
        "from langchain.text_splitter import RecursiveCharacterTextSplitter\n",
        "\n",
        "# List of documents\n",
        "documents =['Combined_Contract_Advisory.docx']\n",
        "\n",
        "# Iterate over each document\n",
        "for document_path in documents:\n",
        "    # Load the document\n",
        "    document = Document(document_path)\n",
        "\n",
        "    # Extract text content from the document\n",
        "    document_content = \"\"\n",
        "    for paragraph in document.paragraphs:\n",
        "        document_content += paragraph.text + \"\\n\"\n",
        "\n",
        "    # Text splitter\n",
        "    chunk_size = 512\n",
        "    chunk_overlap = 50\n",
        "    text_splitter = RecursiveCharacterTextSplitter(\n",
        "        separators=[\"\\n\\n\", \"\\n\", \" \", \"\"],\n",
        "        chunk_size=chunk_size,\n",
        "        chunk_overlap=chunk_overlap,\n",
        "        length_function=len,\n",
        "    )\n",
        "\n",
        "    # Chunk the document\n",
        "    chunks = text_splitter.create_documents(\n",
        "        texts=[document_content],\n",
        "        metadatas=[{\"source\": document_path}]\n",
        "    )\n",
        "\n",
        "    # Print a specific chunk\n",
        "    print(chunks[3])\n",
        "    print(\"=\" * 50)\n",
        "\n",
        "    # Calculate the number of chunks\n",
        "    number_of_chunks = len(chunks)\n",
        "    print(f\"Number of Chunks: {number_of_chunks}\")\n"
      ],
      "metadata": {
        "id": "h_cvyunQiHmz",
        "colab": {
          "base_uri": "https://localhost:8080/"
        },
        "outputId": "6458e0a5-ae1d-4bc2-ba31-9de7c6536988"
      },
      "execution_count": 17,
      "outputs": [
        {
          "output_type": "stream",
          "name": "stdout",
          "text": [
            "page_content='TABLE OF CONTENTS\\nARTICLE I DEFINITIONS; CERTAIN RULES OF CONSTRUCTION\\t2\\nSection 1.01\\tDefinitions\\t2\\nSection 1.02\\tCertain Matters of Construction\\t13\\nARTICLE II PURCHASE AND SALE OF SHARES AND WARRANTS; TREATMENT OF OPTIONS; CLOSING.\\t14\\nSection 2.01\\tPurchase and Sale of Shares\\t14\\nSection 2.02\\tPurchase Price\\t14\\nSection 2.03\\tThe Closing\\t14\\nSection 2.04\\tClosing Payments.\\t15\\nSection 2.05\\tClosing Deliveries\\t15\\nSection 2.06\\tTreatment of Options\\t16\\nSection 2.07\\tPurchase Price Adjustment\\t17\\nSection 2.08\\tEscrow\\t19' metadata={'source': 'Combined_Contract_Advisory.docx'}\n",
            "==================================================\n",
            "Number of Chunks: 636\n"
          ]
        }
      ]
    },
    {
      "cell_type": "markdown",
      "metadata": {
        "id": "bhqZYOGZ2k-t"
      },
      "source": [
        "#### **Chunk the data and Calculate number of chunks**\n",
        "\n",
        "While chunking our dataset is relatively fast, let’s wrap the chunking logic into a function so that we can apply the workload at scale so that chunking remains just as fast as our data sources grow:"
      ]
    },
    {
      "cell_type": "markdown",
      "metadata": {
        "id": "hAqgrgDa2k-v"
      },
      "source": [
        "##### **Embed the chunk data**\n",
        "Now that we've created small chunks from our sections, we need a way to identify the most relevant ones for a given query. A very effective and quick method is to embed our data using a pretrained model and use the same model to embed the query. We can then compute the distance between all of the chunk embeddings and our query embedding to determine the top-k chunks. There are many different pretrained models to choose from to embed our data but the most popular ones can be discovered through HuggingFace's Massive Text Embedding Benchmark (MTEB) leaderboard.\n",
        "\n",
        "#### **Loading OpenAI Embeddings Model**\n",
        "We'll need a process by which we can convert our text into vectors that allow us to compare to our query vector.\n",
        "\n",
        "Let's use OpenAI's text-embedding-ada-002 for this task! (soon we'll be able to leverage OpenAI's newest embedding model which is waiting on an approved PR to be merged as we speak!)\n",
        "\n"
      ]
    },
    {
      "cell_type": "code",
      "execution_count": 18,
      "metadata": {
        "id": "8J3pv3KUGGCI"
      },
      "outputs": [],
      "source": [
        "from langchain_openai import OpenAIEmbeddings\n",
        "\n",
        "embeddings = OpenAIEmbeddings(\n",
        "    model=\"text-embedding-ada-002\"\n",
        ")\n",
        "from langchain_community.vectorstores import FAISS\n",
        "\n",
        "vector_store = FAISS.from_documents(chunks, embeddings)\n"
      ]
    },
    {
      "cell_type": "code",
      "source": [
        "# create retriver\n",
        "retriever = vector_store.as_retriever()"
      ],
      "metadata": {
        "id": "4ZV0vO1Kf6CE"
      },
      "execution_count": 19,
      "outputs": []
    },
    {
      "cell_type": "markdown",
      "metadata": {
        "id": "fbuhz_p5VyXp"
      },
      "source": [
        "##### **Creating a FAISS VectorStore**\n",
        "\n",
        "Now that we have documents - we'll need a place to store them alongside their embeddings.\n",
        "\n",
        "We'll be leveraging Meta's FAISS for this task."
      ]
    },
    {
      "cell_type": "code",
      "execution_count": 20,
      "metadata": {
        "id": "0t2x430X2yj2"
      },
      "outputs": [],
      "source": [
        "from langchain_community.vectorstores import FAISS\n",
        "\n",
        "vector_store = FAISS.from_documents(chunks, embeddings)\n"
      ]
    },
    {
      "cell_type": "markdown",
      "metadata": {
        "id": "8mhdAuYbWy-h"
      },
      "source": [
        "#### **Creating a Retriever**\n",
        "To complete our index, all that's left to do is expose our vectorstore as a retriever - which we can do the same way we would in previous version of LangChain!"
      ]
    },
    {
      "cell_type": "code",
      "execution_count": 21,
      "metadata": {
        "id": "lp3wZ9VYWu5r"
      },
      "outputs": [],
      "source": [
        "# Define vectorstore as retriever to enable semantic search\n",
        "\n",
        "retriever = vector_store.as_retriever()"
      ]
    },
    {
      "cell_type": "markdown",
      "metadata": {
        "id": "etU0D-1YXBcv"
      },
      "source": [
        "#### **Testing our Retriever**\n",
        "Now that we've gone through the trouble of creating our retriever - let's see it in action!\n",
        "\n"
      ]
    },
    {
      "cell_type": "code",
      "execution_count": 22,
      "metadata": {
        "id": "-2D-BI-GWu9-",
        "colab": {
          "base_uri": "https://localhost:8080/"
        },
        "outputId": "4634f3c4-2275-4060-be8e-dfa952f5867c"
      },
      "outputs": [
        {
          "output_type": "stream",
          "name": "stdout",
          "text": [
            "page_content='by Advisor for any reason whatsoever. The Company may assign the Agreement to a successor of all or substantially all of its assets or business, provided the assignee has assumed the Company’s obligations under this Agreement.' metadata={'source': 'Combined_Contract_Advisory.docx'}\n",
            "page_content='is not relieved of any liability or obligations hereunder and (b) the Buyer may assign this Agreement and any or all of its rights and interest hereunder to any purchaser of all or substantially all its assets or designate such purchaser to perform its obligations hereunder.  Except as expressly provided herein, this Agreement is for the sole benefit of the parties hereto and their successors and permitted assignees and nothing herein expressed or implied will give or be construed to give any Person, other' metadata={'source': 'Combined_Contract_Advisory.docx'}\n",
            "page_content='Succession and Assignment; No Third-Party Beneficiaries.  Subject to the immediately following sentence, this Agreement will be binding upon and inure to the benefit of the parties hereto and their respective successors and permitted assigns, each of which such successors and permitted assigns will be deemed to be a party hereto for all purposes hereof.  No party may assign, delegate or otherwise transfer either this Agreement or any of its rights, interests or obligations hereunder without the prior' metadata={'source': 'Combined_Contract_Advisory.docx'}\n",
            "page_content='or obligations hereunder without the prior written approval of the other parties (with the Sellers’ Representative acting for all of the Sellers), and any attempt to do so will be null and void ab initio; provided, that (a) the Buyer may assign this Agreement and any or all of its rights and interests hereunder to one or more of its Affiliates or designate one or more of its Affiliates to perform its obligations hereunder, in each case, so long as the Buyer is not relieved of any liability or obligations' metadata={'source': 'Combined_Contract_Advisory.docx'}\n"
          ]
        }
      ],
      "source": [
        "retrieved_documents = retriever.invoke(\"Can the Agreement or any of its obligations be assigned?\")\n",
        "for doc in retrieved_documents:\n",
        "  print(doc)"
      ]
    },
    {
      "cell_type": "markdown",
      "metadata": {
        "id": "jZzaxNhLZ3r9"
      },
      "source": [
        "### **Creating a RAG Chain**"
      ]
    },
    {
      "cell_type": "markdown",
      "metadata": {
        "id": "MbRzt1v_aQkC"
      },
      "source": [
        "##### **Creating a Prompt Template**\n",
        "\n",
        "There are a few different ways we could create our prompt template - we could create a custom template, as seen in the code below, or we could simply pull a prompt from the prompt hub! Let's look at an example of that!"
      ]
    },
    {
      "cell_type": "code",
      "execution_count": 28,
      "metadata": {
        "id": "7pZwQ9rIWvFI",
        "colab": {
          "base_uri": "https://localhost:8080/"
        },
        "outputId": "bf208935-633c-4e31-e6ba-4b4541fe1141"
      },
      "outputs": [
        {
          "output_type": "stream",
          "name": "stdout",
          "text": [
            "Answer any use questions based solely on the context below:\n",
            "\n",
            "<context>\n",
            "{context}\n",
            "</context>\n"
          ]
        }
      ],
      "source": [
        "from langchain import hub\n",
        "retrieval_qa_prompt = hub.pull(\"langchain-ai/retrieval-qa-chat\")\n",
        "print(retrieval_qa_prompt.messages[0].prompt.template)"
      ]
    },
    {
      "cell_type": "code",
      "execution_count": 24,
      "metadata": {
        "id": "mAMrk_R8aVTk"
      },
      "outputs": [],
      "source": [
        "from langchain.prompts import ChatPromptTemplate\n",
        "\n",
        "template = \"\"\"Answer the question based only on the following context. If you cannot answer the question with the context, please respond with 'I don't know':\n",
        "\n",
        "Context:\n",
        "{context}\n",
        "\n",
        "Question:\n",
        "{question}\n",
        "\"\"\"\n",
        "\n",
        "prompt = ChatPromptTemplate.from_template(template)"
      ]
    },
    {
      "cell_type": "markdown",
      "metadata": {
        "id": "HWKII6HNa8oF"
      },
      "source": [
        "#### **Setting Up our Basic QA Chain**\n",
        "Now I can instantiate my basic RAG chain!\n",
        "Iwill use LCEL directly just to see an example of it - but you could just as easily use an abstraction here to achieve the same goal!\n",
        "\n",
        "I wll also ensure to pass-through our context  which is critical for RAGAS."
      ]
    },
    {
      "cell_type": "code",
      "source": [
        "from operator import itemgetter\n",
        "from langchain_openai import ChatOpenAI\n",
        "from langchain_core.output_parsers import StrOutputParser\n",
        "from langchain_core.runnables import RunnablePassthrough\n",
        "\n",
        "primary_qa_llm = ChatOpenAI(model_name=\"gpt-3.5-turbo\", temperature=0)\n",
        "\n",
        "retrieval_augmented_qa_chain = (\n",
        "\n",
        "    {\"context\": itemgetter(\"question\") | retriever, \"question\": itemgetter(\"question\")}\n",
        "    | RunnablePassthrough.assign(context=itemgetter(\"context\"))\n",
        "\n",
        "    | {\"response\": prompt | primary_qa_llm, \"context\": itemgetter(\"context\")}\n",
        ")"
      ],
      "metadata": {
        "id": "R4DHVvdIOgvQ"
      },
      "execution_count": 31,
      "outputs": []
    },
    {
      "cell_type": "code",
      "source": [
        "from langchain_openai import ChatOpenAI\n",
        "from langchain_core.output_parsers import StrOutputParser\n",
        "from langchain_core.runnables import RunnableParallel, RunnablePassthrough\n",
        "from langchain.prompts import ChatPromptTemplate\n",
        "\n",
        "# Define LLM\n",
        "llm = ChatOpenAI(model_name=\"gpt-3.5-turbo\", temperature=0)\n",
        "\n",
        "# Define prompt template\n",
        "prompt_template = \"\"\"You are an assistant for question-answering tasks.\n",
        "Use the following pieces of retrieved context to answer the question.\n",
        "If you don't know the answer, just say that you don't know.\n",
        "Question: {question}\n",
        "Context: {context}\n",
        "Answer:\n",
        "\"\"\"\n",
        "\n",
        "prompt = ChatPromptTemplate.from_template(prompt_template)\n",
        "\n",
        "# Define retrieval as a RunnableParallel\n",
        "retrieval = RunnableParallel(\n",
        "    {\"context\": retriever,  \"question\": RunnablePassthrough()}\n",
        ")\n",
        "\n",
        "# Define the entire chain\n",
        "chain = retrieval | prompt | llm | StrOutputParser()\n"
      ],
      "metadata": {
        "id": "J0dEosb1r039"
      },
      "execution_count": 26,
      "outputs": []
    },
    {
      "cell_type": "markdown",
      "metadata": {
        "id": "fm4hBsY-ArxJ"
      },
      "source": [
        "#### **Let's test it out!**"
      ]
    },
    {
      "cell_type": "code",
      "source": [
        "question = \"Who owns the IP?\"\n",
        "\n",
        "result = retrieval_augmented_qa_chain.invoke({\"question\" : question})\n",
        "\n",
        "print(result[\"response\"].content)"
      ],
      "metadata": {
        "colab": {
          "base_uri": "https://localhost:8080/"
        },
        "id": "KBrK-3RMyq8K",
        "outputId": "a047c645-c883-4d02-db56-2aac37a3da7c"
      },
      "execution_count": 32,
      "outputs": [
        {
          "output_type": "stream",
          "name": "stdout",
          "text": [
            "The Company owns the Intellectual Property (IP) mentioned in the provided context.\n"
          ]
        }
      ]
    },
    {
      "cell_type": "markdown",
      "source": [
        "**But the correct answer is**: Any Work Product, upon creation, shall be fully and exclusively owned by the Company. in some extent is good answer"
      ],
      "metadata": {
        "id": "DoP2RZ03zcfx"
      }
    },
    {
      "cell_type": "code",
      "source": [],
      "metadata": {
        "id": "gprpShn_PAYd"
      },
      "execution_count": null,
      "outputs": []
    },
    {
      "cell_type": "markdown",
      "source": [
        "###### An other Example"
      ],
      "metadata": {
        "id": "vTRzuW4fPB2c"
      }
    },
    {
      "cell_type": "code",
      "execution_count": 35,
      "metadata": {
        "id": "rbjIXUhFaWCb"
      },
      "outputs": [],
      "source": [
        "context = \"\"\"\n",
        "The Advisory Services Agreement is a legal document between Cloud Investments Ltd. and Mr. Jack Robinson, detailing the terms of service, compensation, confidentiality, non-compete clauses, and other obligations related to Mr. Robinson providing advisory services to the company.\n",
        "\"\"\"\n",
        "\n",
        "questions = [\n",
        "    \"Who are the parties to the Agreement and what are their defined names?\",\n",
        "    \"How well does the RAG system capture the termination notice period as specified in the agreement?\",\n",
        "    \"Can the RAG system accurately detail the compensation structure, including hourly fees, workspace expense, and other expenses?\",\n",
        "\n",
        "]\n"
      ]
    },
    {
      "cell_type": "code",
      "source": [
        "for question in questions:\n",
        "    # Assuming retrieval_augmented_qa_chain is a function that takes a dictionary with the question and context\n",
        "    result = retrieval_augmented_qa_chain.invoke({\"context\": context, \"question\": question})\n",
        "    print(f\"Question: {question}\\nResponse: {result['response'].content}\\n\")\n"
      ],
      "metadata": {
        "colab": {
          "base_uri": "https://localhost:8080/"
        },
        "id": "KtV9j3UqwU8u",
        "outputId": "9e1e0fa5-b194-4b49-ea44-b06b652a4176"
      },
      "execution_count": 36,
      "outputs": [
        {
          "output_type": "stream",
          "name": "stdout",
          "text": [
            "Question: Who are the parties to the Agreement and what are their defined names?\n",
            "Response: The parties to the Agreement are not explicitly mentioned in the provided context. Therefore, I don't know who the parties are and what their defined names are.\n",
            "\n",
            "Question: How well does the RAG system capture the termination notice period as specified in the agreement?\n",
            "Response: The RAG system does not specifically capture the termination notice period as specified in the agreement. The agreement mentions termination upon thirty (30) days prior notice, but it is not clear if the RAG system captures this specific detail.\n",
            "\n",
            "Question: Can the RAG system accurately detail the compensation structure, including hourly fees, workspace expense, and other expenses?\n",
            "Response: Yes, the RAG system can accurately detail the compensation structure, including hourly fees, workspace expense, and other expenses. The document mentions the payment of Fees and Workspace Expense, as well as the Advisor not being entitled to any additional fees or expense reimbursement except as provided in the Agreement.\n",
            "\n"
          ]
        }
      ]
    },
    {
      "cell_type": "markdown",
      "metadata": {
        "id": "DZ_0aVDKxxDN"
      },
      "source": [
        "#### **Ragas Evaluation**\n",
        "\n",
        "Ragas is a powerful library that lets us evaluate our RAG pipeline by collecting input/output/context triplets and obtaining metrics relating to a number of different aspects of our RAG pipeline.\n",
        "\n",
        "We'll be evluating on every core metric today, but in order to do that - we'll need to creat a test set. Luckily for us, Ragas can do that directly!"
      ]
    },
    {
      "cell_type": "markdown",
      "metadata": {
        "id": "kLOeuO2GyAPZ"
      },
      "source": [
        "\n",
        "\n",
        "```\n",
        "# This is formatted as code\n",
        "```\n",
        "**NOTE**: This process will use `gpt-3.5-turbo-16k` as the base generator and `gpt-4` as the critic - if you're attempting to create a lot of samples please be aware of cost, as well as rate limits."
      ]
    },
    {
      "cell_type": "markdown",
      "metadata": {
        "id": "N077kK5eyUyV"
      },
      "source": [
        "Let's create a new set of documents to ensure we're not accidentally creating a sample test set that favours our base model too much!"
      ]
    },
    {
      "cell_type": "markdown",
      "source": [
        "##### **Note**:\n",
        "First I will evaluate on human annotated ground truth values then will learn how to RAGAs can help us generate test data."
      ],
      "metadata": {
        "id": "PSgWjtdDWLUj"
      }
    },
    {
      "cell_type": "code",
      "source": [
        "\"\"\"#! pip install datasets\n",
        "\n",
        "# Define the questions, context, and ground truth answers\n",
        "questions = [\n",
        "    \"Under what circumstances and to what extent the Sellers are responsible for a breach of representations and warranties?\",\n",
        "    \"Would the Sellers be responsible if after the closing it is determined that there were inaccuracies in the representation provided by them where such inaccuracies are the result of the Sellers’ gross negligence?\",\n",
        "    \"How much is the escrow amount?\",\n",
        "    \"Is the escrow amount greater than the Retention Amount?\",\n",
        "    \"What is the purpose of the escrow?\",\n",
        "    \"May the Escrow Amount serve as a recourse for the Buyer in case of a breach of representations by the Company?\",\n",
        "    \"Are there any conditions to the closing?\",\n",
        "    \"Are Change of Control Payments considered a Seller Transaction Expense?\",\n",
        "    \"Would the aggregate amount payable by the Buyer to the Sellers be affected if it is determined that the actual Closing Debt Amount is greater than the estimated Closing Debt Amount?\",\n",
        "    \"Does the Buyer need to pay the Employees Closing Bonus Amount directly to the Company’s employees?\",\n",
        "    \"Does any of the Sellers provide a representation with respect to any Tax matters related to the Company?\",\n",
        "    \"Is any of the Sellers bound by a non-competition covenant after the Closing?\",\n",
        "    \"Whose consent is required for the assignment of the Agreement by the Buyer?\",\n",
        "    \"Does the Buyer need the Sellers’ consent in the event of an assignment of the Agreement to a third party who is not a Buyer’s Affiliate?\"\n",
        "]\n",
        "\n",
        "context = [\n",
        " \"In the agreement, it is specified that except in the case of fraud, the Sellers have no liability for a breach of representations and warranties (See section 10.01). This clause outlines the circumstances under which Sellers are responsible.\",\n",
        "\n",
        "    \"According to the agreement, the Sellers would be responsible if, after the closing, it is determined that there were inaccuracies in the representation provided by them, where such inaccuracies are the result of the Sellers’ gross negligence. This is outlined in detail in the agreement, section [specific section].\",\n",
        "\n",
        "    \"The escrow amount specified in the agreement is $1,000,000. This amount is held in escrow to fulfill specific obligations and is a crucial part of the overall transaction (See section [specific section]).\",\n",
        "\n",
        "    \"As per the agreement, the escrow amount is not greater than the Retention Amount. This is explicitly stated in the contract to define the relationship between the escrow amount and the Retention Amount (See section [specific section]).\",\n",
        "\n",
        "    \"The purpose of the escrow, as defined in the agreement's section [specific section], is to serve as a recourse for the Buyer in case of post-closing adjustments of the purchase price. It plays a key role in ensuring the financial aspects of the transaction.\",\n",
        "\n",
        "    \"According to the agreement, the Escrow Amount may serve as a recourse for the Buyer in case of a breach of representations by the Company. This is an important provision to protect the Buyer's interests (See section [specific section]).\",\n",
        "\n",
        "    \"The agreement outlines specific conditions to the closing. Notably, the signing and closing are simultaneous, and there are no additional conditions mentioned (See section [specific section]).\",\n",
        "\n",
        "    \"Change of Control Payments are considered a Seller Transaction Expense, as defined in the agreement (See section [specific section]). This clarifies the treatment of Change of Control Payments in the context of the overall transaction.\",\n",
        "\n",
        "    \"The aggregate amount payable by the Buyer to the Sellers would be affected if it is determined that the actual Closing Debt Amount is greater than the estimated Closing Debt Amount. This is a crucial factor in determining the financial aspects of the transaction (See section [specific section]).\",\n",
        "\n",
        "    \"As per the agreement's Section 2.10, the Buyer is not required to pay the Employees Closing Bonus Amount directly to the Company’s employees. The specific details of payment are outlined in the agreement.\",\n",
        "\n",
        "    \"None of the Sellers provide a representation with respect to any Tax matters related to the Company. This is explicitly stated in the agreement, and the responsibility for Tax matters is specified (See section [specific section]).\",\n",
        "\n",
        "    \"As outlined in the agreement, none of the Sellers is bound by a non-competition covenant after the Closing. This is a specific provision to define the post-Closing obligations of the Sellers (See section [specific section]).\",\n",
        "\n",
        "    \"The assignment of the Agreement by the Buyer requires the consent of specific parties. If the assignment is to an Affiliate or purchaser of all of the Buyer’s assets, no consent is required. Otherwise, the consent of the Company and the Seller Representative is required (See section [specific section]).\",\n",
        "\n",
        "    \"The Buyer needs the Sellers’ consent in the event of an assignment of the Agreement to a third party who is not a Buyer’s Affiliate. This requirement is outlined in the agreement's Section [specific section] and is a crucial aspect of the assignment process.\"\n",
        "\n",
        "\n",
        "]\n",
        "ground_truth = [\n",
        "    \"Except in the case of fraud, the Sellers have no liability for a breach of representations and warranties (See section  10.01)\",\n",
        "    \"Yes\",\n",
        "    \"$1,000,000\",\n",
        "    \"No\",\n",
        "    \"To serve as a recourse of the Buyer in case of post-closing adjustments of the purchase price. (See section  2.07(e))\",\n",
        "    \"No\",\n",
        "    \"No, as the signing and closing are simultaneous.\",\n",
        "    \"Yes. (See defining Sellers Transaction Expenses).\",\n",
        "    \"Yes (See Section  2.07)\",\n",
        "    \"No. (See Section  2.10)\",\n",
        "    \"No. Only the Company provides such a representation.\",\n",
        "    \"No.\",\n",
        "    \"If the assignment is to an Affiliate or purchaser of all of the Buyer’s assets, no consent is required. Otherwise, the consent of the Company and the Seller Representative is required.\",\n",
        "    \"No. If the assignment is not part of a sale of all or substantially all of the Buyer’s assets, the assignment requires the consent of the Company and the Seller’s Representative.\"\n",
        "]\n",
        "\"\"\""
      ],
      "metadata": {
        "id": "CIUxnmiE9DR8"
      },
      "execution_count": null,
      "outputs": []
    },
    {
      "cell_type": "code",
      "source": [
        "#! pip install ipython-sql==0.4.0\n"
      ],
      "metadata": {
        "id": "PvLXlSN9M1RA"
      },
      "execution_count": 40,
      "outputs": []
    },
    {
      "cell_type": "code",
      "source": [
        "from datasets import Dataset\n",
        "import pandas as pd\n",
        "\n",
        "# Initialize empty list for QAC triples\n",
        "qac_triples = []\n",
        "\n",
        "for question, ground_truth in zip(questions, ground_truth):\n",
        "    output_dict = {\n",
        "        \"question\": question,\n",
        "        \"context\": context,\n",
        "        \"ground_truth\": ground_truth\n",
        "    }\n",
        "    qac_triples.append(output_dict)\n",
        "\n",
        "# Convert QAC triples to DataFrame\n",
        "ground_truth_qac_set = pd.DataFrame(qac_triples)\n",
        "\n",
        "# Rename column for consistency\n",
        "ground_truth_qac_set = ground_truth_qac_set.rename(columns={\"ground_truth\": \"answer\"})\n",
        "\n",
        "# Create a dataset from the DataFrame\n",
        "eval_dataset = Dataset.from_pandas(ground_truth_qac_set)\n"
      ],
      "metadata": {
        "id": "iYGeHKE3QPli"
      },
      "execution_count": null,
      "outputs": []
    },
    {
      "cell_type": "code",
      "source": [
        "def create_ragas_dataset(rag_pipeline, eval_dataset):\n",
        "    rag_dataset = []\n",
        "    for row in tqdm(eval_dataset):\n",
        "        answer = rag_pipeline.invoke({\"question\": row[\"question\"]})\n",
        "        rag_dataset.append(\n",
        "            {\"question\": row[\"question\"],\n",
        "             \"answer\": str(answer[\"response\"]),  # Convert to string\n",
        "             \"contexts\": [row[\"context\"]],\n",
        "             \"ground_truths\": [row[\"answer\"]]\n",
        "             }\n",
        "        )\n",
        "    rag_df = pd.DataFrame(rag_dataset)\n",
        "    rag_eval_dataset = Dataset.from_pandas(rag_df)\n",
        "    return rag_eval_dataset\n"
      ],
      "metadata": {
        "id": "EcXQvopkQXty"
      },
      "execution_count": null,
      "outputs": []
    },
    {
      "cell_type": "code",
      "source": [
        "from ragas.metrics.critique import harmfulness\n",
        "from ragas import evaluate"
      ],
      "metadata": {
        "id": "AvVgkLVs9QwH"
      },
      "execution_count": null,
      "outputs": []
    },
    {
      "cell_type": "code",
      "source": [],
      "metadata": {
        "id": "Jm-CXA3PC6sX"
      },
      "execution_count": null,
      "outputs": []
    },
    {
      "cell_type": "code",
      "source": [
        "from ragas.metrics import (\n",
        "    context_precision,\n",
        "    faithfulness,\n",
        "    answer_relevancy,\n",
        "    context_recall,\n",
        "    context_relevancy,\n",
        "    answer_correctness,\n",
        "    answer_similarity\n",
        ")\n"
      ],
      "metadata": {
        "id": "xcAGrPfwiExE"
      },
      "execution_count": null,
      "outputs": []
    },
    {
      "cell_type": "code",
      "source": [
        "def evaluate_ragas_dataset(ragas_dataset):\n",
        "    result = evaluate(\n",
        "        ragas_dataset,\n",
        "        metrics=[\n",
        "            context_precision,\n",
        "            answer_relevancy,\n",
        "            context_recall,\n",
        "            context_relevancy,\n",
        "            answer_correctness,\n",
        "            answer_similarity\n",
        "        ],\n",
        "    )\n",
        "    return result\n",
        "\n",
        "basic_qa_result = evaluate_ragas_dataset(basic_qa_ragas_dataset)\n"
      ],
      "metadata": {
        "id": "XbUqwX5PAKOt",
        "colab": {
          "base_uri": "https://localhost:8080/",
          "height": 86,
          "referenced_widgets": [
            "7a3667c02c934c7cb6dfdfd9c1c696cf",
            "eadd22f05fd845c28e762bf21ef2d35d",
            "50f1b27cd85f47618f2d5fe6839aec4f",
            "1df2a448729a49789d7a948b6fb2b2d0",
            "4aee937aab3d43bbb8e48c13e764147e",
            "6a0c5219cfaf4f80a84315c282830cd0",
            "ee98a29389b24ca5b8862328608598c1",
            "66c445fa45e94e32942c370a7ca27d12",
            "fc93745aa2404b8f98fcaf0b633f7c27",
            "3ed2c5177cdc4b98b6434182f0a4617a",
            "a8f3c995e4d145038a89be2789b25b4a"
          ]
        },
        "outputId": "267c985c-4dd3-4c68-9851-188cb35679a7"
      },
      "execution_count": null,
      "outputs": [
        {
          "output_type": "stream",
          "name": "stderr",
          "text": [
            "WARNING:ragas.validation:passing column names as 'ground_truths' is deprecated and will be removed in the next version, please use 'ground_truth' instead. Note that `ground_truth` should be of type string and not Sequence[string] like `ground_truths`\n"
          ]
        },
        {
          "output_type": "display_data",
          "data": {
            "text/plain": [
              "Evaluating:   0%|          | 0/84 [00:00<?, ?it/s]"
            ],
            "application/vnd.jupyter.widget-view+json": {
              "version_major": 2,
              "version_minor": 0,
              "model_id": "7a3667c02c934c7cb6dfdfd9c1c696cf"
            }
          },
          "metadata": {}
        }
      ]
    },
    {
      "cell_type": "code",
      "source": [
        "print(basic_qa_result)\n"
      ],
      "metadata": {
        "colab": {
          "base_uri": "https://localhost:8080/"
        },
        "id": "xMEcKiVPLHHL",
        "outputId": "d5627b8c-2608-4fbc-b8f3-6d85fe5a3574"
      },
      "execution_count": null,
      "outputs": [
        {
          "output_type": "stream",
          "name": "stdout",
          "text": [
            "{'context_precision': 1.0000, 'answer_relevancy': 0.8645, 'context_recall': 1.0000, 'context_relevancy': 0.0526, 'answer_correctness': 0.4120, 'answer_similarity': 0.7908}\n"
          ]
        }
      ]
    },
    {
      "cell_type": "code",
      "source": [
        "for key, value in basic_qa_result.items():\n",
        "    print(f\"{key}: {value}\")\n"
      ],
      "metadata": {
        "colab": {
          "base_uri": "https://localhost:8080/"
        },
        "id": "7tWbYdJELOSb",
        "outputId": "2fd1dd83-a81c-4f39-8ce2-3bd9ce75d2cb"
      },
      "execution_count": null,
      "outputs": [
        {
          "output_type": "stream",
          "name": "stdout",
          "text": [
            "context_precision: 0.9999999999\n",
            "answer_relevancy: 0.8645160586251831\n",
            "context_recall: 1.0\n",
            "context_relevancy: 0.05263157894736841\n",
            "answer_correctness: 0.411990872032491\n",
            "answer_similarity: 0.7907919500503475\n"
          ]
        }
      ]
    },
    {
      "cell_type": "code",
      "execution_count": null,
      "metadata": {
        "id": "WOwTozgIaWJO"
      },
      "outputs": [],
      "source": [
        "import matplotlib.pyplot as plt\n",
        "def plot_metrics_with_values(metrics_dict, title='RAG Metrics'):\n",
        "    \"\"\"\n",
        "    Plots a bar chart for metrics contained in a dictionary and annotates the values on the bars.\n",
        "    Args:\n",
        "    metrics_dict (dict): A dictionary with metric names as keys and values as metric scores.\n",
        "    title (str): The title of the plot.\n",
        "    \"\"\"\n",
        "    names = list(metrics_dict.keys())\n",
        "    values = list(metrics_dict.values())\n",
        "    plt.figure(figsize=(10, 6))\n",
        "    bars = plt.barh(names, values, color='skyblue')\n",
        "    # Adding the values on top of the bars\n",
        "    for bar in bars:\n",
        "        width = bar.get_width()\n",
        "        plt.text(width + 0.01,  # x-position\n",
        "                 bar.get_y() + bar.get_height() / 2,  # y-position\n",
        "                 f'{width:.4f}',  # value\n",
        "                 va='center')\n",
        "    plt.xlabel('Score')\n",
        "    plt.title(title)\n",
        "    plt.xlim(0, 1)  # Setting the x-axis limit to be from 0 to 1\n",
        "    plt.show()"
      ]
    },
    {
      "cell_type": "code",
      "source": [
        "plot_metrics_with_values(basic_qa_result, \"Revised Retriever ragas Metrics\")\n"
      ],
      "metadata": {
        "colab": {
          "base_uri": "https://localhost:8080/",
          "height": 564
        },
        "id": "xgyEBa9tlySh",
        "outputId": "80d00bbd-0cdb-4f3d-dcb9-213e1b5b0073"
      },
      "execution_count": null,
      "outputs": [
        {
          "output_type": "display_data",
          "data": {
            "text/plain": [
              "<Figure size 1000x600 with 1 Axes>"
            ],
            "image/png": "[encoded data removed]"
          },
          "metadata": {}
        }
      ]
    },
    {
      "cell_type": "markdown",
      "source": [
        "###### RAG Performance Enhancement"
      ],
      "metadata": {
        "id": "DTZ6lqEGdPXj"
      }
    },
    {
      "cell_type": "code",
      "source": [
        "questions = [\n",
        "\"Under what circumstances and to what extent the Sellers are responsible for a breach of representations and warranties?\",\n",
        "    \"Would the Sellers be responsible if after the closing it is determined that there were inaccuracies in the representation provided by them where such inaccuracies are the result of the Sellers’ gross negligence?\",\n",
        "    \"How much is the escrow amount?\",\n",
        "    \"What is the purpose of the escrow?\",\n",
        "    \"Would the aggregate amount payable by the Buyer to the Sellers be affected if it is determined that the actual Closing Debt Amount is greater than the estimated Closing Debt Amount?\",\n",
        "    \"Is any of the Sellers bound by a non-competition covenant after the Closing?\"\n",
        "]\n",
        "ground_truth = [\n",
        "    \"Except in the case of fraud, the Sellers have no liability for a breach of representations and warranties\",\n",
        "    \"Yes\",\n",
        "    \"$1,000,000\",\n",
        "    \"To serve as a recourse of the Buyer in case of post-closing adjustments of the purchase price\",\n",
        "    \"No. \",\n",
        "    \"No.\"\n",
        "\n",
        "]"
      ],
      "metadata": {
        "id": "KYlcwt0hZA_v"
      },
      "execution_count": 41,
      "outputs": []
    },
    {
      "cell_type": "code",
      "source": [
        "answers  = []\n",
        "contexts = []\n",
        "\n",
        "# traversing each question and passing into the chain to get answer from the system\n",
        "from datasets import Dataset\n",
        "for question in questions:\n",
        "    answers.append(chain.invoke(question))\n",
        "    contexts.append([docs.page_content for docs in retriever.get_relevant_documents(question)])\n",
        "\n",
        "# Preparing the dataset\n",
        "data = {\n",
        "    \"question\": questions,\n",
        "    \"answer\": answers,\n",
        "    \"contexts\": contexts,\n",
        "    \"ground_truth\": ground_truth\n",
        "}\n",
        "\n",
        "# Convert dict to dataset\n",
        "dataset = Dataset.from_dict(data)"
      ],
      "metadata": {
        "id": "znweDYkMdOba"
      },
      "execution_count": 42,
      "outputs": []
    },
    {
      "cell_type": "code",
      "source": [
        "dataset[0]"
      ],
      "metadata": {
        "colab": {
          "base_uri": "https://localhost:8080/"
        },
        "id": "AE9MW1AsdOfJ",
        "outputId": "e38d7f49-dd4b-4972-8e7f-e372ec6cab8a"
      },
      "execution_count": 43,
      "outputs": [
        {
          "output_type": "execute_result",
          "data": {
            "text/plain": [
              "{'question': 'Under what circumstances and to what extent the Sellers are responsible for a breach of representations and warranties?',\n",
              " 'answer': \"Under the circumstances of gross negligence, bad faith, or willful misconduct, the Sellers may be held responsible for a breach of representations and warranties. The Sellers' Representative is not personally liable for the obligations of the Sellers, and the Buyer cannot look to the personal assets of the Sellers' Representative for satisfaction of any obligations. Each Seller individually represents and warrants their organization's status under the laws of its jurisdiction.\",\n",
              " 'contexts': ['Liability.  The Sellers’ Representative shall not be held liable by any of the Sellers for actions or omissions in exercising or failing to exercise all or any of the power and authority of the Sellers’ Representative pursuant to this Agreement, except in the case of the Sellers’ Representative’s gross negligence, bad faith or willful misconduct.  The Sellers’ Representative shall be entitled to rely on the advice of counsel, public accountants or other independent experts that it reasonably determines to',\n",
              "  'Provisions Concerning the Sellers’ Representative.',\n",
              "  'Sellers’ Representative’s gross negligence, bad faith or willful misconduct.  The Sellers’ Representative is serving in its capacity as such solely for purposes of administrative convenience, and is not personally liable in such capacity for any of the obligations of the Sellers hereunder, and the Buyer agrees that it will not look to the personal assets of the Sellers’ Representative, acting in such capacity, for the satisfaction of any obligations to be performed by the Sellers hereunder.',\n",
              "  'INDIVIDUAL REPRESENTATIONS AND WARRANTIES OF THE SELLERS.\\nEach Seller severally, and not jointly, hereby represents and warrants to the Buyer, solely as to such Seller, that:\\nOrganization.  In the case of each Seller that is not an individual, such Seller is duly organized, validly existing and in good standing (if such concept is recognized) under the laws of the jurisdiction of its organization.'],\n",
              " 'ground_truth': 'Except in the case of fraud, the Sellers have no liability for a breach of representations and warranties'}"
            ]
          },
          "metadata": {},
          "execution_count": 43
        }
      ]
    },
    {
      "cell_type": "code",
      "source": [
        "from ragas import evaluate\n",
        "from ragas.metrics import (\n",
        "    context_precision,\n",
        "    answer_relevancy,\n",
        "    context_recall,\n",
        "    context_relevancy,\n",
        "    answer_correctness,\n",
        "    answer_similarity\n",
        ")\n",
        "\n",
        "result = evaluate(\n",
        "    dataset=dataset,\n",
        "    metrics=[\n",
        "    context_precision,\n",
        "    answer_relevancy,\n",
        "    context_recall,\n",
        "    context_relevancy,\n",
        "    answer_correctness,\n",
        "    answer_similarity,\n",
        "    ],\n",
        ")\n",
        "\n",
        "df = result.to_pandas()"
      ],
      "metadata": {
        "colab": {
          "base_uri": "https://localhost:8080/",
          "height": 49,
          "referenced_widgets": [
            "aa7f44fd99f041d8a437174f9c55c11b",
            "ab0b60fab922492c84a763df04629164",
            "d35165ffc1a6498faa854208e5072714",
            "0ae1fd9b84d947daa41dfcbd902a6f72",
            "f61bec60480e46e985915471bd35f581",
            "072dcf721f664cafbe57f2f9bfc9dcf7",
            "1dfef0d95f7a4eb8a5d91ffd5b121b39",
            "28d83a01a0ee43a9956667741fbb57d6",
            "e47c7b45172647dda83a8de721a55ed3",
            "5ab6083f2352411bb28dfa65622c6787",
            "9c497d2feaf84dbeaaa1eca24345d81a"
          ]
        },
        "id": "pMYcb6DkdOra",
        "outputId": "7960b7d3-b7f3-4a50-a835-70380a94a2a5"
      },
      "execution_count": 44,
      "outputs": [
        {
          "output_type": "display_data",
          "data": {
            "text/plain": [
              "Evaluating:   0%|          | 0/36 [00:00<?, ?it/s]"
            ],
            "application/vnd.jupyter.widget-view+json": {
              "version_major": 2,
              "version_minor": 0,
              "model_id": "aa7f44fd99f041d8a437174f9c55c11b"
            }
          },
          "metadata": {}
        }
      ]
    },
    {
      "cell_type": "code",
      "source": [
        "df.iloc[1:4].head()"
      ],
      "metadata": {
        "colab": {
          "base_uri": "https://localhost:8080/",
          "height": 389
        },
        "id": "s2Y29CI9ts72",
        "outputId": "99d36b6c-6ba4-45fd-c723-77239f1d00d6"
      },
      "execution_count": 45,
      "outputs": [
        {
          "output_type": "execute_result",
          "data": {
            "text/plain": [
              "                                            question  \\\n",
              "1  Would the Sellers be responsible if after the ...   \n",
              "2                     How much is the escrow amount?   \n",
              "3                 What is the purpose of the escrow?   \n",
              "\n",
              "                                              answer  \\\n",
              "1  No, the Sellers would not be responsible if af...   \n",
              "2                   The escrow amount is $1,000,000.   \n",
              "3  The purpose of the escrow in this context is t...   \n",
              "\n",
              "                                            contexts  \\\n",
              "1  [Sellers’ Representative’s gross negligence, b...   \n",
              "2  [Escrow., “Escrow Amount” means, $1,000,000\\n ...   \n",
              "3  [Escrow., At Closing, Buyer will deposit the E...   \n",
              "\n",
              "                                        ground_truth  context_precision  \\\n",
              "1                                                Yes           0.500000   \n",
              "2                                         $1,000,000           0.500000   \n",
              "3  To serve as a recourse of the Buyer in case of...           0.333333   \n",
              "\n",
              "   answer_relevancy  context_recall  context_relevancy  answer_correctness  \\\n",
              "1          0.941120             1.0           0.375000            0.182553   \n",
              "2          0.983724             1.0           0.142857            0.976511   \n",
              "3          0.979633             1.0           0.833333            0.850762   \n",
              "\n",
              "   answer_similarity  \n",
              "1           0.730211  \n",
              "2           0.906045  \n",
              "3           0.831651  "
            ],
            "text/html": [
              "\n",
              "  <div id=\"df-ae7b36cd-f96d-4735-8ba4-04d97489333d\" class=\"colab-df-container\">\n",
              "    <div>\n",
              "<style scoped>\n",
              "    .dataframe tbody tr th:only-of-type {\n",
              "        vertical-align: middle;\n",
              "    }\n",
              "\n",
              "    .dataframe tbody tr th {\n",
              "        vertical-align: top;\n",
              "    }\n",
              "\n",
              "    .dataframe thead th {\n",
              "        text-align: right;\n",
              "    }\n",
              "</style>\n",
              "<table border=\"1\" class=\"dataframe\">\n",
              "  <thead>\n",
              "    <tr style=\"text-align: right;\">\n",
              "      <th></th>\n",
              "      <th>question</th>\n",
              "      <th>answer</th>\n",
              "      <th>contexts</th>\n",
              "      <th>ground_truth</th>\n",
              "      <th>context_precision</th>\n",
              "      <th>answer_relevancy</th>\n",
              "      <th>context_recall</th>\n",
              "      <th>context_relevancy</th>\n",
              "      <th>answer_correctness</th>\n",
              "      <th>answer_similarity</th>\n",
              "    </tr>\n",
              "  </thead>\n",
              "  <tbody>\n",
              "    <tr>\n",
              "      <th>1</th>\n",
              "      <td>Would the Sellers be responsible if after the ...</td>\n",
              "      <td>No, the Sellers would not be responsible if af...</td>\n",
              "      <td>[Sellers’ Representative’s gross negligence, b...</td>\n",
              "      <td>Yes</td>\n",
              "      <td>0.500000</td>\n",
              "      <td>0.941120</td>\n",
              "      <td>1.0</td>\n",
              "      <td>0.375000</td>\n",
              "      <td>0.182553</td>\n",
              "      <td>0.730211</td>\n",
              "    </tr>\n",
              "    <tr>\n",
              "      <th>2</th>\n",
              "      <td>How much is the escrow amount?</td>\n",
              "      <td>The escrow amount is $1,000,000.</td>\n",
              "      <td>[Escrow., “Escrow Amount” means, $1,000,000\\n ...</td>\n",
              "      <td>$1,000,000</td>\n",
              "      <td>0.500000</td>\n",
              "      <td>0.983724</td>\n",
              "      <td>1.0</td>\n",
              "      <td>0.142857</td>\n",
              "      <td>0.976511</td>\n",
              "      <td>0.906045</td>\n",
              "    </tr>\n",
              "    <tr>\n",
              "      <th>3</th>\n",
              "      <td>What is the purpose of the escrow?</td>\n",
              "      <td>The purpose of the escrow in this context is t...</td>\n",
              "      <td>[Escrow., At Closing, Buyer will deposit the E...</td>\n",
              "      <td>To serve as a recourse of the Buyer in case of...</td>\n",
              "      <td>0.333333</td>\n",
              "      <td>0.979633</td>\n",
              "      <td>1.0</td>\n",
              "      <td>0.833333</td>\n",
              "      <td>0.850762</td>\n",
              "      <td>0.831651</td>\n",
              "    </tr>\n",
              "  </tbody>\n",
              "</table>\n",
              "</div>\n",
              "    <div class=\"colab-df-buttons\">\n",
              "\n",
              "  <div class=\"colab-df-container\">\n",
              "    <button class=\"colab-df-convert\" onclick=\"convertToInteractive('df-ae7b36cd-f96d-4735-8ba4-04d97489333d')\"\n",
              "            title=\"Convert this dataframe to an interactive table.\"\n",
              "            style=\"display:none;\">\n",
              "\n",
              "  <svg xmlns=\"http://www.w3.org/2000/svg\" height=\"24px\" viewBox=\"0 -960 960 960\">\n",
              "    <path d=\"M120-120v-720h720v720H120Zm60-500h600v-160H180v160Zm220 220h160v-160H400v160Zm0 220h160v-160H400v160ZM180-400h160v-160H180v160Zm440 0h160v-160H620v160ZM180-180h160v-160H180v160Zm440 0h160v-160H620v160Z\"/>\n",
              "  </svg>\n",
              "    </button>\n",
              "\n",
              "  <style>\n",
              "    .colab-df-container {\n",
              "      display:flex;\n",
              "      gap: 12px;\n",
              "    }\n",
              "\n",
              "    .colab-df-convert {\n",
              "      background-color: #E8F0FE;\n",
              "      border: none;\n",
              "      border-radius: 50%;\n",
              "      cursor: pointer;\n",
              "      display: none;\n",
              "      fill: #1967D2;\n",
              "      height: 32px;\n",
              "      padding: 0 0 0 0;\n",
              "      width: 32px;\n",
              "    }\n",
              "\n",
              "    .colab-df-convert:hover {\n",
              "      background-color: #E2EBFA;\n",
              "      box-shadow: 0px 1px 2px rgba(60, 64, 67, 0.3), 0px 1px 3px 1px rgba(60, 64, 67, 0.15);\n",
              "      fill: #174EA6;\n",
              "    }\n",
              "\n",
              "    .colab-df-buttons div {\n",
              "      margin-bottom: 4px;\n",
              "    }\n",
              "\n",
              "    [theme=dark] .colab-df-convert {\n",
              "      background-color: #3B4455;\n",
              "      fill: #D2E3FC;\n",
              "    }\n",
              "\n",
              "    [theme=dark] .colab-df-convert:hover {\n",
              "      background-color: #434B5C;\n",
              "      box-shadow: 0px 1px 3px 1px rgba(0, 0, 0, 0.15);\n",
              "      filter: drop-shadow(0px 1px 2px rgba(0, 0, 0, 0.3));\n",
              "      fill: #FFFFFF;\n",
              "    }\n",
              "  </style>\n",
              "\n",
              "    <script>\n",
              "      const buttonEl =\n",
              "        document.querySelector('#df-ae7b36cd-f96d-4735-8ba4-04d97489333d button.colab-df-convert');\n",
              "      buttonEl.style.display =\n",
              "        google.colab.kernel.accessAllowed ? 'block' : 'none';\n",
              "\n",
              "      async function convertToInteractive(key) {\n",
              "        const element = document.querySelector('#df-ae7b36cd-f96d-4735-8ba4-04d97489333d');\n",
              "        const dataTable =\n",
              "          await google.colab.kernel.invokeFunction('convertToInteractive',\n",
              "                                                    [key], {});\n",
              "        if (!dataTable) return;\n",
              "\n",
              "        const docLinkHtml = 'Like what you see? Visit the ' +\n",
              "          '<a target=\"_blank\" href=https://colab.research.google.com/notebooks/data_table.ipynb>data table notebook</a>'\n",
              "          + ' to learn more about interactive tables.';\n",
              "        element.innerHTML = '';\n",
              "        dataTable['output_type'] = 'display_data';\n",
              "        await google.colab.output.renderOutput(dataTable, element);\n",
              "        const docLink = document.createElement('div');\n",
              "        docLink.innerHTML = docLinkHtml;\n",
              "        element.appendChild(docLink);\n",
              "      }\n",
              "    </script>\n",
              "  </div>\n",
              "\n",
              "\n",
              "<div id=\"df-1aa5245a-2ba9-4adc-aeaf-bdde1af96dc8\">\n",
              "  <button class=\"colab-df-quickchart\" onclick=\"quickchart('df-1aa5245a-2ba9-4adc-aeaf-bdde1af96dc8')\"\n",
              "            title=\"Suggest charts\"\n",
              "            style=\"display:none;\">\n",
              "\n",
              "<svg xmlns=\"http://www.w3.org/2000/svg\" height=\"24px\"viewBox=\"0 0 24 24\"\n",
              "     width=\"24px\">\n",
              "    <g>\n",
              "        <path d=\"M19 3H5c-1.1 0-2 .9-2 2v14c0 1.1.9 2 2 2h14c1.1 0 2-.9 2-2V5c0-1.1-.9-2-2-2zM9 17H7v-7h2v7zm4 0h-2V7h2v10zm4 0h-2v-4h2v4z\"/>\n",
              "    </g>\n",
              "</svg>\n",
              "  </button>\n",
              "\n",
              "<style>\n",
              "  .colab-df-quickchart {\n",
              "      --bg-color: #E8F0FE;\n",
              "      --fill-color: #1967D2;\n",
              "      --hover-bg-color: #E2EBFA;\n",
              "      --hover-fill-color: #174EA6;\n",
              "      --disabled-fill-color: #AAA;\n",
              "      --disabled-bg-color: #DDD;\n",
              "  }\n",
              "\n",
              "  [theme=dark] .colab-df-quickchart {\n",
              "      --bg-color: #3B4455;\n",
              "      --fill-color: #D2E3FC;\n",
              "      --hover-bg-color: #434B5C;\n",
              "      --hover-fill-color: #FFFFFF;\n",
              "      --disabled-bg-color: #3B4455;\n",
              "      --disabled-fill-color: #666;\n",
              "  }\n",
              "\n",
              "  .colab-df-quickchart {\n",
              "    background-color: var(--bg-color);\n",
              "    border: none;\n",
              "    border-radius: 50%;\n",
              "    cursor: pointer;\n",
              "    display: none;\n",
              "    fill: var(--fill-color);\n",
              "    height: 32px;\n",
              "    padding: 0;\n",
              "    width: 32px;\n",
              "  }\n",
              "\n",
              "  .colab-df-quickchart:hover {\n",
              "    background-color: var(--hover-bg-color);\n",
              "    box-shadow: 0 1px 2px rgba(60, 64, 67, 0.3), 0 1px 3px 1px rgba(60, 64, 67, 0.15);\n",
              "    fill: var(--button-hover-fill-color);\n",
              "  }\n",
              "\n",
              "  .colab-df-quickchart-complete:disabled,\n",
              "  .colab-df-quickchart-complete:disabled:hover {\n",
              "    background-color: var(--disabled-bg-color);\n",
              "    fill: var(--disabled-fill-color);\n",
              "    box-shadow: none;\n",
              "  }\n",
              "\n",
              "  .colab-df-spinner {\n",
              "    border: 2px solid var(--fill-color);\n",
              "    border-color: transparent;\n",
              "    border-bottom-color: var(--fill-color);\n",
              "    animation:\n",
              "      spin 1s steps(1) infinite;\n",
              "  }\n",
              "\n",
              "  @keyframes spin {\n",
              "    0% {\n",
              "      border-color: transparent;\n",
              "      border-bottom-color: var(--fill-color);\n",
              "      border-left-color: var(--fill-color);\n",
              "    }\n",
              "    20% {\n",
              "      border-color: transparent;\n",
              "      border-left-color: var(--fill-color);\n",
              "      border-top-color: var(--fill-color);\n",
              "    }\n",
              "    30% {\n",
              "      border-color: transparent;\n",
              "      border-left-color: var(--fill-color);\n",
              "      border-top-color: var(--fill-color);\n",
              "      border-right-color: var(--fill-color);\n",
              "    }\n",
              "    40% {\n",
              "      border-color: transparent;\n",
              "      border-right-color: var(--fill-color);\n",
              "      border-top-color: var(--fill-color);\n",
              "    }\n",
              "    60% {\n",
              "      border-color: transparent;\n",
              "      border-right-color: var(--fill-color);\n",
              "    }\n",
              "    80% {\n",
              "      border-color: transparent;\n",
              "      border-right-color: var(--fill-color);\n",
              "      border-bottom-color: var(--fill-color);\n",
              "    }\n",
              "    90% {\n",
              "      border-color: transparent;\n",
              "      border-bottom-color: var(--fill-color);\n",
              "    }\n",
              "  }\n",
              "</style>\n",
              "\n",
              "  <script>\n",
              "    async function quickchart(key) {\n",
              "      const quickchartButtonEl =\n",
              "        document.querySelector('#' + key + ' button');\n",
              "      quickchartButtonEl.disabled = true;  // To prevent multiple clicks.\n",
              "      quickchartButtonEl.classList.add('colab-df-spinner');\n",
              "      try {\n",
              "        const charts = await google.colab.kernel.invokeFunction(\n",
              "            'suggestCharts', [key], {});\n",
              "      } catch (error) {\n",
              "        console.error('Error during call to suggestCharts:', error);\n",
              "      }\n",
              "      quickchartButtonEl.classList.remove('colab-df-spinner');\n",
              "      quickchartButtonEl.classList.add('colab-df-quickchart-complete');\n",
              "    }\n",
              "    (() => {\n",
              "      let quickchartButtonEl =\n",
              "        document.querySelector('#df-1aa5245a-2ba9-4adc-aeaf-bdde1af96dc8 button');\n",
              "      quickchartButtonEl.style.display =\n",
              "        google.colab.kernel.accessAllowed ? 'block' : 'none';\n",
              "    })();\n",
              "  </script>\n",
              "</div>\n",
              "\n",
              "    </div>\n",
              "  </div>\n"
            ],
            "application/vnd.google.colaboratory.intrinsic+json": {
              "type": "dataframe",
              "summary": "{\n  \"name\": \"df\",\n  \"rows\": 3,\n  \"fields\": [\n    {\n      \"column\": \"question\",\n      \"properties\": {\n        \"dtype\": \"string\",\n        \"num_unique_values\": 3,\n        \"samples\": [\n          \"Would the Sellers be responsible if after the closing it is determined that there were inaccuracies in the representation provided by them where such inaccuracies are the result of the Sellers\\u2019 gross negligence?\",\n          \"How much is the escrow amount?\",\n          \"What is the purpose of the escrow?\"\n        ],\n        \"semantic_type\": \"\",\n        \"description\": \"\"\n      }\n    },\n    {\n      \"column\": \"answer\",\n      \"properties\": {\n        \"dtype\": \"string\",\n        \"num_unique_values\": 3,\n        \"samples\": [\n          \"No, the Sellers would not be responsible if after the closing it is determined that there were inaccuracies in the representation provided by them where such inaccuracies are the result of the Sellers\\u2019 gross negligence. The Sellers\\u2019 Representative would be responsible in such a scenario.\",\n          \"The escrow amount is $1,000,000.\",\n          \"The purpose of the escrow in this context is to hold the Escrow Amount deposited by the Buyer on behalf of the Sellers until it is released to the Company Securityholders in accordance with the provisions of the Escrow Agreement. The Escrow Agent will disburse payments from the Escrow Account based on the purchase price adjustment provisions of the Agreement and the terms of the Escrow Agreement. Additionally, the Escrow Agent will handle any disputes regarding disbursements and release funds accordingly upon resolution of the dispute.\"\n        ],\n        \"semantic_type\": \"\",\n        \"description\": \"\"\n      }\n    },\n    {\n      \"column\": \"contexts\",\n      \"properties\": {\n        \"dtype\": \"object\",\n        \"semantic_type\": \"\",\n        \"description\": \"\"\n      }\n    },\n    {\n      \"column\": \"ground_truth\",\n      \"properties\": {\n        \"dtype\": \"string\",\n        \"num_unique_values\": 3,\n        \"samples\": [\n          \"Yes\",\n          \"$1,000,000\",\n          \"To serve as a recourse of the Buyer in case of post-closing adjustments of the purchase price\"\n        ],\n        \"semantic_type\": \"\",\n        \"description\": \"\"\n      }\n    },\n    {\n      \"column\": \"context_precision\",\n      \"properties\": {\n        \"dtype\": \"number\",\n        \"std\": 0.09622504485531513,\n        \"min\": 0.3333333333,\n        \"max\": 0.49999999995,\n        \"num_unique_values\": 2,\n        \"samples\": [\n          0.3333333333,\n          0.49999999995\n        ],\n        \"semantic_type\": \"\",\n        \"description\": \"\"\n      }\n    },\n    {\n      \"column\": \"answer_relevancy\",\n      \"properties\": {\n        \"dtype\": \"number\",\n        \"std\": 0.023505749407864828,\n        \"min\": 0.9411199247269392,\n        \"max\": 0.9837243909237089,\n        \"num_unique_values\": 3,\n        \"samples\": [\n          0.9411199247269392,\n          0.9837243909237089\n        ],\n        \"semantic_type\": \"\",\n        \"description\": \"\"\n      }\n    },\n    {\n      \"column\": \"context_recall\",\n      \"properties\": {\n        \"dtype\": \"number\",\n        \"std\": 0.0,\n        \"min\": 1.0,\n        \"max\": 1.0,\n        \"num_unique_values\": 1,\n        \"samples\": [\n          1.0\n        ],\n        \"semantic_type\": \"\",\n        \"description\": \"\"\n      }\n    },\n    {\n      \"column\": \"context_relevancy\",\n      \"properties\": {\n        \"dtype\": \"number\",\n        \"std\": 0.35135858231096,\n        \"min\": 0.14285714285714285,\n        \"max\": 0.8333333333333334,\n        \"num_unique_values\": 3,\n        \"samples\": [\n          0.375\n        ],\n        \"semantic_type\": \"\",\n        \"description\": \"\"\n      }\n    },\n    {\n      \"column\": \"answer_correctness\",\n      \"properties\": {\n        \"dtype\": \"number\",\n        \"std\": 0.42674886249773897,\n        \"min\": 0.18255266677800225,\n        \"max\": 0.9765113643741435,\n        \"num_unique_values\": 3,\n        \"samples\": [\n          0.18255266677800225\n        ],\n        \"semantic_type\": \"\",\n        \"description\": \"\"\n      }\n    },\n    {\n      \"column\": \"answer_similarity\",\n      \"properties\": {\n        \"dtype\": \"number\",\n        \"std\": 0.08826336430238411,\n        \"min\": 0.730210667112009,\n        \"max\": 0.9060454574965742,\n        \"num_unique_values\": 3,\n        \"samples\": [\n          0.730210667112009\n        ],\n        \"semantic_type\": \"\",\n        \"description\": \"\"\n      }\n    }\n  ]\n}"
            }
          },
          "metadata": {},
          "execution_count": 45
        }
      ]
    },
    {
      "cell_type": "code",
      "source": [
        "for key, value in result.items():\n",
        "    rounded_value = round(value, 1)\n",
        "    print(f\"{key}: {rounded_value}\")"
      ],
      "metadata": {
        "colab": {
          "base_uri": "https://localhost:8080/"
        },
        "id": "HIuAqR7nuDGF",
        "outputId": "e05b8692-b8ee-40af-d4a3-a5ac023599b0"
      },
      "execution_count": 46,
      "outputs": [
        {
          "output_type": "stream",
          "name": "stdout",
          "text": [
            "context_precision: 0.5\n",
            "answer_relevancy: 1.0\n",
            "context_recall: 0.7\n",
            "context_relevancy: 0.5\n",
            "answer_correctness: 0.5\n",
            "answer_similarity: 0.8\n"
          ]
        }
      ]
    },
    {
      "cell_type": "code",
      "source": [
        "import matplotlib.pyplot as plt\n",
        "\n",
        "def plot_metrics_with_values(metrics_dict, title='RAG Metrics'):\n",
        "    names = list(metrics_dict.keys())\n",
        "    values = list(metrics_dict.values())\n",
        "    plt.figure(figsize=(12, 4))\n",
        "\n",
        "    rounded_values = [round(value, 1) for value in values]\n",
        "\n",
        "    bars = plt.bar(names, rounded_values, color='skyblue')\n",
        "\n",
        "    for bar in bars:\n",
        "        height = bar.get_height()\n",
        "        plt.text(bar.get_x() + bar.get_width() / 2,\n",
        "                 height + 0.01,\n",
        "                 f'{height:.1f}',\n",
        "                 ha='center', va='bottom', color='black', weight='bold')\n",
        "\n",
        "    plt.ylabel('Score')\n",
        "    plt.title(title)\n",
        "    plt.ylim(0, 1)\n",
        "    plt.show()\n",
        "\n",
        "metrics_dict = {\n",
        "    'context_precision': 0.5,\n",
        "    'answer_relevancy': 0.96,\n",
        "    'context_recall': 0.83,\n",
        "    'context_relevancy': 0.38,\n",
        "    'answer_correctness': 0.56,\n",
        "    'answer_similarity': 0.8\n",
        "}\n",
        "\n",
        "plot_metrics_with_values(metrics_dict)\n"
      ],
      "metadata": {
        "colab": {
          "base_uri": "https://localhost:8080/",
          "height": 391
        },
        "id": "HcJcZYkvSMoY",
        "outputId": "d894018b-aca4-41d1-934f-62b5be9c375c"
      },
      "execution_count": 61,
      "outputs": [
        {
          "output_type": "display_data",
          "data": {
            "text/plain": [
              "<Figure size 1200x400 with 1 Axes>"
            ],
            "image/png": "[encoded data removed]"
          },
          "metadata": {}
        }
      ]
    },
    {
      "cell_type": "code",
      "source": [
        "# Using an other Visualizatio Techniques"
      ],
      "metadata": {
        "id": "d2ZQTcf90Uaa"
      },
      "execution_count": 49,
      "outputs": []
    },
    {
      "cell_type": "code",
      "source": [
        "import plotly.graph_objects as go\n",
        "\n",
        "data = {\n",
        "    'context_precision': result['context_precision'],\n",
        "    'answer_relevancy': result['answer_relevancy'],\n",
        "    'context_recall': result['context_recall'],\n",
        "    'context_relevancy': result['context_relevancy'],\n",
        "    'answer_correctness': result['answer_correctness'],\n",
        "    'answer_similarity': result['answer_similarity']\n",
        "}\n",
        "\n",
        "fig = go.Figure()\n",
        "\n",
        "fig.add_trace(go.Scatterpolar(\n",
        "    r=list(data.values()),\n",
        "    theta=list(data.keys()),\n",
        "    fill='toself',\n",
        "    name='Metric value'\n",
        "))\n",
        "\n",
        "fig.update_layout(\n",
        "    polar=dict(\n",
        "        radialaxis=dict(\n",
        "            visible=True,\n",
        "            range=[0, 1]\n",
        "        )),\n",
        "    showlegend=True,\n",
        "    title='Retrieval Augmented Generation - Evaluation',\n",
        "    width=800,\n",
        ")\n",
        "\n",
        "fig.show()\n"
      ],
      "metadata": {
        "colab": {
          "base_uri": "https://localhost:8080/",
          "height": 542
        },
        "id": "W7HP_WqC0UeC",
        "outputId": "d2ad8480-caa3-4771-be0c-39cea01bb1f4"
      },
      "execution_count": 50,
      "outputs": [
        {
          "output_type": "display_data",
          "data": {
            "text/html": [
              "<html>\n",
              "<head><meta charset=\"utf-8\" /></head>\n",
              "<body>\n",
              "    <div>            <script src=\"https://cdnjs.cloudflare.com/ajax/libs/mathjax/2.7.5/MathJax.js?config=TeX-AMS-MML_SVG\"></script><script type=\"text/javascript\">if (window.MathJax && window.MathJax.Hub && window.MathJax.Hub.Config) {window.MathJax.Hub.Config({SVG: {font: \"STIX-Web\"}});}</script>                <script type=\"text/javascript\">window.PlotlyConfig = {MathJaxConfig: 'local'};</script>\n",
              "        <script charset=\"utf-8\" src=\"https://cdn.plot.ly/plotly-2.24.1.min.js\"></script>                <div id=\"0ce49655-7f70-4c0f-96cc-1619126ae7a4\" class=\"plotly-graph-div\" style=\"height:525px; width:800px;\"></div>            <script type=\"text/javascript\">                                    window.PLOTLYENV=window.PLOTLYENV || {};                                    if (document.getElementById(\"0ce49655-7f70-4c0f-96cc-1619126ae7a4\")) {                    Plotly.newPlot(                        \"0ce49655-7f70-4c0f-96cc-1619126ae7a4\",                        [{\"fill\":\"toself\",\"name\":\"Metric value\",\"r\":[0.45833333329097226,0.9779840072867433,0.6666666666666666,0.5216269841269842,0.47588565314617415,0.8083093943085772],\"theta\":[\"context_precision\",\"answer_relevancy\",\"context_recall\",\"context_relevancy\",\"answer_correctness\",\"answer_similarity\"],\"type\":\"scatterpolar\"}],                        {\"template\":{\"data\":{\"histogram2dcontour\":[{\"type\":\"histogram2dcontour\",\"colorbar\":{\"outlinewidth\":0,\"ticks\":\"\"},\"colorscale\":[[0.0,\"#0d0887\"],[0.1111111111111111,\"#46039f\"],[0.2222222222222222,\"#7201a8\"],[0.3333333333333333,\"#9c179e\"],[0.4444444444444444,\"#bd3786\"],[0.5555555555555556,\"#d8576b\"],[0.6666666666666666,\"#ed7953\"],[0.7777777777777778,\"#fb9f3a\"],[0.8888888888888888,\"#fdca26\"],[1.0,\"#f0f921\"]]}],\"choropleth\":[{\"type\":\"choropleth\",\"colorbar\":{\"outlinewidth\":0,\"ticks\":\"\"}}],\"histogram2d\":[{\"type\":\"histogram2d\",\"colorbar\":{\"outlinewidth\":0,\"ticks\":\"\"},\"colorscale\":[[0.0,\"#0d0887\"],[0.1111111111111111,\"#46039f\"],[0.2222222222222222,\"#7201a8\"],[0.3333333333333333,\"#9c179e\"],[0.4444444444444444,\"#bd3786\"],[0.5555555555555556,\"#d8576b\"],[0.6666666666666666,\"#ed7953\"],[0.7777777777777778,\"#fb9f3a\"],[0.8888888888888888,\"#fdca26\"],[1.0,\"#f0f921\"]]}],\"heatmap\":[{\"type\":\"heatmap\",\"colorbar\":{\"outlinewidth\":0,\"ticks\":\"\"},\"colorscale\":[[0.0,\"#0d0887\"],[0.1111111111111111,\"#46039f\"],[0.2222222222222222,\"#7201a8\"],[0.3333333333333333,\"#9c179e\"],[0.4444444444444444,\"#bd3786\"],[0.5555555555555556,\"#d8576b\"],[0.6666666666666666,\"#ed7953\"],[0.7777777777777778,\"#fb9f3a\"],[0.8888888888888888,\"#fdca26\"],[1.0,\"#f0f921\"]]}],\"heatmapgl\":[{\"type\":\"heatmapgl\",\"colorbar\":{\"outlinewidth\":0,\"ticks\":\"\"},\"colorscale\":[[0.0,\"#0d0887\"],[0.1111111111111111,\"#46039f\"],[0.2222222222222222,\"#7201a8\"],[0.3333333333333333,\"#9c179e\"],[0.4444444444444444,\"#bd3786\"],[0.5555555555555556,\"#d8576b\"],[0.6666666666666666,\"#ed7953\"],[0.7777777777777778,\"#fb9f3a\"],[0.8888888888888888,\"#fdca26\"],[1.0,\"#f0f921\"]]}],\"contourcarpet\":[{\"type\":\"contourcarpet\",\"colorbar\":{\"outlinewidth\":0,\"ticks\":\"\"}}],\"contour\":[{\"type\":\"contour\",\"colorbar\":{\"outlinewidth\":0,\"ticks\":\"\"},\"colorscale\":[[0.0,\"#0d0887\"],[0.1111111111111111,\"#46039f\"],[0.2222222222222222,\"#7201a8\"],[0.3333333333333333,\"#9c179e\"],[0.4444444444444444,\"#bd3786\"],[0.5555555555555556,\"#d8576b\"],[0.6666666666666666,\"#ed7953\"],[0.7777777777777778,\"#fb9f3a\"],[0.8888888888888888,\"#fdca26\"],[1.0,\"#f0f921\"]]}],\"surface\":[{\"type\":\"surface\",\"colorbar\":{\"outlinewidth\":0,\"ticks\":\"\"},\"colorscale\":[[0.0,\"#0d0887\"],[0.1111111111111111,\"#46039f\"],[0.2222222222222222,\"#7201a8\"],[0.3333333333333333,\"#9c179e\"],[0.4444444444444444,\"#bd3786\"],[0.5555555555555556,\"#d8576b\"],[0.6666666666666666,\"#ed7953\"],[0.7777777777777778,\"#fb9f3a\"],[0.8888888888888888,\"#fdca26\"],[1.0,\"#f0f921\"]]}],\"mesh3d\":[{\"type\":\"mesh3d\",\"colorbar\":{\"outlinewidth\":0,\"ticks\":\"\"}}],\"scatter\":[{\"fillpattern\":{\"fillmode\":\"overlay\",\"size\":10,\"solidity\":0.2},\"type\":\"scatter\"}],\"parcoords\":[{\"type\":\"parcoords\",\"line\":{\"colorbar\":{\"outlinewidth\":0,\"ticks\":\"\"}}}],\"scatterpolargl\":[{\"type\":\"scatterpolargl\",\"marker\":{\"colorbar\":{\"outlinewidth\":0,\"ticks\":\"\"}}}],\"bar\":[{\"error_x\":{\"color\":\"#2a3f5f\"},\"error_y\":{\"color\":\"#2a3f5f\"},\"marker\":{\"line\":{\"color\":\"#E5ECF6\",\"width\":0.5},\"pattern\":{\"fillmode\":\"overlay\",\"size\":10,\"solidity\":0.2}},\"type\":\"bar\"}],\"scattergeo\":[{\"type\":\"scattergeo\",\"marker\":{\"colorbar\":{\"outlinewidth\":0,\"ticks\":\"\"}}}],\"scatterpolar\":[{\"type\":\"scatterpolar\",\"marker\":{\"colorbar\":{\"outlinewidth\":0,\"ticks\":\"\"}}}],\"histogram\":[{\"marker\":{\"pattern\":{\"fillmode\":\"overlay\",\"size\":10,\"solidity\":0.2}},\"type\":\"histogram\"}],\"scattergl\":[{\"type\":\"scattergl\",\"marker\":{\"colorbar\":{\"outlinewidth\":0,\"ticks\":\"\"}}}],\"scatter3d\":[{\"type\":\"scatter3d\",\"line\":{\"colorbar\":{\"outlinewidth\":0,\"ticks\":\"\"}},\"marker\":{\"colorbar\":{\"outlinewidth\":0,\"ticks\":\"\"}}}],\"scattermapbox\":[{\"type\":\"scattermapbox\",\"marker\":{\"colorbar\":{\"outlinewidth\":0,\"ticks\":\"\"}}}],\"scatterternary\":[{\"type\":\"scatterternary\",\"marker\":{\"colorbar\":{\"outlinewidth\":0,\"ticks\":\"\"}}}],\"scattercarpet\":[{\"type\":\"scattercarpet\",\"marker\":{\"colorbar\":{\"outlinewidth\":0,\"ticks\":\"\"}}}],\"carpet\":[{\"aaxis\":{\"endlinecolor\":\"#2a3f5f\",\"gridcolor\":\"white\",\"linecolor\":\"white\",\"minorgridcolor\":\"white\",\"startlinecolor\":\"#2a3f5f\"},\"baxis\":{\"endlinecolor\":\"#2a3f5f\",\"gridcolor\":\"white\",\"linecolor\":\"white\",\"minorgridcolor\":\"white\",\"startlinecolor\":\"#2a3f5f\"},\"type\":\"carpet\"}],\"table\":[{\"cells\":{\"fill\":{\"color\":\"#EBF0F8\"},\"line\":{\"color\":\"white\"}},\"header\":{\"fill\":{\"color\":\"#C8D4E3\"},\"line\":{\"color\":\"white\"}},\"type\":\"table\"}],\"barpolar\":[{\"marker\":{\"line\":{\"color\":\"#E5ECF6\",\"width\":0.5},\"pattern\":{\"fillmode\":\"overlay\",\"size\":10,\"solidity\":0.2}},\"type\":\"barpolar\"}],\"pie\":[{\"automargin\":true,\"type\":\"pie\"}]},\"layout\":{\"autotypenumbers\":\"strict\",\"colorway\":[\"#636efa\",\"#EF553B\",\"#00cc96\",\"#ab63fa\",\"#FFA15A\",\"#19d3f3\",\"#FF6692\",\"#B6E880\",\"#FF97FF\",\"#FECB52\"],\"font\":{\"color\":\"#2a3f5f\"},\"hovermode\":\"closest\",\"hoverlabel\":{\"align\":\"left\"},\"paper_bgcolor\":\"white\",\"plot_bgcolor\":\"#E5ECF6\",\"polar\":{\"bgcolor\":\"#E5ECF6\",\"angularaxis\":{\"gridcolor\":\"white\",\"linecolor\":\"white\",\"ticks\":\"\"},\"radialaxis\":{\"gridcolor\":\"white\",\"linecolor\":\"white\",\"ticks\":\"\"}},\"ternary\":{\"bgcolor\":\"#E5ECF6\",\"aaxis\":{\"gridcolor\":\"white\",\"linecolor\":\"white\",\"ticks\":\"\"},\"baxis\":{\"gridcolor\":\"white\",\"linecolor\":\"white\",\"ticks\":\"\"},\"caxis\":{\"gridcolor\":\"white\",\"linecolor\":\"white\",\"ticks\":\"\"}},\"coloraxis\":{\"colorbar\":{\"outlinewidth\":0,\"ticks\":\"\"}},\"colorscale\":{\"sequential\":[[0.0,\"#0d0887\"],[0.1111111111111111,\"#46039f\"],[0.2222222222222222,\"#7201a8\"],[0.3333333333333333,\"#9c179e\"],[0.4444444444444444,\"#bd3786\"],[0.5555555555555556,\"#d8576b\"],[0.6666666666666666,\"#ed7953\"],[0.7777777777777778,\"#fb9f3a\"],[0.8888888888888888,\"#fdca26\"],[1.0,\"#f0f921\"]],\"sequentialminus\":[[0.0,\"#0d0887\"],[0.1111111111111111,\"#46039f\"],[0.2222222222222222,\"#7201a8\"],[0.3333333333333333,\"#9c179e\"],[0.4444444444444444,\"#bd3786\"],[0.5555555555555556,\"#d8576b\"],[0.6666666666666666,\"#ed7953\"],[0.7777777777777778,\"#fb9f3a\"],[0.8888888888888888,\"#fdca26\"],[1.0,\"#f0f921\"]],\"diverging\":[[0,\"#8e0152\"],[0.1,\"#c51b7d\"],[0.2,\"#de77ae\"],[0.3,\"#f1b6da\"],[0.4,\"#fde0ef\"],[0.5,\"#f7f7f7\"],[0.6,\"#e6f5d0\"],[0.7,\"#b8e186\"],[0.8,\"#7fbc41\"],[0.9,\"#4d9221\"],[1,\"#276419\"]]},\"xaxis\":{\"gridcolor\":\"white\",\"linecolor\":\"white\",\"ticks\":\"\",\"title\":{\"standoff\":15},\"zerolinecolor\":\"white\",\"automargin\":true,\"zerolinewidth\":2},\"yaxis\":{\"gridcolor\":\"white\",\"linecolor\":\"white\",\"ticks\":\"\",\"title\":{\"standoff\":15},\"zerolinecolor\":\"white\",\"automargin\":true,\"zerolinewidth\":2},\"scene\":{\"xaxis\":{\"backgroundcolor\":\"#E5ECF6\",\"gridcolor\":\"white\",\"linecolor\":\"white\",\"showbackground\":true,\"ticks\":\"\",\"zerolinecolor\":\"white\",\"gridwidth\":2},\"yaxis\":{\"backgroundcolor\":\"#E5ECF6\",\"gridcolor\":\"white\",\"linecolor\":\"white\",\"showbackground\":true,\"ticks\":\"\",\"zerolinecolor\":\"white\",\"gridwidth\":2},\"zaxis\":{\"backgroundcolor\":\"#E5ECF6\",\"gridcolor\":\"white\",\"linecolor\":\"white\",\"showbackground\":true,\"ticks\":\"\",\"zerolinecolor\":\"white\",\"gridwidth\":2}},\"shapedefaults\":{\"line\":{\"color\":\"#2a3f5f\"}},\"annotationdefaults\":{\"arrowcolor\":\"#2a3f5f\",\"arrowhead\":0,\"arrowwidth\":1},\"geo\":{\"bgcolor\":\"white\",\"landcolor\":\"#E5ECF6\",\"subunitcolor\":\"white\",\"showland\":true,\"showlakes\":true,\"lakecolor\":\"white\"},\"title\":{\"x\":0.05},\"mapbox\":{\"style\":\"light\"}}},\"polar\":{\"radialaxis\":{\"visible\":true,\"range\":[0,1]}},\"showlegend\":true,\"title\":{\"text\":\"Retrieval Augmented Generation - Evaluation\"},\"width\":800},                        {\"responsive\": true}                    ).then(function(){\n",
              "                            \n",
              "var gd = document.getElementById('0ce49655-7f70-4c0f-96cc-1619126ae7a4');\n",
              "var x = new MutationObserver(function (mutations, observer) {{\n",
              "        var display = window.getComputedStyle(gd).display;\n",
              "        if (!display || display === 'none') {{\n",
              "            console.log([gd, 'removed!']);\n",
              "            Plotly.purge(gd);\n",
              "            observer.disconnect();\n",
              "        }}\n",
              "}});\n",
              "\n",
              "// Listen for the removal of the full notebook cells\n",
              "var notebookContainer = gd.closest('#notebook-container');\n",
              "if (notebookContainer) {{\n",
              "    x.observe(notebookContainer, {childList: true});\n",
              "}}\n",
              "\n",
              "// Listen for the clearing of the current output cell\n",
              "var outputEl = gd.closest('.output');\n",
              "if (outputEl) {{\n",
              "    x.observe(outputEl, {childList: true});\n",
              "}}\n",
              "\n",
              "                        })                };                            </script>        </div>\n",
              "</body>\n",
              "</html>"
            ]
          },
          "metadata": {}
        }
      ]
    },
    {
      "cell_type": "code",
      "source": [],
      "metadata": {
        "id": "aNz4-0P40UiQ"
      },
      "execution_count": null,
      "outputs": []
    },
    {
      "cell_type": "markdown",
      "source": [
        "##### **Experimenting With Other Retrievers**\n",
        "Now we can test how changing our Retriever impacts our RAG evaluation!\n",
        "\n",
        "We’ll build this simple qa_chain factory to create standardized qa_chains where the only different component will be the retriever."
      ],
      "metadata": {
        "id": "Fg7cpnJOQI5r"
      }
    },
    {
      "cell_type": "code",
      "source": [
        "def create_qa_chain(retriever, primary_qa_llm):\n",
        "  created_qa_chain = (\n",
        "    {\"context\": itemgetter(\"question\") | retriever,\n",
        "     \"question\": itemgetter(\"question\")\n",
        "    }\n",
        "    | RunnablePassthrough.assign(\n",
        "        context=itemgetter(\"context\")\n",
        "      )\n",
        "    | {\n",
        "         \"response\": prompt | primary_qa_llm,\n",
        "         \"context\": itemgetter(\"context\"),\n",
        "      }\n",
        "  )\n",
        "\n",
        "  return created_qa_chain\n"
      ],
      "metadata": {
        "id": "gIwsT2eS0UmU"
      },
      "execution_count": 62,
      "outputs": []
    },
    {
      "cell_type": "code",
      "source": [
        "def create_qa_chain(retriever, primary_qa_llm):\n",
        "  created_qa_chain = (\n",
        "    {\"context\": itemgetter(\"question\") | retriever,\n",
        "     \"question\": itemgetter(\"question\")\n",
        "    }\n",
        "    | RunnablePassthrough.assign(\n",
        "        context=itemgetter(\"context\")\n",
        "      )\n",
        "    | {\n",
        "         \"response\": prompt | primary_qa_llm,\n",
        "         \"context\": itemgetter(\"context\"),\n",
        "      }\n",
        "  )\n",
        "\n",
        "  return created_qa_chain"
      ],
      "metadata": {
        "id": "AF-xcXo3LGDK"
      },
      "execution_count": 63,
      "outputs": []
    },
    {
      "cell_type": "markdown",
      "source": [
        "##### Parent Document Retriever"
      ],
      "metadata": {
        "id": "vJpOz4KnMbps"
      }
    },
    {
      "cell_type": "code",
      "source": [],
      "metadata": {
        "id": "eDJcD_PiYPMM"
      },
      "execution_count": null,
      "outputs": []
    },
    {
      "cell_type": "code",
      "source": [],
      "metadata": {
        "id": "eJnrAjyCN8gI"
      },
      "execution_count": null,
      "outputs": []
    }
  ],
  "metadata": {
    "colab": {
      "provenance": [],
      "gpuType": "T4",
      "include_colab_link": true
    },
    "kernelspec": {
      "display_name": "Python 3",
      "name": "python3"
    },
    "language_info": {
      "codemirror_mode": {
        "name": "ipython",
        "version": 3
      },
      "file_extension": ".py",
      "mimetype": "text/x-python",
      "name": "python",
      "nbconvert_exporter": "python",
      "pygments_lexer": "ipython3",
      "version": "3.11.5"
    },
    "widgets": {
      "application/vnd.jupyter.widget-state+json": {
        "7a3667c02c934c7cb6dfdfd9c1c696cf": {
          "model_module": "@jupyter-widgets/controls",
          "model_name": "HBoxModel",
          "model_module_version": "1.5.0",
          "state": {
            "_dom_classes": [],
            "_model_module": "@jupyter-widgets/controls",
            "_model_module_version": "1.5.0",
            "_model_name": "HBoxModel",
            "_view_count": null,
            "_view_module": "@jupyter-widgets/controls",
            "_view_module_version": "1.5.0",
            "_view_name": "HBoxView",
            "box_style": "",
            "children": [
              "IPY_MODEL_eadd22f05fd845c28e762bf21ef2d35d",
              "IPY_MODEL_50f1b27cd85f47618f2d5fe6839aec4f",
              "IPY_MODEL_1df2a448729a49789d7a948b6fb2b2d0"
            ],
            "layout": "IPY_MODEL_4aee937aab3d43bbb8e48c13e764147e"
          }
        },
        "eadd22f05fd845c28e762bf21ef2d35d": {
          "model_module": "@jupyter-widgets/controls",
          "model_name": "HTMLModel",
          "model_module_version": "1.5.0",
          "state": {
            "_dom_classes": [],
            "_model_module": "@jupyter-widgets/controls",
            "_model_module_version": "1.5.0",
            "_model_name": "HTMLModel",
            "_view_count": null,
            "_view_module": "@jupyter-widgets/controls",
            "_view_module_version": "1.5.0",
            "_view_name": "HTMLView",
            "description": "",
            "description_tooltip": null,
            "layout": "IPY_MODEL_6a0c5219cfaf4f80a84315c282830cd0",
            "placeholder": "​",
            "style": "IPY_MODEL_ee98a29389b24ca5b8862328608598c1",
            "value": "Evaluating: 100%"
          }
        },
        "50f1b27cd85f47618f2d5fe6839aec4f": {
          "model_module": "@jupyter-widgets/controls",
          "model_name": "FloatProgressModel",
          "model_module_version": "1.5.0",
          "state": {
            "_dom_classes": [],
            "_model_module": "@jupyter-widgets/controls",
            "_model_module_version": "1.5.0",
            "_model_name": "FloatProgressModel",
            "_view_count": null,
            "_view_module": "@jupyter-widgets/controls",
            "_view_module_version": "1.5.0",
            "_view_name": "ProgressView",
            "bar_style": "success",
            "description": "",
            "description_tooltip": null,
            "layout": "IPY_MODEL_66c445fa45e94e32942c370a7ca27d12",
            "max": 84,
            "min": 0,
            "orientation": "horizontal",
            "style": "IPY_MODEL_fc93745aa2404b8f98fcaf0b633f7c27",
            "value": 84
          }
        },
        "1df2a448729a49789d7a948b6fb2b2d0": {
          "model_module": "@jupyter-widgets/controls",
          "model_name": "HTMLModel",
          "model_module_version": "1.5.0",
          "state": {
            "_dom_classes": [],
            "_model_module": "@jupyter-widgets/controls",
            "_model_module_version": "1.5.0",
            "_model_name": "HTMLModel",
            "_view_count": null,
            "_view_module": "@jupyter-widgets/controls",
            "_view_module_version": "1.5.0",
            "_view_name": "HTMLView",
            "description": "",
            "description_tooltip": null,
            "layout": "IPY_MODEL_3ed2c5177cdc4b98b6434182f0a4617a",
            "placeholder": "​",
            "style": "IPY_MODEL_a8f3c995e4d145038a89be2789b25b4a",
            "value": " 84/84 [00:18&lt;00:00,  4.44it/s]"
          }
        },
        "4aee937aab3d43bbb8e48c13e764147e": {
          "model_module": "@jupyter-widgets/base",
          "model_name": "LayoutModel",
          "model_module_version": "1.2.0",
          "state": {
            "_model_module": "@jupyter-widgets/base",
            "_model_module_version": "1.2.0",
            "_model_name": "LayoutModel",
            "_view_count": null,
            "_view_module": "@jupyter-widgets/base",
            "_view_module_version": "1.2.0",
            "_view_name": "LayoutView",
            "align_content": null,
            "align_items": null,
            "align_self": null,
            "border": null,
            "bottom": null,
            "display": null,
            "flex": null,
            "flex_flow": null,
            "grid_area": null,
            "grid_auto_columns": null,
            "grid_auto_flow": null,
            "grid_auto_rows": null,
            "grid_column": null,
            "grid_gap": null,
            "grid_row": null,
            "grid_template_areas": null,
            "grid_template_columns": null,
            "grid_template_rows": null,
            "height": null,
            "justify_content": null,
            "justify_items": null,
            "left": null,
            "margin": null,
            "max_height": null,
            "max_width": null,
            "min_height": null,
            "min_width": null,
            "object_fit": null,
            "object_position": null,
            "order": null,
            "overflow": null,
            "overflow_x": null,
            "overflow_y": null,
            "padding": null,
            "right": null,
            "top": null,
            "visibility": null,
            "width": null
          }
        },
        "6a0c5219cfaf4f80a84315c282830cd0": {
          "model_module": "@jupyter-widgets/base",
          "model_name": "LayoutModel",
          "model_module_version": "1.2.0",
          "state": {
            "_model_module": "@jupyter-widgets/base",
            "_model_module_version": "1.2.0",
            "_model_name": "LayoutModel",
            "_view_count": null,
            "_view_module": "@jupyter-widgets/base",
            "_view_module_version": "1.2.0",
            "_view_name": "LayoutView",
            "align_content": null,
            "align_items": null,
            "align_self": null,
            "border": null,
            "bottom": null,
            "display": null,
            "flex": null,
            "flex_flow": null,
            "grid_area": null,
            "grid_auto_columns": null,
            "grid_auto_flow": null,
            "grid_auto_rows": null,
            "grid_column": null,
            "grid_gap": null,
            "grid_row": null,
            "grid_template_areas": null,
            "grid_template_columns": null,
            "grid_template_rows": null,
            "height": null,
            "justify_content": null,
            "justify_items": null,
            "left": null,
            "margin": null,
            "max_height": null,
            "max_width": null,
            "min_height": null,
            "min_width": null,
            "object_fit": null,
            "object_position": null,
            "order": null,
            "overflow": null,
            "overflow_x": null,
            "overflow_y": null,
            "padding": null,
            "right": null,
            "top": null,
            "visibility": null,
            "width": null
          }
        },
        "ee98a29389b24ca5b8862328608598c1": {
          "model_module": "@jupyter-widgets/controls",
          "model_name": "DescriptionStyleModel",
          "model_module_version": "1.5.0",
          "state": {
            "_model_module": "@jupyter-widgets/controls",
            "_model_module_version": "1.5.0",
            "_model_name": "DescriptionStyleModel",
            "_view_count": null,
            "_view_module": "@jupyter-widgets/base",
            "_view_module_version": "1.2.0",
            "_view_name": "StyleView",
            "description_width": ""
          }
        },
        "66c445fa45e94e32942c370a7ca27d12": {
          "model_module": "@jupyter-widgets/base",
          "model_name": "LayoutModel",
          "model_module_version": "1.2.0",
          "state": {
            "_model_module": "@jupyter-widgets/base",
            "_model_module_version": "1.2.0",
            "_model_name": "LayoutModel",
            "_view_count": null,
            "_view_module": "@jupyter-widgets/base",
            "_view_module_version": "1.2.0",
            "_view_name": "LayoutView",
            "align_content": null,
            "align_items": null,
            "align_self": null,
            "border": null,
            "bottom": null,
            "display": null,
            "flex": null,
            "flex_flow": null,
            "grid_area": null,
            "grid_auto_columns": null,
            "grid_auto_flow": null,
            "grid_auto_rows": null,
            "grid_column": null,
            "grid_gap": null,
            "grid_row": null,
            "grid_template_areas": null,
            "grid_template_columns": null,
            "grid_template_rows": null,
            "height": null,
            "justify_content": null,
            "justify_items": null,
            "left": null,
            "margin": null,
            "max_height": null,
            "max_width": null,
            "min_height": null,
            "min_width": null,
            "object_fit": null,
            "object_position": null,
            "order": null,
            "overflow": null,
            "overflow_x": null,
            "overflow_y": null,
            "padding": null,
            "right": null,
            "top": null,
            "visibility": null,
            "width": null
          }
        },
        "fc93745aa2404b8f98fcaf0b633f7c27": {
          "model_module": "@jupyter-widgets/controls",
          "model_name": "ProgressStyleModel",
          "model_module_version": "1.5.0",
          "state": {
            "_model_module": "@jupyter-widgets/controls",
            "_model_module_version": "1.5.0",
            "_model_name": "ProgressStyleModel",
            "_view_count": null,
            "_view_module": "@jupyter-widgets/base",
            "_view_module_version": "1.2.0",
            "_view_name": "StyleView",
            "bar_color": null,
            "description_width": ""
          }
        },
        "3ed2c5177cdc4b98b6434182f0a4617a": {
          "model_module": "@jupyter-widgets/base",
          "model_name": "LayoutModel",
          "model_module_version": "1.2.0",
          "state": {
            "_model_module": "@jupyter-widgets/base",
            "_model_module_version": "1.2.0",
            "_model_name": "LayoutModel",
            "_view_count": null,
            "_view_module": "@jupyter-widgets/base",
            "_view_module_version": "1.2.0",
            "_view_name": "LayoutView",
            "align_content": null,
            "align_items": null,
            "align_self": null,
            "border": null,
            "bottom": null,
            "display": null,
            "flex": null,
            "flex_flow": null,
            "grid_area": null,
            "grid_auto_columns": null,
            "grid_auto_flow": null,
            "grid_auto_rows": null,
            "grid_column": null,
            "grid_gap": null,
            "grid_row": null,
            "grid_template_areas": null,
            "grid_template_columns": null,
            "grid_template_rows": null,
            "height": null,
            "justify_content": null,
            "justify_items": null,
            "left": null,
            "margin": null,
            "max_height": null,
            "max_width": null,
            "min_height": null,
            "min_width": null,
            "object_fit": null,
            "object_position": null,
            "order": null,
            "overflow": null,
            "overflow_x": null,
            "overflow_y": null,
            "padding": null,
            "right": null,
            "top": null,
            "visibility": null,
            "width": null
          }
        },
        "a8f3c995e4d145038a89be2789b25b4a": {
          "model_module": "@jupyter-widgets/controls",
          "model_name": "DescriptionStyleModel",
          "model_module_version": "1.5.0",
          "state": {
            "_model_module": "@jupyter-widgets/controls",
            "_model_module_version": "1.5.0",
            "_model_name": "DescriptionStyleModel",
            "_view_count": null,
            "_view_module": "@jupyter-widgets/base",
            "_view_module_version": "1.2.0",
            "_view_name": "StyleView",
            "description_width": ""
          }
        },
        "aa7f44fd99f041d8a437174f9c55c11b": {
          "model_module": "@jupyter-widgets/controls",
          "model_name": "HBoxModel",
          "model_module_version": "1.5.0",
          "state": {
            "_dom_classes": [],
            "_model_module": "@jupyter-widgets/controls",
            "_model_module_version": "1.5.0",
            "_model_name": "HBoxModel",
            "_view_count": null,
            "_view_module": "@jupyter-widgets/controls",
            "_view_module_version": "1.5.0",
            "_view_name": "HBoxView",
            "box_style": "",
            "children": [
              "IPY_MODEL_ab0b60fab922492c84a763df04629164",
              "IPY_MODEL_d35165ffc1a6498faa854208e5072714",
              "IPY_MODEL_0ae1fd9b84d947daa41dfcbd902a6f72"
            ],
            "layout": "IPY_MODEL_f61bec60480e46e985915471bd35f581"
          }
        },
        "ab0b60fab922492c84a763df04629164": {
          "model_module": "@jupyter-widgets/controls",
          "model_name": "HTMLModel",
          "model_module_version": "1.5.0",
          "state": {
            "_dom_classes": [],
            "_model_module": "@jupyter-widgets/controls",
            "_model_module_version": "1.5.0",
            "_model_name": "HTMLModel",
            "_view_count": null,
            "_view_module": "@jupyter-widgets/controls",
            "_view_module_version": "1.5.0",
            "_view_name": "HTMLView",
            "description": "",
            "description_tooltip": null,
            "layout": "IPY_MODEL_072dcf721f664cafbe57f2f9bfc9dcf7",
            "placeholder": "​",
            "style": "IPY_MODEL_1dfef0d95f7a4eb8a5d91ffd5b121b39",
            "value": "Evaluating: 100%"
          }
        },
        "d35165ffc1a6498faa854208e5072714": {
          "model_module": "@jupyter-widgets/controls",
          "model_name": "FloatProgressModel",
          "model_module_version": "1.5.0",
          "state": {
            "_dom_classes": [],
            "_model_module": "@jupyter-widgets/controls",
            "_model_module_version": "1.5.0",
            "_model_name": "FloatProgressModel",
            "_view_count": null,
            "_view_module": "@jupyter-widgets/controls",
            "_view_module_version": "1.5.0",
            "_view_name": "ProgressView",
            "bar_style": "success",
            "description": "",
            "description_tooltip": null,
            "layout": "IPY_MODEL_28d83a01a0ee43a9956667741fbb57d6",
            "max": 36,
            "min": 0,
            "orientation": "horizontal",
            "style": "IPY_MODEL_e47c7b45172647dda83a8de721a55ed3",
            "value": 36
          }
        },
        "0ae1fd9b84d947daa41dfcbd902a6f72": {
          "model_module": "@jupyter-widgets/controls",
          "model_name": "HTMLModel",
          "model_module_version": "1.5.0",
          "state": {
            "_dom_classes": [],
            "_model_module": "@jupyter-widgets/controls",
            "_model_module_version": "1.5.0",
            "_model_name": "HTMLModel",
            "_view_count": null,
            "_view_module": "@jupyter-widgets/controls",
            "_view_module_version": "1.5.0",
            "_view_name": "HTMLView",
            "description": "",
            "description_tooltip": null,
            "layout": "IPY_MODEL_5ab6083f2352411bb28dfa65622c6787",
            "placeholder": "​",
            "style": "IPY_MODEL_9c497d2feaf84dbeaaa1eca24345d81a",
            "value": " 36/36 [00:23&lt;00:00,  1.79s/it]"
          }
        },
        "f61bec60480e46e985915471bd35f581": {
          "model_module": "@jupyter-widgets/base",
          "model_name": "LayoutModel",
          "model_module_version": "1.2.0",
          "state": {
            "_model_module": "@jupyter-widgets/base",
            "_model_module_version": "1.2.0",
            "_model_name": "LayoutModel",
            "_view_count": null,
            "_view_module": "@jupyter-widgets/base",
            "_view_module_version": "1.2.0",
            "_view_name": "LayoutView",
            "align_content": null,
            "align_items": null,
            "align_self": null,
            "border": null,
            "bottom": null,
            "display": null,
            "flex": null,
            "flex_flow": null,
            "grid_area": null,
            "grid_auto_columns": null,
            "grid_auto_flow": null,
            "grid_auto_rows": null,
            "grid_column": null,
            "grid_gap": null,
            "grid_row": null,
            "grid_template_areas": null,
            "grid_template_columns": null,
            "grid_template_rows": null,
            "height": null,
            "justify_content": null,
            "justify_items": null,
            "left": null,
            "margin": null,
            "max_height": null,
            "max_width": null,
            "min_height": null,
            "min_width": null,
            "object_fit": null,
            "object_position": null,
            "order": null,
            "overflow": null,
            "overflow_x": null,
            "overflow_y": null,
            "padding": null,
            "right": null,
            "top": null,
            "visibility": null,
            "width": null
          }
        },
        "072dcf721f664cafbe57f2f9bfc9dcf7": {
          "model_module": "@jupyter-widgets/base",
          "model_name": "LayoutModel",
          "model_module_version": "1.2.0",
          "state": {
            "_model_module": "@jupyter-widgets/base",
            "_model_module_version": "1.2.0",
            "_model_name": "LayoutModel",
            "_view_count": null,
            "_view_module": "@jupyter-widgets/base",
            "_view_module_version": "1.2.0",
            "_view_name": "LayoutView",
            "align_content": null,
            "align_items": null,
            "align_self": null,
            "border": null,
            "bottom": null,
            "display": null,
            "flex": null,
            "flex_flow": null,
            "grid_area": null,
            "grid_auto_columns": null,
            "grid_auto_flow": null,
            "grid_auto_rows": null,
            "grid_column": null,
            "grid_gap": null,
            "grid_row": null,
            "grid_template_areas": null,
            "grid_template_columns": null,
            "grid_template_rows": null,
            "height": null,
            "justify_content": null,
            "justify_items": null,
            "left": null,
            "margin": null,
            "max_height": null,
            "max_width": null,
            "min_height": null,
            "min_width": null,
            "object_fit": null,
            "object_position": null,
            "order": null,
            "overflow": null,
            "overflow_x": null,
            "overflow_y": null,
            "padding": null,
            "right": null,
            "top": null,
            "visibility": null,
            "width": null
          }
        },
        "1dfef0d95f7a4eb8a5d91ffd5b121b39": {
          "model_module": "@jupyter-widgets/controls",
          "model_name": "DescriptionStyleModel",
          "model_module_version": "1.5.0",
          "state": {
            "_model_module": "@jupyter-widgets/controls",
            "_model_module_version": "1.5.0",
            "_model_name": "DescriptionStyleModel",
            "_view_count": null,
            "_view_module": "@jupyter-widgets/base",
            "_view_module_version": "1.2.0",
            "_view_name": "StyleView",
            "description_width": ""
          }
        },
        "28d83a01a0ee43a9956667741fbb57d6": {
          "model_module": "@jupyter-widgets/base",
          "model_name": "LayoutModel",
          "model_module_version": "1.2.0",
          "state": {
            "_model_module": "@jupyter-widgets/base",
            "_model_module_version": "1.2.0",
            "_model_name": "LayoutModel",
            "_view_count": null,
            "_view_module": "@jupyter-widgets/base",
            "_view_module_version": "1.2.0",
            "_view_name": "LayoutView",
            "align_content": null,
            "align_items": null,
            "align_self": null,
            "border": null,
            "bottom": null,
            "display": null,
            "flex": null,
            "flex_flow": null,
            "grid_area": null,
            "grid_auto_columns": null,
            "grid_auto_flow": null,
            "grid_auto_rows": null,
            "grid_column": null,
            "grid_gap": null,
            "grid_row": null,
            "grid_template_areas": null,
            "grid_template_columns": null,
            "grid_template_rows": null,
            "height": null,
            "justify_content": null,
            "justify_items": null,
            "left": null,
            "margin": null,
            "max_height": null,
            "max_width": null,
            "min_height": null,
            "min_width": null,
            "object_fit": null,
            "object_position": null,
            "order": null,
            "overflow": null,
            "overflow_x": null,
            "overflow_y": null,
            "padding": null,
            "right": null,
            "top": null,
            "visibility": null,
            "width": null
          }
        },
        "e47c7b45172647dda83a8de721a55ed3": {
          "model_module": "@jupyter-widgets/controls",
          "model_name": "ProgressStyleModel",
          "model_module_version": "1.5.0",
          "state": {
            "_model_module": "@jupyter-widgets/controls",
            "_model_module_version": "1.5.0",
            "_model_name": "ProgressStyleModel",
            "_view_count": null,
            "_view_module": "@jupyter-widgets/base",
            "_view_module_version": "1.2.0",
            "_view_name": "StyleView",
            "bar_color": null,
            "description_width": ""
          }
        },
        "5ab6083f2352411bb28dfa65622c6787": {
          "model_module": "@jupyter-widgets/base",
          "model_name": "LayoutModel",
          "model_module_version": "1.2.0",
          "state": {
            "_model_module": "@jupyter-widgets/base",
            "_model_module_version": "1.2.0",
            "_model_name": "LayoutModel",
            "_view_count": null,
            "_view_module": "@jupyter-widgets/base",
            "_view_module_version": "1.2.0",
            "_view_name": "LayoutView",
            "align_content": null,
            "align_items": null,
            "align_self": null,
            "border": null,
            "bottom": null,
            "display": null,
            "flex": null,
            "flex_flow": null,
            "grid_area": null,
            "grid_auto_columns": null,
            "grid_auto_flow": null,
            "grid_auto_rows": null,
            "grid_column": null,
            "grid_gap": null,
            "grid_row": null,
            "grid_template_areas": null,
            "grid_template_columns": null,
            "grid_template_rows": null,
            "height": null,
            "justify_content": null,
            "justify_items": null,
            "left": null,
            "margin": null,
            "max_height": null,
            "max_width": null,
            "min_height": null,
            "min_width": null,
            "object_fit": null,
            "object_position": null,
            "order": null,
            "overflow": null,
            "overflow_x": null,
            "overflow_y": null,
            "padding": null,
            "right": null,
            "top": null,
            "visibility": null,
            "width": null
          }
        },
        "9c497d2feaf84dbeaaa1eca24345d81a": {
          "model_module": "@jupyter-widgets/controls",
          "model_name": "DescriptionStyleModel",
          "model_module_version": "1.5.0",
          "state": {
            "_model_module": "@jupyter-widgets/controls",
            "_model_module_version": "1.5.0",
            "_model_name": "DescriptionStyleModel",
            "_view_count": null,
            "_view_module": "@jupyter-widgets/base",
            "_view_module_version": "1.2.0",
            "_view_name": "StyleView",
            "description_width": ""
          }
        }
      }
    },
    "accelerator": "GPU"
  },
  "nbformat": 4,
  "nbformat_minor": 0
}