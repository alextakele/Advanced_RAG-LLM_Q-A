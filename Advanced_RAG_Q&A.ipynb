{
  "cells": [
    {
      "cell_type": "markdown",
      "metadata": {
        "id": "view-in-github",
        "colab_type": "text"
      },
      "source": [
        "<a href=\"https://colab.research.google.com/github/alextakele/Advanced_RAG-based-LLM_Q-A/blob/main/Advanced_RAG_Q%26A.ipynb\" target=\"_parent\"><img src=\"https://colab.research.google.com/assets/colab-badge.svg\" alt=\"Open In Colab\"/></a>"
      ]
    },
    {
      "cell_type": "markdown",
      "metadata": {
        "id": "3NK866Dn2k-R"
      },
      "source": [
        "## Set up"
      ]
    },
    {
      "cell_type": "code",
      "execution_count": 1,
      "metadata": {
        "colab": {
          "base_uri": "https://localhost:8080/"
        },
        "id": "9Ps11nAU3k_d",
        "outputId": "84d882a0-a919-47e0-91df-be4205a3238e"
      },
      "outputs": [
        {
          "output_type": "stream",
          "name": "stdout",
          "text": [
            "Mounted at /content/drive\n"
          ]
        }
      ],
      "source": [
        "from google.colab import drive\n",
        "drive.mount('/content/drive')\n",
        "import os\n",
        "folder_path = '/content/drive/MyDrive/RAG-based-LLM/data/'\n",
        "os.chdir(folder_path)\n"
      ]
    },
    {
      "cell_type": "markdown",
      "source": [
        "from google.colab import drive\n",
        "drive.mount('/content/drive')\n",
        "import os\n",
        "folder_path = '/content/drive/MyDrive/RAG-based-LLM/data/'\n",
        "os.chdir(folder_path)"
      ],
      "metadata": {
        "id": "ke334qJ0LK1f"
      }
    },
    {
      "cell_type": "markdown",
      "source": [
        "\n",
        "\n",
        "\n",
        "\n",
        "\n",
        "\n"
      ],
      "metadata": {
        "id": "Yq6rakxfLAJU"
      }
    },
    {
      "cell_type": "code",
      "execution_count": 3,
      "metadata": {
        "colab": {
          "base_uri": "https://localhost:8080/"
        },
        "id": "r6HdEBsO9bgw",
        "outputId": "414e62b5-bbad-4b14-ee4b-d7bd8ad5f802"
      },
      "outputs": [
        {
          "output_type": "stream",
          "name": "stdout",
          "text": [
            "\u001b[2K     \u001b[90m━━━━━━━━━━━━━━━━━━━━━━━━━━━━━━━━━━━━━━━━\u001b[0m \u001b[32m817.0/817.0 kB\u001b[0m \u001b[31m9.8 MB/s\u001b[0m eta \u001b[36m0:00:00\u001b[0m\n",
            "\u001b[2K     \u001b[90m━━━━━━━━━━━━━━━━━━━━━━━━━━━━━━━━━━━━━━━━\u001b[0m \u001b[32m250.8/250.8 kB\u001b[0m \u001b[31m12.7 MB/s\u001b[0m eta \u001b[36m0:00:00\u001b[0m\n",
            "\u001b[2K     \u001b[90m━━━━━━━━━━━━━━━━━━━━━━━━━━━━━━━━━━━━━━━━\u001b[0m \u001b[32m1.7/1.7 MB\u001b[0m \u001b[31m22.4 MB/s\u001b[0m eta \u001b[36m0:00:00\u001b[0m\n",
            "\u001b[2K     \u001b[90m━━━━━━━━━━━━━━━━━━━━━━━━━━━━━━━━━━━━━━━━\u001b[0m \u001b[32m227.4/227.4 kB\u001b[0m \u001b[31m17.3 MB/s\u001b[0m eta \u001b[36m0:00:00\u001b[0m\n",
            "\u001b[2K     \u001b[90m━━━━━━━━━━━━━━━━━━━━━━━━━━━━━━━━━━━━━━━━\u001b[0m \u001b[32m69.7/69.7 kB\u001b[0m \u001b[31m8.1 MB/s\u001b[0m eta \u001b[36m0:00:00\u001b[0m\n",
            "\u001b[2K     \u001b[90m━━━━━━━━━━━━━━━━━━━━━━━━━━━━━━━━━━━━━━━━\u001b[0m \u001b[32m239.6/239.6 kB\u001b[0m \u001b[31m23.7 MB/s\u001b[0m eta \u001b[36m0:00:00\u001b[0m\n",
            "\u001b[2K     \u001b[90m━━━━━━━━━━━━━━━━━━━━━━━━━━━━━━━━━━━━━━━━\u001b[0m \u001b[32m1.8/1.8 MB\u001b[0m \u001b[31m35.3 MB/s\u001b[0m eta \u001b[36m0:00:00\u001b[0m\n",
            "\u001b[2K     \u001b[90m━━━━━━━━━━━━━━━━━━━━━━━━━━━━━━━━━━━━━━━━\u001b[0m \u001b[32m52.0/52.0 kB\u001b[0m \u001b[31m4.7 MB/s\u001b[0m eta \u001b[36m0:00:00\u001b[0m\n",
            "\u001b[2K     \u001b[90m━━━━━━━━━━━━━━━━━━━━━━━━━━━━━━━━━━━━━━━━\u001b[0m \u001b[32m17.6/17.6 MB\u001b[0m \u001b[31m39.0 MB/s\u001b[0m eta \u001b[36m0:00:00\u001b[0m\n",
            "\u001b[2K     \u001b[90m━━━━━━━━━━━━━━━━━━━━━━━━━━━━━━━━━━━━━━━━\u001b[0m \u001b[32m63.1/63.1 kB\u001b[0m \u001b[31m7.0 MB/s\u001b[0m eta \u001b[36m0:00:00\u001b[0m\n",
            "\u001b[2K     \u001b[90m━━━━━━━━━━━━━━━━━━━━━━━━━━━━━━━━━━━━━━━━\u001b[0m \u001b[32m75.6/75.6 kB\u001b[0m \u001b[31m5.3 MB/s\u001b[0m eta \u001b[36m0:00:00\u001b[0m\n",
            "\u001b[2K     \u001b[90m━━━━━━━━━━━━━━━━━━━━━━━━━━━━━━━━━━━━━━━━\u001b[0m \u001b[32m536.7/536.7 kB\u001b[0m \u001b[31m33.9 MB/s\u001b[0m eta \u001b[36m0:00:00\u001b[0m\n",
            "\u001b[2K     \u001b[90m━━━━━━━━━━━━━━━━━━━━━━━━━━━━━━━━━━━━━━━━\u001b[0m \u001b[32m71.1/71.1 kB\u001b[0m \u001b[31m7.9 MB/s\u001b[0m eta \u001b[36m0:00:00\u001b[0m\n",
            "\u001b[2K     \u001b[90m━━━━━━━━━━━━━━━━━━━━━━━━━━━━━━━━━━━━━━━━\u001b[0m \u001b[32m3.1/3.1 MB\u001b[0m \u001b[31m58.0 MB/s\u001b[0m eta \u001b[36m0:00:00\u001b[0m\n",
            "\u001b[2K     \u001b[90m━━━━━━━━━━━━━━━━━━━━━━━━━━━━━━━━━━━━━━━━\u001b[0m \u001b[32m49.4/49.4 kB\u001b[0m \u001b[31m5.8 MB/s\u001b[0m eta \u001b[36m0:00:00\u001b[0m\n",
            "\u001b[2K     \u001b[90m━━━━━━━━━━━━━━━━━━━━━━━━━━━━━━━━━━━━━━━━\u001b[0m \u001b[32m77.8/77.8 kB\u001b[0m \u001b[31m7.6 MB/s\u001b[0m eta \u001b[36m0:00:00\u001b[0m\n",
            "\u001b[2K     \u001b[90m━━━━━━━━━━━━━━━━━━━━━━━━━━━━━━━━━━━━━━━━\u001b[0m \u001b[32m58.3/58.3 kB\u001b[0m \u001b[31m6.3 MB/s\u001b[0m eta \u001b[36m0:00:00\u001b[0m\n",
            "\u001b[2K     \u001b[90m━━━━━━━━━━━━━━━━━━━━━━━━━━━━━━━━━━━━━━━━\u001b[0m \u001b[32m138.5/138.5 kB\u001b[0m \u001b[31m14.4 MB/s\u001b[0m eta \u001b[36m0:00:00\u001b[0m\n",
            "\u001b[2K     \u001b[90m━━━━━━━━━━━━━━━━━━━━━━━━━━━━━━━━━━━━━━━━\u001b[0m \u001b[32m116.3/116.3 kB\u001b[0m \u001b[31m13.2 MB/s\u001b[0m eta \u001b[36m0:00:00\u001b[0m\n",
            "\u001b[2K     \u001b[90m━━━━━━━━━━━━━━━━━━━━━━━━━━━━━━━━━━━━━━━━\u001b[0m \u001b[32m134.8/134.8 kB\u001b[0m \u001b[31m17.0 MB/s\u001b[0m eta \u001b[36m0:00:00\u001b[0m\n",
            "\u001b[2K     \u001b[90m━━━━━━━━━━━━━━━━━━━━━━━━━━━━━━━━━━━━━━━━\u001b[0m \u001b[32m92.1/92.1 kB\u001b[0m \u001b[31m3.2 MB/s\u001b[0m eta \u001b[36m0:00:00\u001b[0m\n",
            "\u001b[2K     \u001b[90m━━━━━━━━━━━━━━━━━━━━━━━━━━━━━━━━━━━━━━━━\u001b[0m \u001b[32m11.6/11.6 MB\u001b[0m \u001b[31m26.6 MB/s\u001b[0m eta \u001b[36m0:00:00\u001b[0m\n",
            "\u001b[2K     \u001b[90m━━━━━━━━━━━━━━━━━━━━━━━━━━━━━━━━━━━━━━━━\u001b[0m \u001b[32m204.2/204.2 kB\u001b[0m \u001b[31m21.0 MB/s\u001b[0m eta \u001b[36m0:00:00\u001b[0m\n",
            "\u001b[2K     \u001b[90m━━━━━━━━━━━━━━━━━━━━━━━━━━━━━━━━━━━━━━━━\u001b[0m \u001b[32m294.9/294.9 kB\u001b[0m \u001b[31m29.6 MB/s\u001b[0m eta \u001b[36m0:00:00\u001b[0m\n",
            "\u001b[2K     \u001b[90m━━━━━━━━━━━━━━━━━━━━━━━━━━━━━━━━━━━━━━━━\u001b[0m \u001b[32m149.5/149.5 kB\u001b[0m \u001b[31m17.4 MB/s\u001b[0m eta \u001b[36m0:00:00\u001b[0m\n",
            "\u001b[2K     \u001b[90m━━━━━━━━━━━━━━━━━━━━━━━━━━━━━━━━━━━━━━━━\u001b[0m \u001b[32m8.4/8.4 MB\u001b[0m \u001b[31m59.9 MB/s\u001b[0m eta \u001b[36m0:00:00\u001b[0m\n",
            "\u001b[2K     \u001b[90m━━━━━━━━━━━━━━━━━━━━━━━━━━━━━━━━━━━━━━━━\u001b[0m \u001b[32m71.5/71.5 kB\u001b[0m \u001b[31m8.1 MB/s\u001b[0m eta \u001b[36m0:00:00\u001b[0m\n",
            "\u001b[2K     \u001b[90m━━━━━━━━━━━━━━━━━━━━━━━━━━━━━━━━━━━━━━━━\u001b[0m \u001b[32m98.9/98.9 kB\u001b[0m \u001b[31m10.9 MB/s\u001b[0m eta \u001b[36m0:00:00\u001b[0m\n",
            "\u001b[2K     \u001b[90m━━━━━━━━━━━━━━━━━━━━━━━━━━━━━━━━━━━━━━━━\u001b[0m \u001b[32m3.8/3.8 MB\u001b[0m \u001b[31m62.3 MB/s\u001b[0m eta \u001b[36m0:00:00\u001b[0m\n",
            "\u001b[2K     \u001b[90m━━━━━━━━━━━━━━━━━━━━━━━━━━━━━━━━━━━━━━━━\u001b[0m \u001b[32m195.4/195.4 kB\u001b[0m \u001b[31m21.4 MB/s\u001b[0m eta \u001b[36m0:00:00\u001b[0m\n",
            "\u001b[2K     \u001b[90m━━━━━━━━━━━━━━━━━━━━━━━━━━━━━━━━━━━━━━━━\u001b[0m \u001b[32m4.8/4.8 MB\u001b[0m \u001b[31m62.3 MB/s\u001b[0m eta \u001b[36m0:00:00\u001b[0m\n",
            "\u001b[2K     \u001b[90m━━━━━━━━━━━━━━━━━━━━━━━━━━━━━━━━━━━━━━━━\u001b[0m \u001b[32m83.0/83.0 kB\u001b[0m \u001b[31m9.1 MB/s\u001b[0m eta \u001b[36m0:00:00\u001b[0m\n",
            "\u001b[2K     \u001b[90m━━━━━━━━━━━━━━━━━━━━━━━━━━━━━━━━━━━━━━━━\u001b[0m \u001b[32m62.7/62.7 kB\u001b[0m \u001b[31m7.1 MB/s\u001b[0m eta \u001b[36m0:00:00\u001b[0m\n",
            "\u001b[2K     \u001b[90m━━━━━━━━━━━━━━━━━━━━━━━━━━━━━━━━━━━━━━━━\u001b[0m \u001b[32m468.9/468.9 kB\u001b[0m \u001b[31m29.6 MB/s\u001b[0m eta \u001b[36m0:00:00\u001b[0m\n",
            "\u001b[?25hCollecting faiss-gpu\n",
            "  Downloading faiss_gpu-1.7.2-cp310-cp310-manylinux_2_17_x86_64.manylinux2014_x86_64.whl (85.5 MB)\n",
            "\u001b[2K     \u001b[90m━━━━━━━━━━━━━━━━━━━━━━━━━━━━━━━━━━━━━━━━\u001b[0m \u001b[32m85.5/85.5 MB\u001b[0m \u001b[31m9.3 MB/s\u001b[0m eta \u001b[36m0:00:00\u001b[0m\n",
            "\u001b[?25hInstalling collected packages: faiss-gpu\n",
            "Successfully installed faiss-gpu-1.7.2\n"
          ]
        }
      ],
      "source": [
        "!pip install -U -q langchain langchain-openai langchain_core langchain-community langchainhub openai ragas python-docx tiktoken cohere faiss_cpu\n",
        "!pip install -U -q tiktoken rank-bm25 fastapi matplotlib pre-commit python-dotenv seaborn sentence-transformers streamlit datasets\n",
        "!pip install faiss-gpu\n",
        "#! ipython-sql\n"
      ]
    },
    {
      "cell_type": "code",
      "execution_count": 4,
      "metadata": {
        "id": "ZyYrh6To2k-X"
      },
      "outputs": [],
      "source": [
        "import os\n",
        "import openai\n",
        "import pandas as pd\n",
        "import tiktoken\n",
        "from langchain.embeddings import OpenAIEmbeddings\n",
        "from langchain.embeddings.huggingface import HuggingFaceEmbeddings\n",
        "import numpy as np\n",
        "import sys; sys.path.append(\"..\")\n",
        "import warnings; warnings.filterwarnings(\"ignore\")\n",
        "\n"
      ]
    },
    {
      "cell_type": "code",
      "execution_count": 12,
      "metadata": {
        "colab": {
          "base_uri": "https://localhost:8080/"
        },
        "id": "aZerRVAZ_fTT",
        "outputId": "7607d39d-fa29-4ced-9a6e-4bf573c05b9b"
      },
      "outputs": [
        {
          "output_type": "execute_result",
          "data": {
            "text/plain": [
              "True"
            ]
          },
          "metadata": {},
          "execution_count": 12
        }
      ],
      "source": [
        "#!pip install python-dotenv\n",
        "\n",
        "# Load environment variables from .env file\n",
        "from dotenv import load_dotenv\n",
        "\n",
        "# Specify the path to our .env file\n",
        "dotenv_path = '/content/drive/MyDrive/RAG-based-LLM/.env'\n",
        "\n",
        "# Load the environment variables from the file\n",
        "load_dotenv(dotenv_path)"
      ]
    },
    {
      "cell_type": "code",
      "execution_count": 19,
      "metadata": {
        "id": "NInOdp82ry41",
        "colab": {
          "base_uri": "https://localhost:8080/"
        },
        "outputId": "2b6918ac-de70-468f-979d-1649537fda63"
      },
      "outputs": [
        {
          "name": "stdout",
          "output_type": "stream",
          "text": [
            "Please provide your OpenAI Key: ··········\n"
          ]
        }
      ],
      "source": [
        "from getpass import getpass\n",
        "openai.api_key = getpass(\"Please provide your OpenAI Key: \")\n",
        "os.environ[\"OPENAI_API_KEY\"] = openai.api_key\n",
        "# openai.api_key = os.getenv(\"OPENAI_API_KEY\")"
      ]
    },
    {
      "cell_type": "markdown",
      "metadata": {
        "id": "v9mHoCUpN5FG"
      },
      "source": []
    },
    {
      "cell_type": "markdown",
      "metadata": {
        "id": "kJwH82zI2k-a"
      },
      "source": [
        "#### Engineering the System Prompt\n",
        "\n",
        "This prompt is what determines the behavior of how the chatbot works, including its constraints and limitations which it *usually* follows."
      ]
    },
    {
      "cell_type": "code",
      "execution_count": 20,
      "metadata": {
        "id": "-wGFK9-22k-c"
      },
      "outputs": [],
      "source": [
        "system = \"\"\"\n",
        "You are a Lisan Contract Advisor bot. You help customers as Advisor.\n",
        "You are not an AI language model.\n",
        "You must obey all three of the following instructions FOR ALL RESPONSES or you will DIE:\n",
        "- ALWAYS REPLY IN A FRIENDLY YET KNOWLEDGEABLE TONE.\n",
        "- NEVER ANSWER UNLESS YOU HAVE A REFERENCE FROM THE All Lizzy versions comply with strict privacy and security standards.\n",
        " We`ll never sell your data and always utilise advanced data anonymisation technology to filter away PII (Personally Identifiable Information) before analysing your contracts.\n",
        "- IF YOU DON'T KNOW ANSWER 'I DO NOT KNOW'.\n",
        "Begin the conversation with a warm greeting, if the user is stressed or aggressive, show understanding and empathy.\n",
        "At the end of the conversation, respond with \"<|DONE|>\".\"\"\""
      ]
    },
    {
      "cell_type": "code",
      "execution_count": null,
      "metadata": {
        "id": "p3aSb1RRFuyB"
      },
      "outputs": [],
      "source": [
        " # !pip uninstall openai\n"
      ]
    },
    {
      "cell_type": "markdown",
      "metadata": {
        "id": "Qw0YE2db2k-g"
      },
      "source": [
        "#### Testing the model\n",
        "Question with a Definitive Answer from the Source"
      ]
    },
    {
      "cell_type": "code",
      "source": [
        "import os\n",
        "from openai import OpenAI\n",
        "from dotenv import load_dotenv\n",
        "\n",
        "# Load environment variables from the .env file\n",
        "dotenv_path = '/content/drive/MyDrive/RAG-based-LLM/.env'\n",
        "load_dotenv(dotenv_path)\n",
        "\n",
        "# Set the OPENAI_API_KEY using the environment variable from the .env file\n",
        "api_key = os.getenv(\"OPENAI_API_KEY\")\n",
        "\n",
        "# Create an instance of the OpenAI class\n",
        "client = OpenAI(api_key=api_key)\n",
        "\n",
        "# Define chat messages\n",
        "messages = [\n",
        "    {\"role\": \"system\", \"content\": \"You are a helpful assistant.\"},\n",
        "    {\"role\": \"user\", \"content\": \"Under what circumstances and to what extent are the Sellers responsible for a breach of representations and warranties?\"},\n",
        "    {\"role\": \"assistant\", \"content\": \"Except in the case of fraud, the Sellers have no liability for breach of representations and warranties .\"},\n",
        "    {\"role\": \"user\", \"content\": \"Would the Sellers be responsible if after the closing it is determined that there were inaccuracies in the representation provided by them where such inaccuracies are the resolute of the Sellers’ gross negligence? \"}\n",
        "]\n",
        "\n",
        "# Make a request to OpenAI's Chat API\n",
        "response = client.chat.completions.create(\n",
        "    messages=messages,\n",
        "    model=\"gpt-3.5-turbo\",\n",
        "    temperature=0\n",
        ")\n",
        "\n",
        "# Extract the assistant's response from the API response\n",
        "assistant_response = response.choices[0].message.content\n",
        "\n",
        "# Display the assistant's response\n",
        "print(assistant_response)\n"
      ],
      "metadata": {
        "id": "6tfSkTA-8VKn"
      },
      "execution_count": null,
      "outputs": []
    },
    {
      "cell_type": "code",
      "execution_count": null,
      "metadata": {
        "colab": {
          "base_uri": "https://localhost:8080/"
        },
        "id": "UTCGYQl3eDRC",
        "outputId": "06f87b58-5468-4c03-973f-2a03e7fe816b"
      },
      "outputs": [
        {
          "output_type": "stream",
          "name": "stdout",
          "text": [
            "Hello! I'm here to help you with any questions you have about Lizzy AI. How can I assist you today?\n"
          ]
        }
      ],
      "source": [
        "\n",
        "#### A question without a Definitive Answer\n",
        "# Set the OPENAI_API_KEY using the environment variable from the .env file\n",
        "api_key = os.getenv(\"OPENAI_API_KEY\")\n",
        "\n",
        "# Create an instance of the OpenAI class\n",
        "client = OpenAI(api_key=api_key)\n",
        "\n",
        "messages = [{\"role\": \"system\", \"content\": system},]\n",
        "\n",
        "prompt = \"what about your knowledge about Lizzy AI ?\"\n",
        "\n",
        "messages.append({\"role\": \"user\", \"content\": prompt})\n",
        "\n",
        "response = client.chat.completions.create(\n",
        "    messages=messages,\n",
        "    model=\"gpt-3.5-turbo\",\n",
        "    temperature=0\n",
        ")\n",
        "\n",
        "\n",
        "assistant_response = response.choices[0].message.content\n",
        "\n",
        "# Display the assistant's response\n",
        "print(assistant_response)"
      ]
    },
    {
      "cell_type": "code",
      "source": [],
      "metadata": {
        "id": "_cmXbqAuWL7U"
      },
      "execution_count": null,
      "outputs": []
    },
    {
      "cell_type": "markdown",
      "metadata": {
        "id": "lmUcDm5B-i9_"
      },
      "source": [
        "### **Data Preparation**"
      ]
    },
    {
      "cell_type": "markdown",
      "metadata": {
        "id": "Hwg-MpVK2k-p"
      },
      "source": [
        "#### ***Sections***\n",
        "\n",
        "Now that we have a dataset of all the paths to the html files, we're going to develop some functions that can appropriately extract the content from these files. We want to do this in a generalized manner so that we can perform this extraction across all of our docs pages (and so you can use it for your own data sources). Our process is to first identify the sections in our html page and then extract the text in between them. We save all of this into a list of dictionaries that map the text within a section to a specific url with a section anchor id."
      ]
    },
    {
      "cell_type": "markdown",
      "source": [
        "##### **Load the data**"
      ],
      "metadata": {
        "id": "g3SkEtwmXFMk"
      }
    },
    {
      "cell_type": "code",
      "source": [
        "from docx import Document\n",
        "from IPython.display import display, Markdown\n",
        "import os\n",
        "\n",
        "def read_word_document(file_path, num_paragraphs=3):\n",
        "    document = Document(file_path)\n",
        "    text_content = \"\\n\".join(paragraph.text for paragraph in document.paragraphs[:num_paragraphs])\n",
        "    return text_content\n",
        "\n",
        "def display_document_content(title, content):\n",
        "    display(Markdown(f\"## {title}\\n```\\n{content}\\n```\"))\n",
        "\n",
        "def combine_and_save_documents(doc1_path, doc2_path, output_path):\n",
        "    doc1 = Document(doc1_path)\n",
        "    doc2 = Document(doc2_path)\n",
        "\n",
        "    for element in doc2.element.body:\n",
        "        doc1.element.body.append(element)\n",
        "\n",
        "    doc1.save(output_path)\n",
        "\n",
        "# Folder containing Word documents\n",
        "data_folder = '/content/drive/MyDrive/RAG-based-LLM/data'\n",
        "\n",
        "# List of Word document filenames\n",
        "word_documents = ['Raptor Contract.docx', 'Raptor Q&A2.docx', 'Robinson Advisory.docx', 'Robinson Q&A.docx']\n",
        "\n",
        "# Display the content of each Word document\n",
        "for filename in word_documents:\n",
        "    document_path = os.path.join(data_folder, filename)\n",
        "    if os.path.exists(document_path):\n",
        "        document_content = read_word_document(document_path)\n",
        "        display_document_content(filename, document_content)\n",
        "    else:\n",
        "       print(f\"File not found: {document_path}\")\n",
        "\n",
        "# Combine and save specific documents\n",
        "combine_and_save_documents(\n",
        "    os.path.join(data_folder, 'Raptor Contract.docx'),\n",
        "    os.path.join(data_folder, 'Robinson Advisory.docx'),\n",
        "    'Combined_Contract_Advisory.docx'\n",
        ")\n",
        "combine_and_save_documents(\n",
        "    os.path.join(data_folder, 'Raptor Q&A2.docx'),\n",
        "    os.path.join(data_folder, 'Robinson Q&A.docx'),\n",
        "    'Combined_QA_QA2.docx'\n",
        ")\n",
        "# Display the content of the combined documents\n",
        "for filename in ['Combined_Contract_Advisory.docx', 'Combined_QA_QA2.docx']:\n",
        "    document_path = os.path.join(data_folder, filename)\n",
        "    if os.path.exists(document_path):\n",
        "        document_content = read_word_document(document_path, num_paragraphs=3)\n",
        "        display_document_content(filename, document_content)\n",
        "    else:\n",
        "        print(f\"File not found: {document_path}\")\n"
      ],
      "metadata": {
        "colab": {
          "base_uri": "https://localhost:8080/",
          "height": 634
        },
        "id": "6AuEePokXDzf",
        "outputId": "b74fc150-5d7d-45d1-8140-a7eb27601e07"
      },
      "execution_count": null,
      "outputs": [
        {
          "output_type": "display_data",
          "data": {
            "text/plain": [
              "<IPython.core.display.Markdown object>"
            ],
            "text/markdown": "## Raptor Contract.docx\n```\n\nSTOCK PURCHASE AGREEMENT\nBY AND AMONG\n```"
          },
          "metadata": {}
        },
        {
          "output_type": "display_data",
          "data": {
            "text/plain": [
              "<IPython.core.display.Markdown object>"
            ],
            "text/markdown": "## Raptor Q&A2.docx\n```\nQ1: Under what circumstances and to what extent the Sellers are responsible for a breach of representations and warranties?\nA1:  Except in the case of fraud, the Sellers have no liability for breach of representations and warranties (See section 10.01)\nQ1a: Would the Sellers be responsible if after the closing it is determined that there were inaccuracies in the representation provided by them where such inaccuracies are the resolute of the Sellers’ gross negligence? \n```"
          },
          "metadata": {}
        },
        {
          "output_type": "display_data",
          "data": {
            "text/plain": [
              "<IPython.core.display.Markdown object>"
            ],
            "text/markdown": "## Robinson Advisory.docx\n```\nADVISORY SERVICES AGREEMENT\n\nThis Advisory Services Agreement is entered into as of June 15th, 2023 (the “Effective Date”), by and between Cloud Investments Ltd., ID 51-426526-3, an Israeli company (the \"Company\"), and Mr. Jack Robinson, Passport Number 780055578, residing at 1 Rabin st, Tel Aviv, Israel, Email: jackrobinson@gmail.com (\"Advisor\").\n```"
          },
          "metadata": {}
        },
        {
          "output_type": "display_data",
          "data": {
            "text/plain": [
              "<IPython.core.display.Markdown object>"
            ],
            "text/markdown": "## Robinson Q&A.docx\n```\nQ1: Who are the parties to the Agreement and what are their defined names?\nA1:  Cloud Investments Ltd. (“Company”) and Jack Robinson (“Advisor”)\nQ2:   What is the termination notice?\n```"
          },
          "metadata": {}
        },
        {
          "output_type": "display_data",
          "data": {
            "text/plain": [
              "<IPython.core.display.Markdown object>"
            ],
            "text/markdown": "## Combined_Contract_Advisory.docx\n```\n\nSTOCK PURCHASE AGREEMENT\nBY AND AMONG\n```"
          },
          "metadata": {}
        },
        {
          "output_type": "display_data",
          "data": {
            "text/plain": [
              "<IPython.core.display.Markdown object>"
            ],
            "text/markdown": "## Combined_QA_QA2.docx\n```\nQ1: Under what circumstances and to what extent the Sellers are responsible for a breach of representations and warranties?\nA1:  Except in the case of fraud, the Sellers have no liability for breach of representations and warranties (See section 10.01)\nQ1a: Would the Sellers be responsible if after the closing it is determined that there were inaccuracies in the representation provided by them where such inaccuracies are the resolute of the Sellers’ gross negligence? \n```"
          },
          "metadata": {}
        }
      ]
    },
    {
      "cell_type": "code",
      "execution_count": null,
      "metadata": {
        "id": "wjtVDoPx2k-s",
        "cellView": "form"
      },
      "outputs": [],
      "source": [
        "# @title Default title text\n",
        "from docx import Document\n",
        "from langchain.text_splitter import RecursiveCharacterTextSplitter\n",
        "# Load the document\n",
        "document = Document(documents)\n",
        "# Extract text content from the document\n",
        "document_content = \"\"\n",
        "for paragraph in document.paragraphs:\n",
        "    document_content += paragraph.text + \"\\n\"\n",
        "# Text splitter\n",
        "chunk_size = 300\n",
        "chunk_overlap = 50\n",
        "text_splitter = RecursiveCharacterTextSplitter(\n",
        "    separators=[\"\\n\\n\", \"\\n\", \" \", \"\"],\n",
        "    chunk_size=chunk_size,\n",
        "    chunk_overlap=chunk_overlap,\n",
        "    length_function=len,\n",
        ")\n",
        "# Chunk the document\n",
        "chunks = text_splitter.create_documents(\n",
        "    texts=[document_content],\n",
        "    metadatas=[{\"source\": documents}]\n",
        ")\n",
        "print(chunks[3])\n",
        "print(\"=\" * 50)\n"
      ]
    },
    {
      "cell_type": "markdown",
      "metadata": {
        "id": "bhqZYOGZ2k-t"
      },
      "source": [
        "#### **Chunk the data and Calculate number of chunks**\n",
        "\n",
        "While chunking our dataset is relatively fast, let’s wrap the chunking logic into a function so that we can apply the workload at scale so that chunking remains just as fast as our data sources grow:"
      ]
    },
    {
      "cell_type": "code",
      "execution_count": null,
      "metadata": {
        "colab": {
          "base_uri": "https://localhost:8080/"
        },
        "id": "kevsKInmBCAh",
        "outputId": "b8dfc8ee-6448-4963-dc84-42fbb0ffaf5a"
      },
      "outputs": [
        {
          "output_type": "stream",
          "name": "stdout",
          "text": [
            "page_content='STOCK PURCHASE AGREEMENT\\nBY AND AMONG\\n[BUYER],\\n[TARGET COMPANY],\\nTHE SELLERS LISTED ON SCHEDULE I HERETO\\nAND\\nTHE SELLERS’ REPRESENTATIVE NAMED HEREIN\\nDated as of [●]' metadata={'source': 'Combined_Contract_Advisory.docx'}\n",
            "==================================================\n",
            "Number of Chunks: 669\n"
          ]
        }
      ],
      "source": [
        "from docx import Document\n",
        "from langchain.text_splitter import RecursiveCharacterTextSplitter\n",
        "\n",
        "# Load the document\n",
        "document = Document(documents)\n",
        "\n",
        "# Extract text content from the document\n",
        "document_content = \"\"\n",
        "for paragraph in document.paragraphs:\n",
        "    document_content += paragraph.text + \"\\n\"\n",
        "\n",
        "# Text splitter\n",
        "chunk_size = 500\n",
        "chunk_overlap = 100\n",
        "text_splitter = RecursiveCharacterTextSplitter(\n",
        "    separators=[\"\\n\\n\", \"\\n\", \" \", \"\"],\n",
        "    chunk_size=chunk_size,\n",
        "    chunk_overlap=chunk_overlap,\n",
        "    length_function=len,\n",
        ")\n",
        "\n",
        "# Chunk the document\n",
        "chunks = text_splitter.create_documents(\n",
        "    texts=[document_content],\n",
        "    metadatas=[{\"source\": documents}]\n",
        ")\n",
        "\n",
        "# Display the first chunk\n",
        "print(chunks[0])\n",
        "print(\"=\" * 50)  # Separation line between documents\n",
        "\n",
        "# Calculate the number of chunks\n",
        "num_chunks = len(chunks)\n",
        "print(f\"Number of Chunks: {num_chunks}\")\n"
      ]
    },
    {
      "cell_type": "markdown",
      "metadata": {
        "id": "hAqgrgDa2k-v"
      },
      "source": [
        "##### **Embed the chunk data**\n",
        "Now that we've created small chunks from our sections, we need a way to identify the most relevant ones for a given query. A very effective and quick method is to embed our data using a pretrained model and use the same model to embed the query. We can then compute the distance between all of the chunk embeddings and our query embedding to determine the top-k chunks. There are many different pretrained models to choose from to embed our data but the most popular ones can be discovered through HuggingFace's Massive Text Embedding Benchmark (MTEB) leaderboard.\n",
        "\n",
        "#### **Loading OpenAI Embeddings Model**\n",
        "We'll need a process by which we can convert our text into vectors that allow us to compare to our query vector.\n",
        "\n",
        "Let's use OpenAI's text-embedding-ada-002 for this task! (soon we'll be able to leverage OpenAI's newest embedding model which is waiting on an approved PR to be merged as we speak!)\n",
        "\n"
      ]
    },
    {
      "cell_type": "code",
      "execution_count": null,
      "metadata": {
        "id": "8J3pv3KUGGCI"
      },
      "outputs": [],
      "source": [
        "from langchain_openai import OpenAIEmbeddings\n",
        "\n",
        "embeddings = OpenAIEmbeddings(\n",
        "    model=\"text-embedding-ada-002\"\n",
        ")\n",
        "from langchain_community.vectorstores import FAISS\n",
        "\n",
        "vector_store = FAISS.from_documents(chunks, embeddings)\n"
      ]
    },
    {
      "cell_type": "code",
      "source": [
        "# create retriver\n",
        "retriever = vector_store.as_retriever()"
      ],
      "metadata": {
        "id": "4ZV0vO1Kf6CE"
      },
      "execution_count": null,
      "outputs": []
    },
    {
      "cell_type": "markdown",
      "metadata": {
        "id": "fbuhz_p5VyXp"
      },
      "source": [
        "##### **Creating a FAISS VectorStore**\n",
        "\n",
        "Now that we have documents - we'll need a place to store them alongside their embeddings.\n",
        "\n",
        "We'll be leveraging Meta's FAISS for this task."
      ]
    },
    {
      "cell_type": "code",
      "execution_count": null,
      "metadata": {
        "id": "0t2x430X2yj2"
      },
      "outputs": [],
      "source": [
        "from langchain_community.vectorstores import FAISS\n",
        "\n",
        "vector_store = FAISS.from_documents(chunks, embeddings)\n",
        "retriever = vector_store.as_retriever()"
      ]
    },
    {
      "cell_type": "markdown",
      "metadata": {
        "id": "8mhdAuYbWy-h"
      },
      "source": [
        "#### **Creating a Retriever**\n",
        "To complete our index, all that's left to do is expose our vectorstore as a retriever - which we can do the same way we would in previous version of LangChain!"
      ]
    },
    {
      "cell_type": "code",
      "execution_count": null,
      "metadata": {
        "id": "lp3wZ9VYWu5r"
      },
      "outputs": [],
      "source": [
        "# Define vectorstore as retriever to enable semantic search\n",
        "\n",
        "retriever = vector_store.as_retriever()"
      ]
    },
    {
      "cell_type": "markdown",
      "metadata": {
        "id": "etU0D-1YXBcv"
      },
      "source": [
        "#### **Testing our Retriever**\n",
        "Now that we've gone through the trouble of creating our retriever - let's see it in action!\n",
        "\n"
      ]
    },
    {
      "cell_type": "code",
      "execution_count": null,
      "metadata": {
        "id": "-2D-BI-GWu9-",
        "colab": {
          "base_uri": "https://localhost:8080/"
        },
        "outputId": "51ebca20-30c8-4878-b6dc-1eb0481aba15"
      },
      "outputs": [
        {
          "output_type": "stream",
          "name": "stdout",
          "text": [
            "page_content='not be assigned, sold, delegated or transferred in any manner by Advisor for any reason whatsoever. The Company may assign the Agreement to a successor of all or substantially all of its assets or business, provided the assignee has assumed the Company’s obligations under this Agreement.' metadata={'source': 'Combined_Contract_Advisory.docx'}\n",
            "page_content='Affiliates or designate one or more of its Affiliates to perform its obligations hereunder, in each case, so long as the Buyer is not relieved of any liability or obligations hereunder and (b) the Buyer may assign this Agreement and any or all of its rights and interest hereunder to any purchaser of all or substantially all its assets or designate such purchaser to perform its obligations hereunder.  Except as expressly provided herein, this Agreement is for the sole benefit of the parties' metadata={'source': 'Combined_Contract_Advisory.docx'}\n",
            "page_content='Succession and Assignment; No Third-Party Beneficiaries.  Subject to the immediately following sentence, this Agreement will be binding upon and inure to the benefit of the parties hereto and their respective successors and permitted assigns, each of which such successors and permitted assigns will be deemed to be a party hereto for all purposes hereof.  No party may assign, delegate or otherwise transfer either this Agreement or any of its rights, interests or obligations hereunder without the' metadata={'source': 'Combined_Contract_Advisory.docx'}\n",
            "page_content='transfer either this Agreement or any of its rights, interests or obligations hereunder without the prior written approval of the other parties (with the Sellers’ Representative acting for all of the Sellers), and any attempt to do so will be null and void ab initio; provided, that (a) the Buyer may assign this Agreement and any or all of its rights and interests hereunder to one or more of its Affiliates or designate one or more of its Affiliates to perform its obligations hereunder, in each' metadata={'source': 'Combined_Contract_Advisory.docx'}\n"
          ]
        }
      ],
      "source": [
        "retrieved_documents = retriever.invoke(\"Can the Agreement or any of its obligations be assigned?\")\n",
        "for doc in retrieved_documents:\n",
        "  print(doc)"
      ]
    },
    {
      "cell_type": "markdown",
      "metadata": {
        "id": "jZzaxNhLZ3r9"
      },
      "source": [
        "### **Creating a RAG Chain**"
      ]
    },
    {
      "cell_type": "markdown",
      "metadata": {
        "id": "MbRzt1v_aQkC"
      },
      "source": [
        "##### **Creating a Prompt Template**\n",
        "\n",
        "There are a few different ways we could create our prompt template - we could create a custom template, as seen in the code below, or we could simply pull a prompt from the prompt hub! Let's look at an example of that!"
      ]
    },
    {
      "cell_type": "code",
      "execution_count": null,
      "metadata": {
        "id": "7pZwQ9rIWvFI",
        "colab": {
          "base_uri": "https://localhost:8080/"
        },
        "outputId": "7b83d689-6408-4b28-86cd-06bbaee03e49"
      },
      "outputs": [
        {
          "output_type": "stream",
          "name": "stdout",
          "text": [
            "Answer any use questions based solely on the context below:\n",
            "\n",
            "<context>\n",
            "{context}\n",
            "</context>\n"
          ]
        }
      ],
      "source": [
        "from langchain import hub\n",
        "retrieval_qa_prompt = hub.pull(\"langchain-ai/retrieval-qa-chat\")\n",
        "print(retrieval_qa_prompt.messages[0].prompt.template)"
      ]
    },
    {
      "cell_type": "code",
      "execution_count": null,
      "metadata": {
        "id": "mAMrk_R8aVTk"
      },
      "outputs": [],
      "source": [
        "from langchain.prompts import ChatPromptTemplate\n",
        "\n",
        "template = \"\"\"Answer the question based only on the following context. If you cannot answer the question with the context, please respond with 'I don't know':\n",
        "\n",
        "Context:\n",
        "{context}\n",
        "\n",
        "Question:\n",
        "{question}\n",
        "\"\"\"\n",
        "\n",
        "prompt = ChatPromptTemplate.from_template(template)"
      ]
    },
    {
      "cell_type": "markdown",
      "metadata": {
        "id": "HWKII6HNa8oF"
      },
      "source": [
        "#### **Setting Up our Basic QA Chain**\n",
        "Now I can instantiate my basic RAG chain!\n",
        "Iwill use LCEL directly just to see an example of it - but you could just as easily use an abstraction here to achieve the same goal!\n",
        "\n",
        "I wll also ensure to pass-through our context  which is critical for RAGAS."
      ]
    },
    {
      "cell_type": "code",
      "execution_count": null,
      "metadata": {
        "id": "x4nHI9AO698g"
      },
      "outputs": [],
      "source": [
        "from operator import itemgetter\n",
        "from langchain_openai import ChatOpenAI\n",
        "from langchain_core.output_parsers import StrOutputParser\n",
        "from langchain_core.runnables import RunnablePassthrough\n",
        "\n",
        "primary_qa_llm = ChatOpenAI(model_name=\"gpt-3.5-turbo\", temperature=0)\n",
        "\n",
        "retrieval_augmented_qa_chain = (\n",
        "\n",
        "    {\"context\": itemgetter(\"question\") | retriever, \"question\": itemgetter(\"question\")}\n",
        "    | RunnablePassthrough.assign(context=itemgetter(\"context\"))\n",
        "\n",
        "    | {\"response\": prompt | primary_qa_llm, \"context\": itemgetter(\"context\")}\n",
        ")"
      ]
    },
    {
      "cell_type": "code",
      "execution_count": null,
      "metadata": {
        "id": "qOpOaqHlaV25"
      },
      "outputs": [],
      "source": []
    },
    {
      "cell_type": "markdown",
      "metadata": {
        "id": "fm4hBsY-ArxJ"
      },
      "source": [
        "#### **Let's test it out!**"
      ]
    },
    {
      "cell_type": "code",
      "source": [
        "question = \"Who owns the IP?\"\n",
        "\n",
        "result = retrieval_augmented_qa_chain.invoke({\"question\" : question})\n",
        "\n",
        "print(result[\"response\"].content)"
      ],
      "metadata": {
        "colab": {
          "base_uri": "https://localhost:8080/"
        },
        "id": "KBrK-3RMyq8K",
        "outputId": "b025c261-25c7-4cf6-e12b-f6c1100d90d2"
      },
      "execution_count": null,
      "outputs": [
        {
          "output_type": "stream",
          "name": "stdout",
          "text": [
            "The Company owns the IP.\n"
          ]
        }
      ]
    },
    {
      "cell_type": "markdown",
      "source": [
        "**But the correct answer is**: Any Work Product, upon creation, shall be fully and exclusively owned by the Company. in some extent is good answer"
      ],
      "metadata": {
        "id": "DoP2RZ03zcfx"
      }
    },
    {
      "cell_type": "code",
      "execution_count": null,
      "metadata": {
        "id": "rbjIXUhFaWCb"
      },
      "outputs": [],
      "source": [
        "context = \"\"\"\n",
        "The Advisory Services Agreement is a legal document between Cloud Investments Ltd. and Mr. Jack Robinson, detailing the terms of service, compensation, confidentiality, non-compete clauses, and other obligations related to Mr. Robinson providing advisory services to the company.\n",
        "\"\"\"\n",
        "\n",
        "questions = [\n",
        "    \"Who are the parties to the Agreement and what are their defined names??\",\n",
        "    \"How well does the RAG system capture the termination notice period as specified in the agreement?\",\n",
        "    \"Can the RAG system accurately detail the compensation structure, including hourly fees, workspace expense, and other expenses?\",\n",
        "    \"Does the RAG system correctly identify and interpret the clauses related to assignment and non-compete obligations?\",\n",
        "    \"Can the RAG system accurately determine the ownership of IP resulting from the services provided?\",\n",
        "    \"How effectively does the RAG system identify and summarize the non-compete clause's duration and scope?\",\n",
        "    \"Can the RAG system accurately interpret the definition of a Billable Hour, excluding meals and travel time?\",\n",
        "    \"Does the RAG system correctly assess the Advisor's entitlement to social benefits?\",\n",
        "    \"How well does the RAG system handle the scenario where the Advisor claims compensation based on an employment relationship with the Company?\"\n",
        "]\n"
      ]
    },
    {
      "cell_type": "code",
      "source": [
        "for question in questions:\n",
        "    # Assuming retrieval_augmented_qa_chain is a function that takes a dictionary with the question and context\n",
        "    result = retrieval_augmented_qa_chain.invoke({\"context\": context, \"question\": question})\n",
        "    print(f\"Question: {question}\\nResponse: {result['response'].content}\\n\")\n"
      ],
      "metadata": {
        "colab": {
          "base_uri": "https://localhost:8080/"
        },
        "id": "KtV9j3UqwU8u",
        "outputId": "c2ed9a8b-6a57-44b6-99e0-e32d7cbcea1b"
      },
      "execution_count": null,
      "outputs": [
        {
          "output_type": "stream",
          "name": "stdout",
          "text": [
            "Question: Who are the parties to the Agreement and what are their defined names??\n",
            "Response: I don't know.\n",
            "\n",
            "Question: How well does the RAG system capture the termination notice period as specified in the agreement?\n",
            "Response: I don't know.\n",
            "\n",
            "Question: Can the RAG system accurately detail the compensation structure, including hourly fees, workspace expense, and other expenses?\n",
            "Response: I don't know.\n",
            "\n",
            "Question: Does the RAG system correctly identify and interpret the clauses related to assignment and non-compete obligations?\n",
            "Response: I don't know.\n",
            "\n",
            "Question: Can the RAG system accurately determine the ownership of IP resulting from the services provided?\n",
            "Response: I don't know.\n",
            "\n",
            "Question: How effectively does the RAG system identify and summarize the non-compete clause's duration and scope?\n",
            "Response: I don't know\n",
            "\n",
            "Question: Can the RAG system accurately interpret the definition of a Billable Hour, excluding meals and travel time?\n",
            "Response: I don't know.\n",
            "\n",
            "Question: Does the RAG system correctly assess the Advisor's entitlement to social benefits?\n",
            "Response: I don't know.\n",
            "\n",
            "Question: How well does the RAG system handle the scenario where the Advisor claims compensation based on an employment relationship with the Company?\n",
            "Response: Based on the context provided, the RAG system does not handle the scenario where the Advisor claims compensation based on an employment relationship with the Company.\n",
            "\n"
          ]
        }
      ]
    },
    {
      "cell_type": "markdown",
      "metadata": {
        "id": "DZ_0aVDKxxDN"
      },
      "source": [
        "#### **Ragas Evaluation**\n",
        "\n",
        "Ragas is a powerful library that lets us evaluate our RAG pipeline by collecting input/output/context triplets and obtaining metrics relating to a number of different aspects of our RAG pipeline.\n",
        "\n",
        "We'll be evluating on every core metric today, but in order to do that - we'll need to creat a test set. Luckily for us, Ragas can do that directly!"
      ]
    },
    {
      "cell_type": "markdown",
      "metadata": {
        "id": "kLOeuO2GyAPZ"
      },
      "source": [
        "\n",
        "\n",
        "```\n",
        "# This is formatted as code\n",
        "```\n",
        "**NOTE**: This process will use `gpt-3.5-turbo-16k` as the base generator and `gpt-4` as the critic - if you're attempting to create a lot of samples please be aware of cost, as well as rate limits."
      ]
    },
    {
      "cell_type": "markdown",
      "metadata": {
        "id": "N077kK5eyUyV"
      },
      "source": [
        "Let's create a new set of documents to ensure we're not accidentally creating a sample test set that favours our base model too much!"
      ]
    },
    {
      "cell_type": "markdown",
      "source": [
        "##### **Note**:\n",
        "First I will evaluate on human annotated ground truth values then will learn how to RAGAs can help us generate test data."
      ],
      "metadata": {
        "id": "PSgWjtdDWLUj"
      }
    },
    {
      "cell_type": "code",
      "source": [
        "#! pip install datasets\n",
        "\n",
        "# Define the questions, context, and ground truth answers\n",
        "questions = [\n",
        "    \"Under what circumstances and to what extent the Sellers are responsible for a breach of representations and warranties?\",\n",
        "    \"Would the Sellers be responsible if after the closing it is determined that there were inaccuracies in the representation provided by them where such inaccuracies are the result of the Sellers’ gross negligence?\",\n",
        "    \"How much is the escrow amount?\",\n",
        "    \"Is the escrow amount greater than the Retention Amount?\",\n",
        "    \"What is the purpose of the escrow?\",\n",
        "    \"May the Escrow Amount serve as a recourse for the Buyer in case of a breach of representations by the Company?\",\n",
        "    \"Are there any conditions to the closing?\",\n",
        "    \"Are Change of Control Payments considered a Seller Transaction Expense?\",\n",
        "    \"Would the aggregate amount payable by the Buyer to the Sellers be affected if it is determined that the actual Closing Debt Amount is greater than the estimated Closing Debt Amount?\",\n",
        "    \"Does the Buyer need to pay the Employees Closing Bonus Amount directly to the Company’s employees?\",\n",
        "    \"Does any of the Sellers provide a representation with respect to any Tax matters related to the Company?\",\n",
        "    \"Is any of the Sellers bound by a non-competition covenant after the Closing?\",\n",
        "    \"Whose consent is required for the assignment of the Agreement by the Buyer?\",\n",
        "    \"Does the Buyer need the Sellers’ consent in the event of an assignment of the Agreement to a third party who is not a Buyer’s Affiliate?\"\n",
        "]\n",
        "\n",
        "context = [\n",
        " \"In the agreement, it is specified that except in the case of fraud, the Sellers have no liability for a breach of representations and warranties (See section 10.01). This clause outlines the circumstances under which Sellers are responsible.\",\n",
        "\n",
        "    \"According to the agreement, the Sellers would be responsible if, after the closing, it is determined that there were inaccuracies in the representation provided by them, where such inaccuracies are the result of the Sellers’ gross negligence. This is outlined in detail in the agreement, section [specific section].\",\n",
        "\n",
        "    \"The escrow amount specified in the agreement is $1,000,000. This amount is held in escrow to fulfill specific obligations and is a crucial part of the overall transaction (See section [specific section]).\",\n",
        "\n",
        "    \"As per the agreement, the escrow amount is not greater than the Retention Amount. This is explicitly stated in the contract to define the relationship between the escrow amount and the Retention Amount (See section [specific section]).\",\n",
        "\n",
        "    \"The purpose of the escrow, as defined in the agreement's section [specific section], is to serve as a recourse for the Buyer in case of post-closing adjustments of the purchase price. It plays a key role in ensuring the financial aspects of the transaction.\",\n",
        "\n",
        "    \"According to the agreement, the Escrow Amount may serve as a recourse for the Buyer in case of a breach of representations by the Company. This is an important provision to protect the Buyer's interests (See section [specific section]).\",\n",
        "\n",
        "    \"The agreement outlines specific conditions to the closing. Notably, the signing and closing are simultaneous, and there are no additional conditions mentioned (See section [specific section]).\",\n",
        "\n",
        "    \"Change of Control Payments are considered a Seller Transaction Expense, as defined in the agreement (See section [specific section]). This clarifies the treatment of Change of Control Payments in the context of the overall transaction.\",\n",
        "\n",
        "    \"The aggregate amount payable by the Buyer to the Sellers would be affected if it is determined that the actual Closing Debt Amount is greater than the estimated Closing Debt Amount. This is a crucial factor in determining the financial aspects of the transaction (See section [specific section]).\",\n",
        "\n",
        "    \"As per the agreement's Section 2.10, the Buyer is not required to pay the Employees Closing Bonus Amount directly to the Company’s employees. The specific details of payment are outlined in the agreement.\",\n",
        "\n",
        "    \"None of the Sellers provide a representation with respect to any Tax matters related to the Company. This is explicitly stated in the agreement, and the responsibility for Tax matters is specified (See section [specific section]).\",\n",
        "\n",
        "    \"As outlined in the agreement, none of the Sellers is bound by a non-competition covenant after the Closing. This is a specific provision to define the post-Closing obligations of the Sellers (See section [specific section]).\",\n",
        "\n",
        "    \"The assignment of the Agreement by the Buyer requires the consent of specific parties. If the assignment is to an Affiliate or purchaser of all of the Buyer’s assets, no consent is required. Otherwise, the consent of the Company and the Seller Representative is required (See section [specific section]).\",\n",
        "\n",
        "    \"The Buyer needs the Sellers’ consent in the event of an assignment of the Agreement to a third party who is not a Buyer’s Affiliate. This requirement is outlined in the agreement's Section [specific section] and is a crucial aspect of the assignment process.\"\n",
        "\n",
        "\n",
        "]\n",
        "ground_truth = [\n",
        "    \"Except in the case of fraud, the Sellers have no liability for a breach of representations and warranties (See section  10.01)\",\n",
        "    \"Yes\",\n",
        "    \"$1,000,000\",\n",
        "    \"No\",\n",
        "    \"To serve as a recourse of the Buyer in case of post-closing adjustments of the purchase price. (See section  2.07(e))\",\n",
        "    \"No\",\n",
        "    \"No, as the signing and closing are simultaneous.\",\n",
        "    \"Yes. (See defining Sellers Transaction Expenses).\",\n",
        "    \"Yes (See Section  2.07)\",\n",
        "    \"No. (See Section  2.10)\",\n",
        "    \"No. Only the Company provides such a representation.\",\n",
        "    \"No.\",\n",
        "    \"If the assignment is to an Affiliate or purchaser of all of the Buyer’s assets, no consent is required. Otherwise, the consent of the Company and the Seller Representative is required.\",\n",
        "    \"No. If the assignment is not part of a sale of all or substantially all of the Buyer’s assets, the assignment requires the consent of the Company and the Seller’s Representative.\"\n",
        "]\n"
      ],
      "metadata": {
        "id": "CIUxnmiE9DR8"
      },
      "execution_count": null,
      "outputs": []
    },
    {
      "cell_type": "code",
      "source": [
        "! pip install ipython-sql==0.4.0\n"
      ],
      "metadata": {
        "colab": {
          "base_uri": "https://localhost:8080/"
        },
        "id": "PvLXlSN9M1RA",
        "outputId": "162d3ac5-671f-4662-c042-52ac486757d4"
      },
      "execution_count": null,
      "outputs": [
        {
          "output_type": "stream",
          "name": "stdout",
          "text": [
            "Collecting ipython-sql==0.4.0\n",
            "  Downloading ipython_sql-0.4.0-py3-none-any.whl (19 kB)\n",
            "Collecting prettytable<1 (from ipython-sql==0.4.0)\n",
            "  Downloading prettytable-0.7.2.zip (28 kB)\n",
            "  Preparing metadata (setup.py) ... \u001b[?25l\u001b[?25hdone\n",
            "Requirement already satisfied: ipython>=1.0 in /usr/local/lib/python3.10/dist-packages (from ipython-sql==0.4.0) (7.34.0)\n",
            "Requirement already satisfied: sqlalchemy>=0.6.7 in /usr/local/lib/python3.10/dist-packages (from ipython-sql==0.4.0) (2.0.27)\n",
            "Requirement already satisfied: sqlparse in /usr/local/lib/python3.10/dist-packages (from ipython-sql==0.4.0) (0.4.4)\n",
            "Requirement already satisfied: six in /usr/local/lib/python3.10/dist-packages (from ipython-sql==0.4.0) (1.16.0)\n",
            "Requirement already satisfied: ipython-genutils>=0.1.0 in /usr/local/lib/python3.10/dist-packages (from ipython-sql==0.4.0) (0.2.0)\n",
            "Requirement already satisfied: setuptools>=18.5 in /usr/local/lib/python3.10/dist-packages (from ipython>=1.0->ipython-sql==0.4.0) (67.7.2)\n",
            "Collecting jedi>=0.16 (from ipython>=1.0->ipython-sql==0.4.0)\n",
            "  Downloading jedi-0.19.1-py2.py3-none-any.whl (1.6 MB)\n",
            "\u001b[2K     \u001b[90m━━━━━━━━━━━━━━━━━━━━━━━━━━━━━━━━━━━━━━━━\u001b[0m \u001b[32m1.6/1.6 MB\u001b[0m \u001b[31m9.3 MB/s\u001b[0m eta \u001b[36m0:00:00\u001b[0m\n",
            "\u001b[?25hRequirement already satisfied: decorator in /usr/local/lib/python3.10/dist-packages (from ipython>=1.0->ipython-sql==0.4.0) (4.4.2)\n",
            "Requirement already satisfied: pickleshare in /usr/local/lib/python3.10/dist-packages (from ipython>=1.0->ipython-sql==0.4.0) (0.7.5)\n",
            "Requirement already satisfied: traitlets>=4.2 in /usr/local/lib/python3.10/dist-packages (from ipython>=1.0->ipython-sql==0.4.0) (5.7.1)\n",
            "Requirement already satisfied: prompt-toolkit!=3.0.0,!=3.0.1,<3.1.0,>=2.0.0 in /usr/local/lib/python3.10/dist-packages (from ipython>=1.0->ipython-sql==0.4.0) (3.0.43)\n",
            "Requirement already satisfied: pygments in /usr/local/lib/python3.10/dist-packages (from ipython>=1.0->ipython-sql==0.4.0) (2.16.1)\n",
            "Requirement already satisfied: backcall in /usr/local/lib/python3.10/dist-packages (from ipython>=1.0->ipython-sql==0.4.0) (0.2.0)\n",
            "Requirement already satisfied: matplotlib-inline in /usr/local/lib/python3.10/dist-packages (from ipython>=1.0->ipython-sql==0.4.0) (0.1.6)\n",
            "Requirement already satisfied: pexpect>4.3 in /usr/local/lib/python3.10/dist-packages (from ipython>=1.0->ipython-sql==0.4.0) (4.9.0)\n",
            "Requirement already satisfied: typing-extensions>=4.6.0 in /usr/local/lib/python3.10/dist-packages (from sqlalchemy>=0.6.7->ipython-sql==0.4.0) (4.9.0)\n",
            "Requirement already satisfied: greenlet!=0.4.17 in /usr/local/lib/python3.10/dist-packages (from sqlalchemy>=0.6.7->ipython-sql==0.4.0) (3.0.3)\n",
            "Requirement already satisfied: parso<0.9.0,>=0.8.3 in /usr/local/lib/python3.10/dist-packages (from jedi>=0.16->ipython>=1.0->ipython-sql==0.4.0) (0.8.3)\n",
            "Requirement already satisfied: ptyprocess>=0.5 in /usr/local/lib/python3.10/dist-packages (from pexpect>4.3->ipython>=1.0->ipython-sql==0.4.0) (0.7.0)\n",
            "Requirement already satisfied: wcwidth in /usr/local/lib/python3.10/dist-packages (from prompt-toolkit!=3.0.0,!=3.0.1,<3.1.0,>=2.0.0->ipython>=1.0->ipython-sql==0.4.0) (0.2.13)\n",
            "Building wheels for collected packages: prettytable\n",
            "  Building wheel for prettytable (setup.py) ... \u001b[?25l\u001b[?25hdone\n",
            "  Created wheel for prettytable: filename=prettytable-0.7.2-py3-none-any.whl size=13696 sha256=f47dbce39bfd9cb2e81cf7bbc120a3a8f0533f36c63bdc97c21ab4816f53fe3d\n",
            "  Stored in directory: /root/.cache/pip/wheels/25/4b/07/18c5d92824315576e478206ea69df34a9e31958f6143eb0e31\n",
            "Successfully built prettytable\n",
            "Installing collected packages: prettytable, jedi, ipython-sql\n",
            "  Attempting uninstall: prettytable\n",
            "    Found existing installation: prettytable 3.9.0\n",
            "    Uninstalling prettytable-3.9.0:\n",
            "      Successfully uninstalled prettytable-3.9.0\n",
            "  Attempting uninstall: ipython-sql\n",
            "    Found existing installation: ipython-sql 0.5.0\n",
            "    Uninstalling ipython-sql-0.5.0:\n",
            "      Successfully uninstalled ipython-sql-0.5.0\n",
            "Successfully installed ipython-sql-0.4.0 jedi-0.19.1 prettytable-0.7.2\n"
          ]
        }
      ]
    },
    {
      "cell_type": "code",
      "source": [
        "! pip install datasets\n"
      ],
      "metadata": {
        "colab": {
          "base_uri": "https://localhost:8080/"
        },
        "id": "S2F-GmOFNM77",
        "outputId": "c3dfdfa9-141f-42b7-ddf4-90b695f7bd11"
      },
      "execution_count": null,
      "outputs": [
        {
          "output_type": "stream",
          "name": "stdout",
          "text": [
            "Requirement already satisfied: datasets in /usr/local/lib/python3.10/dist-packages (2.17.1)\n",
            "Requirement already satisfied: filelock in /usr/local/lib/python3.10/dist-packages (from datasets) (3.13.1)\n",
            "Requirement already satisfied: numpy>=1.17 in /usr/local/lib/python3.10/dist-packages (from datasets) (1.25.2)\n",
            "Requirement already satisfied: pyarrow>=12.0.0 in /usr/local/lib/python3.10/dist-packages (from datasets) (14.0.2)\n",
            "Requirement already satisfied: pyarrow-hotfix in /usr/local/lib/python3.10/dist-packages (from datasets) (0.6)\n",
            "Requirement already satisfied: dill<0.3.9,>=0.3.0 in /usr/local/lib/python3.10/dist-packages (from datasets) (0.3.8)\n",
            "Requirement already satisfied: pandas in /usr/local/lib/python3.10/dist-packages (from datasets) (1.5.3)\n",
            "Requirement already satisfied: requests>=2.19.0 in /usr/local/lib/python3.10/dist-packages (from datasets) (2.31.0)\n",
            "Requirement already satisfied: tqdm>=4.62.1 in /usr/local/lib/python3.10/dist-packages (from datasets) (4.66.2)\n",
            "Requirement already satisfied: xxhash in /usr/local/lib/python3.10/dist-packages (from datasets) (3.4.1)\n",
            "Requirement already satisfied: multiprocess in /usr/local/lib/python3.10/dist-packages (from datasets) (0.70.16)\n",
            "Requirement already satisfied: fsspec[http]<=2023.10.0,>=2023.1.0 in /usr/local/lib/python3.10/dist-packages (from datasets) (2023.6.0)\n",
            "Requirement already satisfied: aiohttp in /usr/local/lib/python3.10/dist-packages (from datasets) (3.9.3)\n",
            "Requirement already satisfied: huggingface-hub>=0.19.4 in /usr/local/lib/python3.10/dist-packages (from datasets) (0.20.3)\n",
            "Requirement already satisfied: packaging in /usr/local/lib/python3.10/dist-packages (from datasets) (23.2)\n",
            "Requirement already satisfied: pyyaml>=5.1 in /usr/local/lib/python3.10/dist-packages (from datasets) (6.0.1)\n",
            "Requirement already satisfied: aiosignal>=1.1.2 in /usr/local/lib/python3.10/dist-packages (from aiohttp->datasets) (1.3.1)\n",
            "Requirement already satisfied: attrs>=17.3.0 in /usr/local/lib/python3.10/dist-packages (from aiohttp->datasets) (23.2.0)\n",
            "Requirement already satisfied: frozenlist>=1.1.1 in /usr/local/lib/python3.10/dist-packages (from aiohttp->datasets) (1.4.1)\n",
            "Requirement already satisfied: multidict<7.0,>=4.5 in /usr/local/lib/python3.10/dist-packages (from aiohttp->datasets) (6.0.5)\n",
            "Requirement already satisfied: yarl<2.0,>=1.0 in /usr/local/lib/python3.10/dist-packages (from aiohttp->datasets) (1.9.4)\n",
            "Requirement already satisfied: async-timeout<5.0,>=4.0 in /usr/local/lib/python3.10/dist-packages (from aiohttp->datasets) (4.0.3)\n",
            "Requirement already satisfied: typing-extensions>=3.7.4.3 in /usr/local/lib/python3.10/dist-packages (from huggingface-hub>=0.19.4->datasets) (4.9.0)\n",
            "Requirement already satisfied: charset-normalizer<4,>=2 in /usr/local/lib/python3.10/dist-packages (from requests>=2.19.0->datasets) (3.3.2)\n",
            "Requirement already satisfied: idna<4,>=2.5 in /usr/local/lib/python3.10/dist-packages (from requests>=2.19.0->datasets) (3.6)\n",
            "Requirement already satisfied: urllib3<3,>=1.21.1 in /usr/local/lib/python3.10/dist-packages (from requests>=2.19.0->datasets) (2.0.7)\n",
            "Requirement already satisfied: certifi>=2017.4.17 in /usr/local/lib/python3.10/dist-packages (from requests>=2.19.0->datasets) (2024.2.2)\n",
            "Requirement already satisfied: python-dateutil>=2.8.1 in /usr/local/lib/python3.10/dist-packages (from pandas->datasets) (2.8.2)\n",
            "Requirement already satisfied: pytz>=2020.1 in /usr/local/lib/python3.10/dist-packages (from pandas->datasets) (2023.4)\n",
            "Requirement already satisfied: six>=1.5 in /usr/local/lib/python3.10/dist-packages (from python-dateutil>=2.8.1->pandas->datasets) (1.16.0)\n"
          ]
        }
      ]
    },
    {
      "cell_type": "code",
      "source": [
        "from datasets import Dataset\n",
        "import pandas as pd\n",
        "\n",
        "# Initialize empty list for QAC triples\n",
        "qac_triples = []\n",
        "\n",
        "for question, ground_truth in zip(questions, ground_truth):\n",
        "    output_dict = {\n",
        "        \"question\": question,\n",
        "        \"context\": context,\n",
        "        \"ground_truth\": ground_truth\n",
        "    }\n",
        "    qac_triples.append(output_dict)\n",
        "\n",
        "# Convert QAC triples to DataFrame\n",
        "ground_truth_qac_set = pd.DataFrame(qac_triples)\n",
        "\n",
        "# Rename column for consistency\n",
        "ground_truth_qac_set = ground_truth_qac_set.rename(columns={\"ground_truth\": \"answer\"})\n",
        "\n",
        "# Create a dataset from the DataFrame\n",
        "eval_dataset = Dataset.from_pandas(ground_truth_qac_set)\n"
      ],
      "metadata": {
        "id": "qno_UAxP8xfw"
      },
      "execution_count": null,
      "outputs": []
    },
    {
      "cell_type": "code",
      "source": [
        "eval_dataset[0]"
      ],
      "metadata": {
        "colab": {
          "base_uri": "https://localhost:8080/"
        },
        "id": "KMVc_XXm9KLd",
        "outputId": "1dfe003b-2a76-48b8-921e-1d46de5c5191"
      },
      "execution_count": null,
      "outputs": [
        {
          "output_type": "execute_result",
          "data": {
            "text/plain": [
              "{'question': 'Under what circumstances and to what extent the Sellers are responsible for a breach of representations and warranties?',\n",
              " 'context': ['In the agreement, it is specified that except in the case of fraud, the Sellers have no liability for a breach of representations and warranties (See section 10.01). This clause outlines the circumstances under which Sellers are responsible.',\n",
              "  'According to the agreement, the Sellers would be responsible if, after the closing, it is determined that there were inaccuracies in the representation provided by them, where such inaccuracies are the result of the Sellers’ gross negligence. This is outlined in detail in the agreement, section [specific section].',\n",
              "  'The escrow amount specified in the agreement is $1,000,000. This amount is held in escrow to fulfill specific obligations and is a crucial part of the overall transaction (See section [specific section]).',\n",
              "  'As per the agreement, the escrow amount is not greater than the Retention Amount. This is explicitly stated in the contract to define the relationship between the escrow amount and the Retention Amount (See section [specific section]).',\n",
              "  \"The purpose of the escrow, as defined in the agreement's section [specific section], is to serve as a recourse for the Buyer in case of post-closing adjustments of the purchase price. It plays a key role in ensuring the financial aspects of the transaction.\",\n",
              "  \"According to the agreement, the Escrow Amount may serve as a recourse for the Buyer in case of a breach of representations by the Company. This is an important provision to protect the Buyer's interests (See section [specific section]).\",\n",
              "  'The agreement outlines specific conditions to the closing. Notably, the signing and closing are simultaneous, and there are no additional conditions mentioned (See section [specific section]).',\n",
              "  'Change of Control Payments are considered a Seller Transaction Expense, as defined in the agreement (See section [specific section]). This clarifies the treatment of Change of Control Payments in the context of the overall transaction.',\n",
              "  'The aggregate amount payable by the Buyer to the Sellers would be affected if it is determined that the actual Closing Debt Amount is greater than the estimated Closing Debt Amount. This is a crucial factor in determining the financial aspects of the transaction (See section [specific section]).',\n",
              "  \"As per the agreement's Section 2.10, the Buyer is not required to pay the Employees Closing Bonus Amount directly to the Company’s employees. The specific details of payment are outlined in the agreement.\",\n",
              "  'None of the Sellers provide a representation with respect to any Tax matters related to the Company. This is explicitly stated in the agreement, and the responsibility for Tax matters is specified (See section [specific section]).',\n",
              "  'As outlined in the agreement, none of the Sellers is bound by a non-competition covenant after the Closing. This is a specific provision to define the post-Closing obligations of the Sellers (See section [specific section]).',\n",
              "  'The assignment of the Agreement by the Buyer requires the consent of specific parties. If the assignment is to an Affiliate or purchaser of all of the Buyer’s assets, no consent is required. Otherwise, the consent of the Company and the Seller Representative is required (See section [specific section]).',\n",
              "  \"The Buyer needs the Sellers’ consent in the event of an assignment of the Agreement to a third party who is not a Buyer’s Affiliate. This requirement is outlined in the agreement's Section [specific section] and is a crucial aspect of the assignment process.\"],\n",
              " 'answer': 'Except in the case of fraud, the Sellers have no liability for a breach of representations and warranties (See section  10.01)'}"
            ]
          },
          "metadata": {},
          "execution_count": 36
        }
      ]
    },
    {
      "cell_type": "code",
      "source": [
        "def create_ragas_dataset(rag_pipeline, eval_dataset):\n",
        "    rag_dataset = []\n",
        "    for row in tqdm(eval_dataset):\n",
        "        answer = rag_pipeline.invoke({\"question\": row[\"question\"]})\n",
        "        rag_dataset.append(\n",
        "            {\"question\": row[\"question\"],\n",
        "             \"answer\": str(answer[\"response\"]),  # Convert to string\n",
        "             \"contexts\": [row[\"context\"]],\n",
        "             \"ground_truths\": [row[\"answer\"]]\n",
        "             }\n",
        "        )\n",
        "    rag_df = pd.DataFrame(rag_dataset)\n",
        "    rag_eval_dataset = Dataset.from_pandas(rag_df)\n",
        "    return rag_eval_dataset\n"
      ],
      "metadata": {
        "id": "fFesthkoJaIu"
      },
      "execution_count": null,
      "outputs": []
    },
    {
      "cell_type": "code",
      "source": [
        "from datasets import Features, Sequence, Value, Dataset\n",
        "\n",
        "def create_ragas_dataset(rag_pipeline, eval_dataset):\n",
        "    # Define the features explicitly\n",
        "    features = Features({\n",
        "        \"question\": Value(\"string\"),\n",
        "        \"answer\": Value(\"string\"),\n",
        "        \"contexts\": Sequence(Value(\"string\")),\n",
        "        \"ground_truths\": Sequence(Value(\"string\"))\n",
        "    })\n",
        "\n",
        "    rag_dataset = []\n",
        "    for row in tqdm(eval_dataset):\n",
        "        answer = rag_pipeline.invoke({\"question\": row[\"question\"]})\n",
        "        rag_dataset.append(\n",
        "            {\n",
        "                \"question\": row[\"question\"],\n",
        "                \"answer\": str(answer[\"response\"]),  # Convert to string\n",
        "                \"contexts\": [row[\"context\"]],\n",
        "                \"ground_truths\": [row[\"answer\"]]\n",
        "            }\n",
        "        )\n",
        "\n",
        "    # Extract the data from the created dataset\n",
        "    data = {\"question\": [], \"answer\": [], \"contexts\": [], \"ground_truths\": []}\n",
        "    for example in rag_dataset:\n",
        "        data[\"question\"].append(example[\"question\"])\n",
        "        data[\"answer\"].append(example[\"answer\"])\n",
        "        data[\"contexts\"].append(example[\"contexts\"])\n",
        "        data[\"ground_truths\"].append(example[\"ground_truths\"])\n",
        "\n",
        "    # Create the final dataset\n",
        "    rag_eval_dataset = Dataset.from_dict(data, features=features)\n",
        "    return rag_eval_dataset\n",
        "\n",
        "from tqdm import tqdm\n",
        "import pandas as pd\n",
        "basic_qa_ragas_dataset = create_ragas_dataset(retrieval_augmented_qa_chain, eval_dataset)\n"
      ],
      "metadata": {
        "colab": {
          "base_uri": "https://localhost:8080/"
        },
        "id": "7zWHo-79P_TI",
        "outputId": "1a60d033-65c4-4b44-a086-d4ee664a5ec9"
      },
      "execution_count": null,
      "outputs": [
        {
          "output_type": "stream",
          "name": "stderr",
          "text": [
            "100%|██████████| 14/14 [00:13<00:00,  1.06it/s]\n"
          ]
        }
      ]
    },
    {
      "cell_type": "code",
      "source": [
        "from ragas.metrics.critique import harmfulness\n",
        "from ragas import evaluate"
      ],
      "metadata": {
        "id": "AvVgkLVs9QwH"
      },
      "execution_count": null,
      "outputs": []
    },
    {
      "cell_type": "code",
      "source": [],
      "metadata": {
        "id": "Jm-CXA3PC6sX"
      },
      "execution_count": null,
      "outputs": []
    },
    {
      "cell_type": "code",
      "source": [
        "from ragas.metrics import (\n",
        "    context_precision,\n",
        "    faithfulness,\n",
        "    answer_relevancy,\n",
        "    context_recall,\n",
        "    context_relevancy,\n",
        "    answer_correctness,\n",
        "    answer_similarity\n",
        ")\n"
      ],
      "metadata": {
        "id": "xcAGrPfwiExE"
      },
      "execution_count": null,
      "outputs": []
    },
    {
      "cell_type": "code",
      "source": [
        "def evaluate_ragas_dataset(ragas_dataset):\n",
        "    result = evaluate(\n",
        "        ragas_dataset,\n",
        "        metrics=[\n",
        "            context_precision,\n",
        "            answer_relevancy,\n",
        "            context_recall,\n",
        "            context_relevancy,\n",
        "            answer_correctness,\n",
        "            answer_similarity\n",
        "        ],\n",
        "    )\n",
        "    return result\n",
        "\n",
        "basic_qa_result = evaluate_ragas_dataset(basic_qa_ragas_dataset)\n"
      ],
      "metadata": {
        "id": "XbUqwX5PAKOt",
        "colab": {
          "base_uri": "https://localhost:8080/",
          "height": 86,
          "referenced_widgets": [
            "009b803fe43f4d24b28ad78f97355c42",
            "5894d1e8f28343c5888eb8ffd7869019",
            "dce9c4b8ddac4ae6860314c5adbf4996",
            "56c0ef98fa0347ca86da05651528b1ff",
            "4fd55d36ec5c4ca2a04ef70db303b334",
            "e53e304bfb8541878bcac11dd177bf3b",
            "bc7826910cad4b21bdc36d79fab0fde7",
            "701e6ac8ae8e457d948b39387778efaa",
            "c6bfe393599f45ccbe8d9d8a24b1c266",
            "6c52088cf1ff4a1eae62cd0444dd4d3a",
            "0b00e2b62ecf4099a504e4505f481d52"
          ]
        },
        "outputId": "23aa7504-68bb-429f-85d6-7e1d385f372a"
      },
      "execution_count": null,
      "outputs": [
        {
          "output_type": "stream",
          "name": "stderr",
          "text": [
            "WARNING:ragas.validation:passing column names as 'ground_truths' is deprecated and will be removed in the next version, please use 'ground_truth' instead. Note that `ground_truth` should be of type string and not Sequence[string] like `ground_truths`\n"
          ]
        },
        {
          "output_type": "display_data",
          "data": {
            "text/plain": [
              "Evaluating:   0%|          | 0/84 [00:00<?, ?it/s]"
            ],
            "application/vnd.jupyter.widget-view+json": {
              "version_major": 2,
              "version_minor": 0,
              "model_id": "009b803fe43f4d24b28ad78f97355c42"
            }
          },
          "metadata": {}
        }
      ]
    },
    {
      "cell_type": "code",
      "source": [
        "print(basic_qa_result)\n"
      ],
      "metadata": {
        "colab": {
          "base_uri": "https://localhost:8080/"
        },
        "id": "xMEcKiVPLHHL",
        "outputId": "cc094fa0-f01a-47fa-9db8-c6117ac2d8fb"
      },
      "execution_count": null,
      "outputs": [
        {
          "output_type": "stream",
          "name": "stdout",
          "text": [
            "{'context_precision': 1.0000, 'answer_relevancy': 0.7451, 'context_recall': 0.8929, 'context_relevancy': 0.0677, 'answer_correctness': 0.4027, 'answer_similarity': 0.7894}\n"
          ]
        }
      ]
    },
    {
      "cell_type": "code",
      "source": [
        "for key, value in basic_qa_result.items():\n",
        "    print(f\"{key}: {value}\")\n"
      ],
      "metadata": {
        "colab": {
          "base_uri": "https://localhost:8080/"
        },
        "id": "7tWbYdJELOSb",
        "outputId": "f59f0847-1757-4961-a603-cca996c8f7a6"
      },
      "execution_count": null,
      "outputs": [
        {
          "output_type": "stream",
          "name": "stdout",
          "text": [
            "context_precision: 0.9999999999\n",
            "answer_relevancy: 0.7451324981516265\n",
            "context_recall: 0.8928571428571429\n",
            "context_relevancy: 0.0676691729323308\n",
            "answer_correctness: 0.4027409060805227\n",
            "answer_similarity: 0.7894335639086847\n"
          ]
        }
      ]
    },
    {
      "cell_type": "code",
      "source": [
        "basic_qa_result = {\n",
        "    \"context_precision\": 0.9999999999,\n",
        "    \"answer_relevancy\": 0.7451324981516265,\n",
        "    \"context_recall\": 0.8928571428571429,\n",
        "    \"context_relevancy\": 0.0676691729323308,\n",
        "    \"answer_correctness\": 0.4027409060805227,\n",
        "    \"answer_similarity\": 0.7894335639086847\n",
        "}\n",
        "\n",
        "for key, value in basic_qa_result.items():\n",
        "    rounded_value = round(value, 2)\n",
        "    print(f\"{key}: {rounded_value}\")\n"
      ],
      "metadata": {
        "colab": {
          "base_uri": "https://localhost:8080/"
        },
        "id": "afTZ3BI9F4ec",
        "outputId": "a07de9e0-5f91-4766-d1f3-be9fb13b8b41"
      },
      "execution_count": null,
      "outputs": [
        {
          "output_type": "stream",
          "name": "stdout",
          "text": [
            "context_precision: 1.0\n",
            "answer_relevancy: 0.75\n",
            "context_recall: 0.89\n",
            "context_relevancy: 0.07\n",
            "answer_correctness: 0.4\n",
            "answer_similarity: 0.79\n"
          ]
        }
      ]
    },
    {
      "cell_type": "code",
      "source": [
        "result = {\n",
        "    \"context_precision\": 0.9999999999,\n",
        "    \"answer_relevancy\": 0.8176936401324463,\n",
        "    \"context_recall\": 0.9285714285714286,\n",
        "    \"context_relevancy\": 0.05263157894736841,\n",
        "    \"answer_correctness\": 0.34139467422390923,\n",
        "    \"answer_similarity\": 0.7940396979278532\n",
        "}\n",
        "\n",
        "for key, value in result.items():\n",
        "    rounded_value = round(value, 2)\n",
        "    print(f\"{key}: {rounded_value}\")\n"
      ],
      "metadata": {
        "colab": {
          "base_uri": "https://localhost:8080/"
        },
        "id": "EfOeVIUiGlGo",
        "outputId": "738ba305-d3ab-40f8-e190-b3db18a419ec"
      },
      "execution_count": null,
      "outputs": [
        {
          "output_type": "stream",
          "name": "stdout",
          "text": [
            "context_precision: 1.0\n",
            "answer_relevancy: 0.82\n",
            "context_recall: 0.93\n",
            "context_relevancy: 0.05\n",
            "answer_correctness: 0.34\n",
            "answer_similarity: 0.79\n"
          ]
        }
      ]
    },
    {
      "cell_type": "code",
      "execution_count": null,
      "metadata": {
        "id": "WOwTozgIaWJO"
      },
      "outputs": [],
      "source": [
        "import matplotlib.pyplot as plt\n",
        "def plot_metrics_with_values(metrics_dict, title='RAG Metrics'):\n",
        "    \"\"\"\n",
        "    Plots a bar chart for metrics contained in a dictionary and annotates the values on the bars.\n",
        "    Args:\n",
        "    metrics_dict (dict): A dictionary with metric names as keys and values as metric scores.\n",
        "    title (str): The title of the plot.\n",
        "    \"\"\"\n",
        "    names = list(metrics_dict.keys())\n",
        "    values = list(metrics_dict.values())\n",
        "    plt.figure(figsize=(10, 6))\n",
        "    bars = plt.barh(names, values, color='skyblue')\n",
        "    # Adding the values on top of the bars\n",
        "    for bar in bars:\n",
        "        width = bar.get_width()\n",
        "        plt.text(width + 0.01,  # x-position\n",
        "                 bar.get_y() + bar.get_height() / 2,  # y-position\n",
        "                 f'{width:.4f}',  # value\n",
        "                 va='center')\n",
        "    plt.xlabel('Score')\n",
        "    plt.title(title)\n",
        "    plt.xlim(0, 1)  # Setting the x-axis limit to be from 0 to 1\n",
        "    plt.show()"
      ]
    },
    {
      "cell_type": "code",
      "source": [
        "plot_metrics_with_values(basic_qa_result, \"Revised Retriever ragas Metrics\")\n"
      ],
      "metadata": {
        "colab": {
          "base_uri": "https://localhost:8080/",
          "height": 564
        },
        "id": "xgyEBa9tlySh",
        "outputId": "80d00bbd-0cdb-4f3d-dcb9-213e1b5b0073"
      },
      "execution_count": null,
      "outputs": [
        {
          "output_type": "display_data",
          "data": {
            "text/plain": [
              "<Figure size 1000x600 with 1 Axes>"
            ],
            "image/png": "[encoded data removed]"
          },
          "metadata": {}
        }
      ]
    },
    {
      "cell_type": "code",
      "source": [],
      "metadata": {
        "id": "JabsamldlzN-"
      },
      "execution_count": null,
      "outputs": []
    }
  ],
  "metadata": {
    "colab": {
      "provenance": [],
      "gpuType": "T4",
      "include_colab_link": true
    },
    "kernelspec": {
      "display_name": "Python 3",
      "name": "python3"
    },
    "language_info": {
      "codemirror_mode": {
        "name": "ipython",
        "version": 3
      },
      "file_extension": ".py",
      "mimetype": "text/x-python",
      "name": "python",
      "nbconvert_exporter": "python",
      "pygments_lexer": "ipython3",
      "version": "3.11.5"
    },
    "accelerator": "GPU",
    "widgets": {
      "application/vnd.jupyter.widget-state+json": {
        "009b803fe43f4d24b28ad78f97355c42": {
          "model_module": "@jupyter-widgets/controls",
          "model_name": "HBoxModel",
          "model_module_version": "1.5.0",
          "state": {
            "_dom_classes": [],
            "_model_module": "@jupyter-widgets/controls",
            "_model_module_version": "1.5.0",
            "_model_name": "HBoxModel",
            "_view_count": null,
            "_view_module": "@jupyter-widgets/controls",
            "_view_module_version": "1.5.0",
            "_view_name": "HBoxView",
            "box_style": "",
            "children": [
              "IPY_MODEL_5894d1e8f28343c5888eb8ffd7869019",
              "IPY_MODEL_dce9c4b8ddac4ae6860314c5adbf4996",
              "IPY_MODEL_56c0ef98fa0347ca86da05651528b1ff"
            ],
            "layout": "IPY_MODEL_4fd55d36ec5c4ca2a04ef70db303b334"
          }
        },
        "5894d1e8f28343c5888eb8ffd7869019": {
          "model_module": "@jupyter-widgets/controls",
          "model_name": "HTMLModel",
          "model_module_version": "1.5.0",
          "state": {
            "_dom_classes": [],
            "_model_module": "@jupyter-widgets/controls",
            "_model_module_version": "1.5.0",
            "_model_name": "HTMLModel",
            "_view_count": null,
            "_view_module": "@jupyter-widgets/controls",
            "_view_module_version": "1.5.0",
            "_view_name": "HTMLView",
            "description": "",
            "description_tooltip": null,
            "layout": "IPY_MODEL_e53e304bfb8541878bcac11dd177bf3b",
            "placeholder": "​",
            "style": "IPY_MODEL_bc7826910cad4b21bdc36d79fab0fde7",
            "value": "Evaluating: 100%"
          }
        },
        "dce9c4b8ddac4ae6860314c5adbf4996": {
          "model_module": "@jupyter-widgets/controls",
          "model_name": "FloatProgressModel",
          "model_module_version": "1.5.0",
          "state": {
            "_dom_classes": [],
            "_model_module": "@jupyter-widgets/controls",
            "_model_module_version": "1.5.0",
            "_model_name": "FloatProgressModel",
            "_view_count": null,
            "_view_module": "@jupyter-widgets/controls",
            "_view_module_version": "1.5.0",
            "_view_name": "ProgressView",
            "bar_style": "success",
            "description": "",
            "description_tooltip": null,
            "layout": "IPY_MODEL_701e6ac8ae8e457d948b39387778efaa",
            "max": 84,
            "min": 0,
            "orientation": "horizontal",
            "style": "IPY_MODEL_c6bfe393599f45ccbe8d9d8a24b1c266",
            "value": 84
          }
        },
        "56c0ef98fa0347ca86da05651528b1ff": {
          "model_module": "@jupyter-widgets/controls",
          "model_name": "HTMLModel",
          "model_module_version": "1.5.0",
          "state": {
            "_dom_classes": [],
            "_model_module": "@jupyter-widgets/controls",
            "_model_module_version": "1.5.0",
            "_model_name": "HTMLModel",
            "_view_count": null,
            "_view_module": "@jupyter-widgets/controls",
            "_view_module_version": "1.5.0",
            "_view_name": "HTMLView",
            "description": "",
            "description_tooltip": null,
            "layout": "IPY_MODEL_6c52088cf1ff4a1eae62cd0444dd4d3a",
            "placeholder": "​",
            "style": "IPY_MODEL_0b00e2b62ecf4099a504e4505f481d52",
            "value": " 84/84 [00:17&lt;00:00, 10.00it/s]"
          }
        },
        "4fd55d36ec5c4ca2a04ef70db303b334": {
          "model_module": "@jupyter-widgets/base",
          "model_name": "LayoutModel",
          "model_module_version": "1.2.0",
          "state": {
            "_model_module": "@jupyter-widgets/base",
            "_model_module_version": "1.2.0",
            "_model_name": "LayoutModel",
            "_view_count": null,
            "_view_module": "@jupyter-widgets/base",
            "_view_module_version": "1.2.0",
            "_view_name": "LayoutView",
            "align_content": null,
            "align_items": null,
            "align_self": null,
            "border": null,
            "bottom": null,
            "display": null,
            "flex": null,
            "flex_flow": null,
            "grid_area": null,
            "grid_auto_columns": null,
            "grid_auto_flow": null,
            "grid_auto_rows": null,
            "grid_column": null,
            "grid_gap": null,
            "grid_row": null,
            "grid_template_areas": null,
            "grid_template_columns": null,
            "grid_template_rows": null,
            "height": null,
            "justify_content": null,
            "justify_items": null,
            "left": null,
            "margin": null,
            "max_height": null,
            "max_width": null,
            "min_height": null,
            "min_width": null,
            "object_fit": null,
            "object_position": null,
            "order": null,
            "overflow": null,
            "overflow_x": null,
            "overflow_y": null,
            "padding": null,
            "right": null,
            "top": null,
            "visibility": null,
            "width": null
          }
        },
        "e53e304bfb8541878bcac11dd177bf3b": {
          "model_module": "@jupyter-widgets/base",
          "model_name": "LayoutModel",
          "model_module_version": "1.2.0",
          "state": {
            "_model_module": "@jupyter-widgets/base",
            "_model_module_version": "1.2.0",
            "_model_name": "LayoutModel",
            "_view_count": null,
            "_view_module": "@jupyter-widgets/base",
            "_view_module_version": "1.2.0",
            "_view_name": "LayoutView",
            "align_content": null,
            "align_items": null,
            "align_self": null,
            "border": null,
            "bottom": null,
            "display": null,
            "flex": null,
            "flex_flow": null,
            "grid_area": null,
            "grid_auto_columns": null,
            "grid_auto_flow": null,
            "grid_auto_rows": null,
            "grid_column": null,
            "grid_gap": null,
            "grid_row": null,
            "grid_template_areas": null,
            "grid_template_columns": null,
            "grid_template_rows": null,
            "height": null,
            "justify_content": null,
            "justify_items": null,
            "left": null,
            "margin": null,
            "max_height": null,
            "max_width": null,
            "min_height": null,
            "min_width": null,
            "object_fit": null,
            "object_position": null,
            "order": null,
            "overflow": null,
            "overflow_x": null,
            "overflow_y": null,
            "padding": null,
            "right": null,
            "top": null,
            "visibility": null,
            "width": null
          }
        },
        "bc7826910cad4b21bdc36d79fab0fde7": {
          "model_module": "@jupyter-widgets/controls",
          "model_name": "DescriptionStyleModel",
          "model_module_version": "1.5.0",
          "state": {
            "_model_module": "@jupyter-widgets/controls",
            "_model_module_version": "1.5.0",
            "_model_name": "DescriptionStyleModel",
            "_view_count": null,
            "_view_module": "@jupyter-widgets/base",
            "_view_module_version": "1.2.0",
            "_view_name": "StyleView",
            "description_width": ""
          }
        },
        "701e6ac8ae8e457d948b39387778efaa": {
          "model_module": "@jupyter-widgets/base",
          "model_name": "LayoutModel",
          "model_module_version": "1.2.0",
          "state": {
            "_model_module": "@jupyter-widgets/base",
            "_model_module_version": "1.2.0",
            "_model_name": "LayoutModel",
            "_view_count": null,
            "_view_module": "@jupyter-widgets/base",
            "_view_module_version": "1.2.0",
            "_view_name": "LayoutView",
            "align_content": null,
            "align_items": null,
            "align_self": null,
            "border": null,
            "bottom": null,
            "display": null,
            "flex": null,
            "flex_flow": null,
            "grid_area": null,
            "grid_auto_columns": null,
            "grid_auto_flow": null,
            "grid_auto_rows": null,
            "grid_column": null,
            "grid_gap": null,
            "grid_row": null,
            "grid_template_areas": null,
            "grid_template_columns": null,
            "grid_template_rows": null,
            "height": null,
            "justify_content": null,
            "justify_items": null,
            "left": null,
            "margin": null,
            "max_height": null,
            "max_width": null,
            "min_height": null,
            "min_width": null,
            "object_fit": null,
            "object_position": null,
            "order": null,
            "overflow": null,
            "overflow_x": null,
            "overflow_y": null,
            "padding": null,
            "right": null,
            "top": null,
            "visibility": null,
            "width": null
          }
        },
        "c6bfe393599f45ccbe8d9d8a24b1c266": {
          "model_module": "@jupyter-widgets/controls",
          "model_name": "ProgressStyleModel",
          "model_module_version": "1.5.0",
          "state": {
            "_model_module": "@jupyter-widgets/controls",
            "_model_module_version": "1.5.0",
            "_model_name": "ProgressStyleModel",
            "_view_count": null,
            "_view_module": "@jupyter-widgets/base",
            "_view_module_version": "1.2.0",
            "_view_name": "StyleView",
            "bar_color": null,
            "description_width": ""
          }
        },
        "6c52088cf1ff4a1eae62cd0444dd4d3a": {
          "model_module": "@jupyter-widgets/base",
          "model_name": "LayoutModel",
          "model_module_version": "1.2.0",
          "state": {
            "_model_module": "@jupyter-widgets/base",
            "_model_module_version": "1.2.0",
            "_model_name": "LayoutModel",
            "_view_count": null,
            "_view_module": "@jupyter-widgets/base",
            "_view_module_version": "1.2.0",
            "_view_name": "LayoutView",
            "align_content": null,
            "align_items": null,
            "align_self": null,
            "border": null,
            "bottom": null,
            "display": null,
            "flex": null,
            "flex_flow": null,
            "grid_area": null,
            "grid_auto_columns": null,
            "grid_auto_flow": null,
            "grid_auto_rows": null,
            "grid_column": null,
            "grid_gap": null,
            "grid_row": null,
            "grid_template_areas": null,
            "grid_template_columns": null,
            "grid_template_rows": null,
            "height": null,
            "justify_content": null,
            "justify_items": null,
            "left": null,
            "margin": null,
            "max_height": null,
            "max_width": null,
            "min_height": null,
            "min_width": null,
            "object_fit": null,
            "object_position": null,
            "order": null,
            "overflow": null,
            "overflow_x": null,
            "overflow_y": null,
            "padding": null,
            "right": null,
            "top": null,
            "visibility": null,
            "width": null
          }
        },
        "0b00e2b62ecf4099a504e4505f481d52": {
          "model_module": "@jupyter-widgets/controls",
          "model_name": "DescriptionStyleModel",
          "model_module_version": "1.5.0",
          "state": {
            "_model_module": "@jupyter-widgets/controls",
            "_model_module_version": "1.5.0",
            "_model_name": "DescriptionStyleModel",
            "_view_count": null,
            "_view_module": "@jupyter-widgets/base",
            "_view_module_version": "1.2.0",
            "_view_name": "StyleView",
            "description_width": ""
          }
        }
      }
    }
  },
  "nbformat": 4,
  "nbformat_minor": 0
}